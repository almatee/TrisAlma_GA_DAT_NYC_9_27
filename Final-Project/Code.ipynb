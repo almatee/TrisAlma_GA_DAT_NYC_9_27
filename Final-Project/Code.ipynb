{
 "cells": [
  {
   "cell_type": "markdown",
   "metadata": {},
   "source": [
    "## Aim: determine which variables predict HPV vaccination rates in New York City"
   ]
  },
  {
   "cell_type": "code",
   "execution_count": 974,
   "metadata": {
    "collapsed": true
   },
   "outputs": [],
   "source": [
    "import pandas as pd\n",
    "import numpy as np\n",
    "from matplotlib import pyplot as plt\n",
    "%matplotlib inline"
   ]
  },
  {
   "cell_type": "code",
   "execution_count": 975,
   "metadata": {
    "collapsed": false,
    "scrolled": true
   },
   "outputs": [],
   "source": [
    "# import dataset from local drive\n",
    "\n",
    "data_url = '/Users/tristanalmada/GA/TrisAlma_GA_DAT_NYC_9_27/Final-Project/HPVdata.csv'\n",
    "data = pd.read_csv(data_url, low_memory = False)\n",
    "\n",
    "# import data dictionary\n",
    "\n",
    "data_dict_url = '/Users/tristanalmada/GA/TrisAlma_GA_DAT_NYC_9_27/Final-Project/Metadata.csv'\n",
    "data_dict = pd.read_csv(data_dict_url, low_memory = False)"
   ]
  },
  {
   "cell_type": "code",
   "execution_count": 976,
   "metadata": {
    "collapsed": false
   },
   "outputs": [
    {
     "data": {
      "text/html": [
       "<div>\n",
       "<table border=\"1\" class=\"dataframe\">\n",
       "  <thead>\n",
       "    <tr style=\"text-align: right;\">\n",
       "      <th></th>\n",
       "      <th>ID</th>\n",
       "      <th>Name</th>\n",
       "      <th>Borough Number</th>\n",
       "      <th>Borough Name</th>\n",
       "      <th>Assembly District</th>\n",
       "      <th>HPV_vaccination</th>\n",
       "      <th>Hpv_vaccination_rank</th>\n",
       "      <th>lower_95CL</th>\n",
       "      <th>upper_95CL</th>\n",
       "      <th>TrumpSupport</th>\n",
       "      <th>...</th>\n",
       "      <th>reliability note.15</th>\n",
       "      <th>Imr_rank</th>\n",
       "      <th>lower_95CL.31</th>\n",
       "      <th>upper_95CL.31</th>\n",
       "      <th>Premature_Mort</th>\n",
       "      <th>Premature_mort_rank</th>\n",
       "      <th>lower_95CL.32</th>\n",
       "      <th>upper_95CL.32</th>\n",
       "      <th>Life_expectancy_rate</th>\n",
       "      <th>Life_expectancy_rank</th>\n",
       "    </tr>\n",
       "  </thead>\n",
       "  <tbody>\n",
       "    <tr>\n",
       "      <th>0</th>\n",
       "      <td>101.0</td>\n",
       "      <td>Financial District</td>\n",
       "      <td>1.0</td>\n",
       "      <td>Manhattan</td>\n",
       "      <td>65.0</td>\n",
       "      <td>40.0</td>\n",
       "      <td>24.0</td>\n",
       "      <td>36.1</td>\n",
       "      <td>43.9</td>\n",
       "      <td>0.14</td>\n",
       "      <td>...</td>\n",
       "      <td>*</td>\n",
       "      <td>58.0</td>\n",
       "      <td>0.2</td>\n",
       "      <td>2.8</td>\n",
       "      <td>75.6</td>\n",
       "      <td>59.0</td>\n",
       "      <td>64.3</td>\n",
       "      <td>86.9</td>\n",
       "      <td>85.4</td>\n",
       "      <td>1.0</td>\n",
       "    </tr>\n",
       "    <tr>\n",
       "      <th>1</th>\n",
       "      <td>102.0</td>\n",
       "      <td>Greenwich Village and Soho</td>\n",
       "      <td>1.0</td>\n",
       "      <td>Manhattan</td>\n",
       "      <td>66.0</td>\n",
       "      <td>38.0</td>\n",
       "      <td>29.0</td>\n",
       "      <td>34.7</td>\n",
       "      <td>41.4</td>\n",
       "      <td>0.08</td>\n",
       "      <td>...</td>\n",
       "      <td>*</td>\n",
       "      <td>55.0</td>\n",
       "      <td>0.2</td>\n",
       "      <td>3.8</td>\n",
       "      <td>93.3</td>\n",
       "      <td>57.0</td>\n",
       "      <td>84.0</td>\n",
       "      <td>102.6</td>\n",
       "      <td>84.3</td>\n",
       "      <td>4.0</td>\n",
       "    </tr>\n",
       "    <tr>\n",
       "      <th>2</th>\n",
       "      <td>103.0</td>\n",
       "      <td>Lower East Side and Chinatown</td>\n",
       "      <td>1.0</td>\n",
       "      <td>Manhattan</td>\n",
       "      <td>74.0</td>\n",
       "      <td>60.0</td>\n",
       "      <td>3.0</td>\n",
       "      <td>58.1</td>\n",
       "      <td>61.6</td>\n",
       "      <td>0.11</td>\n",
       "      <td>...</td>\n",
       "      <td>NaN</td>\n",
       "      <td>50.0</td>\n",
       "      <td>1.1</td>\n",
       "      <td>3.7</td>\n",
       "      <td>183.0</td>\n",
       "      <td>27.0</td>\n",
       "      <td>173.3</td>\n",
       "      <td>192.7</td>\n",
       "      <td>80.9</td>\n",
       "      <td>30.0</td>\n",
       "    </tr>\n",
       "  </tbody>\n",
       "</table>\n",
       "<p>3 rows × 197 columns</p>\n",
       "</div>"
      ],
      "text/plain": [
       "      ID                           Name  Borough Number Borough Name  \\\n",
       "0  101.0             Financial District             1.0    Manhattan   \n",
       "1  102.0     Greenwich Village and Soho             1.0    Manhattan   \n",
       "2  103.0  Lower East Side and Chinatown             1.0    Manhattan   \n",
       "\n",
       "   Assembly District  HPV_vaccination  Hpv_vaccination_rank  lower_95CL  \\\n",
       "0               65.0             40.0                  24.0        36.1   \n",
       "1               66.0             38.0                  29.0        34.7   \n",
       "2               74.0             60.0                   3.0        58.1   \n",
       "\n",
       "   upper_95CL  TrumpSupport          ...           reliability note.15  \\\n",
       "0        43.9          0.14          ...                             *   \n",
       "1        41.4          0.08          ...                             *   \n",
       "2        61.6          0.11          ...                           NaN   \n",
       "\n",
       "   Imr_rank  lower_95CL.31  upper_95CL.31  Premature_Mort  \\\n",
       "0      58.0            0.2            2.8            75.6   \n",
       "1      55.0            0.2            3.8            93.3   \n",
       "2      50.0            1.1            3.7           183.0   \n",
       "\n",
       "   Premature_mort_rank  lower_95CL.32  upper_95CL.32  Life_expectancy_rate  \\\n",
       "0                 59.0           64.3           86.9                  85.4   \n",
       "1                 57.0           84.0          102.6                  84.3   \n",
       "2                 27.0          173.3          192.7                  80.9   \n",
       "\n",
       "   Life_expectancy_rank  \n",
       "0                   1.0  \n",
       "1                   4.0  \n",
       "2                  30.0  \n",
       "\n",
       "[3 rows x 197 columns]"
      ]
     },
     "execution_count": 976,
     "metadata": {},
     "output_type": "execute_result"
    }
   ],
   "source": [
    "# print top 5 rows of data\n",
    "\n",
    "data.head(3)"
   ]
  },
  {
   "cell_type": "code",
   "execution_count": 1017,
   "metadata": {
    "collapsed": false
   },
   "outputs": [
    {
     "data": {
      "text/html": [
       "<div>\n",
       "<table border=\"1\" class=\"dataframe\">\n",
       "  <thead>\n",
       "    <tr style=\"text-align: right;\">\n",
       "      <th></th>\n",
       "      <th>Page in profiles</th>\n",
       "      <th>Variable name</th>\n",
       "      <th>Full name</th>\n",
       "      <th>Definition</th>\n",
       "      <th>Data Source</th>\n",
       "      <th>Data Years</th>\n",
       "      <th>Denominator source</th>\n",
       "      <th>Analyses Completed by</th>\n",
       "      <th>Clarification of Methods/Data Limitations (if any)</th>\n",
       "      <th>Age-adjusted?</th>\n",
       "      <th>Direction of ranking</th>\n",
       "      <th>PUMA, Sub-borough, or Community District-level data?</th>\n",
       "    </tr>\n",
       "  </thead>\n",
       "  <tbody>\n",
       "    <tr>\n",
       "      <th>46</th>\n",
       "      <td>NaN</td>\n",
       "      <td>NaN</td>\n",
       "      <td>NaN</td>\n",
       "      <td>NaN</td>\n",
       "      <td>NaN</td>\n",
       "      <td>NaN</td>\n",
       "      <td>NaN</td>\n",
       "      <td>NaN</td>\n",
       "      <td>NaN</td>\n",
       "      <td>NaN</td>\n",
       "      <td>NaN</td>\n",
       "      <td>NaN</td>\n",
       "    </tr>\n",
       "    <tr>\n",
       "      <th>47</th>\n",
       "      <td>NaN</td>\n",
       "      <td>NaN</td>\n",
       "      <td>NaN</td>\n",
       "      <td>NaN</td>\n",
       "      <td>NaN</td>\n",
       "      <td>NaN</td>\n",
       "      <td>NaN</td>\n",
       "      <td>NaN</td>\n",
       "      <td>NaN</td>\n",
       "      <td>NaN</td>\n",
       "      <td>NaN</td>\n",
       "      <td>NaN</td>\n",
       "    </tr>\n",
       "    <tr>\n",
       "      <th>48</th>\n",
       "      <td>NaN</td>\n",
       "      <td>NaN</td>\n",
       "      <td>NaN</td>\n",
       "      <td>NaN</td>\n",
       "      <td>NaN</td>\n",
       "      <td>NaN</td>\n",
       "      <td>NaN</td>\n",
       "      <td>NaN</td>\n",
       "      <td>NaN</td>\n",
       "      <td>NaN</td>\n",
       "      <td>NaN</td>\n",
       "      <td>NaN</td>\n",
       "    </tr>\n",
       "  </tbody>\n",
       "</table>\n",
       "</div>"
      ],
      "text/plain": [
       "   Page in profiles Variable name Full name Definition Data Source Data Years  \\\n",
       "46              NaN           NaN       NaN        NaN         NaN        NaN   \n",
       "47              NaN           NaN       NaN        NaN         NaN        NaN   \n",
       "48              NaN           NaN       NaN        NaN         NaN        NaN   \n",
       "\n",
       "   Denominator source Analyses Completed by  \\\n",
       "46                NaN                   NaN   \n",
       "47                NaN                   NaN   \n",
       "48                NaN                   NaN   \n",
       "\n",
       "   Clarification of Methods/Data Limitations (if any) Age-adjusted?  \\\n",
       "46                                                NaN           NaN   \n",
       "47                                                NaN           NaN   \n",
       "48                                                NaN           NaN   \n",
       "\n",
       "   Direction of ranking PUMA, Sub-borough, or Community District-level data?  \n",
       "46                  NaN                                                NaN    \n",
       "47                  NaN                                                NaN    \n",
       "48                  NaN                                                NaN    "
      ]
     },
     "execution_count": 1017,
     "metadata": {},
     "output_type": "execute_result"
    }
   ],
   "source": [
    "# print data dictionary\n",
    "\n",
    "data_dict.tail(3)"
   ]
  },
  {
   "cell_type": "code",
   "execution_count": 978,
   "metadata": {
    "collapsed": true
   },
   "outputs": [],
   "source": [
    "# drop last 3 rows (missing values)\n",
    "\n",
    "data = data.drop(data.index[[59,60,61]])"
   ]
  },
  {
   "cell_type": "code",
   "execution_count": 979,
   "metadata": {
    "collapsed": false
   },
   "outputs": [],
   "source": [
    "df = data[['HPV_vaccination','Unemployment','TrumpSupport','Tobaccoretail_rate','Teen_Births',\n",
    "      'Supermarketarea_rate','Sugary_Drink','Stroke_Hosp','Smoking',\n",
    "      'Self_rep_health','Schoolabsent_rate','Rent_burden',\n",
    "      'Racewhite_Rate','Raceother_rate','Racehispanic_rate',\n",
    "      'Raceblack_rate','Raceasian_rate','Psych_Hosp','Preterm_Births',\n",
    "      'Premature_Mort','Poverty','OverallPopulation_rate','Obesity',\n",
    "      'Nonwhite_rate','Ltd_Eng_Prof','Life_expectancy_rate',\n",
    "      'Late_No_Prenatal','Jailincarceration','Insurance','IMR','Housing_Defects','HIV_Testing_Ever',\n",
    "      'HIV_Diagnosis','Fruit_Veg','Foreign_born','Flu_Vaccination',\n",
    "      'Exercise','Eduhsdegreeorsomecollege_rate',\n",
    "      'Edudidnotcompletehs_rate','Educollegedegreeandhigher_rate',\n",
    "      'Drug_Hosp','Didnt_Get_Care','Diabetes','Avoidable_Diabetes',\n",
    "      'Avoidable_Asthma','Asthma_5to14',\n",
    "      'Assault_Hosps','Alc_Hosp','Airquality_rate','Age65plus_rate',\n",
    "      'Age45to64_rate','Age25to44_rate','Age18to24_rate',\n",
    "      'Age0to17_rate']]"
   ]
  },
  {
   "cell_type": "code",
   "execution_count": 980,
   "metadata": {
    "collapsed": false
   },
   "outputs": [
    {
     "data": {
      "text/plain": [
       "(59, 54)"
      ]
     },
     "execution_count": 980,
     "metadata": {},
     "output_type": "execute_result"
    }
   ],
   "source": [
    "df.shape"
   ]
  },
  {
   "cell_type": "code",
   "execution_count": 981,
   "metadata": {
    "collapsed": false,
    "scrolled": true
   },
   "outputs": [
    {
     "name": "stdout",
     "output_type": "stream",
     "text": [
      "       HPV_vaccination  Unemployment  TrumpSupport  Tobaccoretail_rate  \\\n",
      "count        59.000000     59.000000     59.000000           59.000000   \n",
      "mean         38.762712     11.016949      0.161017           11.881356   \n",
      "std          12.311109      4.002118      0.157542            7.556876   \n",
      "min          14.000000      5.000000      0.020000            6.000000   \n",
      "25%          30.000000      7.500000      0.055000            8.500000   \n",
      "50%          38.000000     10.000000      0.100000           11.000000   \n",
      "75%          49.000000     14.500000      0.220000           13.000000   \n",
      "max          63.000000     20.000000      0.690000           62.000000   \n",
      "\n",
      "       Teen_Births  Supermarketarea_rate  Sugary_Drink  Stroke_Hosp  \\\n",
      "count    59.000000             59.000000     59.000000    59.000000   \n",
      "mean     21.688136            177.305085     27.779661   315.033898   \n",
      "std      12.220518             79.510193      7.909113    83.974332   \n",
      "min       1.100000             69.000000     12.000000   140.000000   \n",
      "25%      13.750000            118.000000     22.000000   257.000000   \n",
      "50%      19.800000            164.000000     28.000000   310.000000   \n",
      "75%      31.100000            222.500000     34.000000   383.500000   \n",
      "max      44.900000            450.000000     42.000000   470.000000   \n",
      "\n",
      "         Smoking  Self_rep_health      ...        Avoidable_Asthma  \\\n",
      "count  59.000000        59.000000      ...               59.000000   \n",
      "mean   15.762712        77.728814      ...              276.813559   \n",
      "std     2.973092         7.094997      ...              209.387158   \n",
      "min    10.000000        64.000000      ...               46.000000   \n",
      "25%    13.500000        71.000000      ...              119.000000   \n",
      "50%    16.000000        79.000000      ...              218.000000   \n",
      "75%    18.000000        83.000000      ...              359.000000   \n",
      "max    22.000000        92.000000      ...              786.000000   \n",
      "\n",
      "       Asthma_5to14  Assault_Hosps     Alc_Hosp  Airquality_rate  \\\n",
      "count     59.000000      59.000000    59.000000        59.000000   \n",
      "mean      34.711864      64.389831  1062.711864         9.188136   \n",
      "std       26.798128      45.656142   558.781805         1.186575   \n",
      "min        6.000000      11.000000   233.000000         7.600000   \n",
      "25%       13.000000      27.000000   641.000000         8.400000   \n",
      "50%       24.000000      47.000000   881.000000         8.800000   \n",
      "75%       54.500000      91.500000  1302.000000         9.750000   \n",
      "max      112.000000     180.000000  2367.000000        14.300000   \n",
      "\n",
      "       Age65plus_rate  Age45to64_rate  Age25to44_rate  Age18to24_rate  \\\n",
      "count       59.000000       59.000000       59.000000       59.000000   \n",
      "mean        12.542373       24.271186       31.915254       10.237288   \n",
      "std          3.218063        3.010502        6.406592        2.095471   \n",
      "min          7.000000       17.000000       24.000000        5.000000   \n",
      "25%         10.000000       22.000000       27.000000        9.000000   \n",
      "50%         12.000000       24.000000       29.000000       10.000000   \n",
      "75%         14.500000       26.000000       34.500000       11.000000   \n",
      "max         21.000000       31.000000       50.000000       17.000000   \n",
      "\n",
      "       Age0to17_rate  \n",
      "count      59.000000  \n",
      "mean       21.152542  \n",
      "std         5.683653  \n",
      "min         7.000000  \n",
      "25%        18.500000  \n",
      "50%        22.000000  \n",
      "75%        25.000000  \n",
      "max        34.000000  \n",
      "\n",
      "[8 rows x 54 columns]\n"
     ]
    }
   ],
   "source": [
    "print df.describe()"
   ]
  },
  {
   "cell_type": "code",
   "execution_count": 1018,
   "metadata": {
    "collapsed": false
   },
   "outputs": [
    {
     "data": {
      "text/html": [
       "<div>\n",
       "<table border=\"1\" class=\"dataframe\">\n",
       "  <thead>\n",
       "    <tr style=\"text-align: right;\">\n",
       "      <th></th>\n",
       "      <th>HPV_vaccination</th>\n",
       "      <th>Unemployment</th>\n",
       "      <th>TrumpSupport</th>\n",
       "      <th>Tobaccoretail_rate</th>\n",
       "      <th>Teen_Births</th>\n",
       "      <th>Supermarketarea_rate</th>\n",
       "      <th>Sugary_Drink</th>\n",
       "      <th>Stroke_Hosp</th>\n",
       "      <th>Smoking</th>\n",
       "      <th>Self_rep_health</th>\n",
       "      <th>...</th>\n",
       "      <th>Avoidable_Asthma</th>\n",
       "      <th>Asthma_5to14</th>\n",
       "      <th>Assault_Hosps</th>\n",
       "      <th>Alc_Hosp</th>\n",
       "      <th>Airquality_rate</th>\n",
       "      <th>Age65plus_rate</th>\n",
       "      <th>Age45to64_rate</th>\n",
       "      <th>Age25to44_rate</th>\n",
       "      <th>Age18to24_rate</th>\n",
       "      <th>Age0to17_rate</th>\n",
       "    </tr>\n",
       "  </thead>\n",
       "  <tbody>\n",
       "    <tr>\n",
       "      <th>0</th>\n",
       "      <td>40.0</td>\n",
       "      <td>5.0</td>\n",
       "      <td>0.14</td>\n",
       "      <td>25.0</td>\n",
       "      <td>1.1</td>\n",
       "      <td>172.0</td>\n",
       "      <td>14.0</td>\n",
       "      <td>257.0</td>\n",
       "      <td>16.0</td>\n",
       "      <td>89.0</td>\n",
       "      <td>...</td>\n",
       "      <td>80.0</td>\n",
       "      <td>8.0</td>\n",
       "      <td>20.0</td>\n",
       "      <td>509.0</td>\n",
       "      <td>11.1</td>\n",
       "      <td>7.0</td>\n",
       "      <td>18.0</td>\n",
       "      <td>50.0</td>\n",
       "      <td>11.0</td>\n",
       "      <td>14.0</td>\n",
       "    </tr>\n",
       "    <tr>\n",
       "      <th>1</th>\n",
       "      <td>38.0</td>\n",
       "      <td>5.0</td>\n",
       "      <td>0.08</td>\n",
       "      <td>17.0</td>\n",
       "      <td>1.3</td>\n",
       "      <td>252.0</td>\n",
       "      <td>14.0</td>\n",
       "      <td>140.0</td>\n",
       "      <td>16.0</td>\n",
       "      <td>89.0</td>\n",
       "      <td>...</td>\n",
       "      <td>46.0</td>\n",
       "      <td>7.0</td>\n",
       "      <td>12.0</td>\n",
       "      <td>485.0</td>\n",
       "      <td>10.9</td>\n",
       "      <td>14.0</td>\n",
       "      <td>24.0</td>\n",
       "      <td>43.0</td>\n",
       "      <td>10.0</td>\n",
       "      <td>9.0</td>\n",
       "    </tr>\n",
       "    <tr>\n",
       "      <th>2</th>\n",
       "      <td>60.0</td>\n",
       "      <td>9.0</td>\n",
       "      <td>0.11</td>\n",
       "      <td>12.0</td>\n",
       "      <td>13.5</td>\n",
       "      <td>229.0</td>\n",
       "      <td>21.0</td>\n",
       "      <td>272.0</td>\n",
       "      <td>17.0</td>\n",
       "      <td>71.0</td>\n",
       "      <td>...</td>\n",
       "      <td>265.0</td>\n",
       "      <td>25.0</td>\n",
       "      <td>45.0</td>\n",
       "      <td>1144.0</td>\n",
       "      <td>9.9</td>\n",
       "      <td>15.0</td>\n",
       "      <td>24.0</td>\n",
       "      <td>35.0</td>\n",
       "      <td>12.0</td>\n",
       "      <td>13.0</td>\n",
       "    </tr>\n",
       "    <tr>\n",
       "      <th>3</th>\n",
       "      <td>45.0</td>\n",
       "      <td>7.0</td>\n",
       "      <td>0.10</td>\n",
       "      <td>17.0</td>\n",
       "      <td>12.3</td>\n",
       "      <td>274.0</td>\n",
       "      <td>19.0</td>\n",
       "      <td>205.0</td>\n",
       "      <td>13.0</td>\n",
       "      <td>84.0</td>\n",
       "      <td>...</td>\n",
       "      <td>161.0</td>\n",
       "      <td>20.0</td>\n",
       "      <td>41.0</td>\n",
       "      <td>1299.0</td>\n",
       "      <td>11.4</td>\n",
       "      <td>12.0</td>\n",
       "      <td>25.0</td>\n",
       "      <td>46.0</td>\n",
       "      <td>8.0</td>\n",
       "      <td>9.0</td>\n",
       "    </tr>\n",
       "    <tr>\n",
       "      <th>4</th>\n",
       "      <td>48.0</td>\n",
       "      <td>7.0</td>\n",
       "      <td>0.10</td>\n",
       "      <td>62.0</td>\n",
       "      <td>4.8</td>\n",
       "      <td>172.0</td>\n",
       "      <td>19.0</td>\n",
       "      <td>147.0</td>\n",
       "      <td>13.0</td>\n",
       "      <td>84.0</td>\n",
       "      <td>...</td>\n",
       "      <td>61.0</td>\n",
       "      <td>13.0</td>\n",
       "      <td>20.0</td>\n",
       "      <td>872.0</td>\n",
       "      <td>14.3</td>\n",
       "      <td>13.0</td>\n",
       "      <td>22.0</td>\n",
       "      <td>46.0</td>\n",
       "      <td>12.0</td>\n",
       "      <td>7.0</td>\n",
       "    </tr>\n",
       "  </tbody>\n",
       "</table>\n",
       "<p>5 rows × 54 columns</p>\n",
       "</div>"
      ],
      "text/plain": [
       "   HPV_vaccination  Unemployment  TrumpSupport  Tobaccoretail_rate  \\\n",
       "0             40.0           5.0          0.14                25.0   \n",
       "1             38.0           5.0          0.08                17.0   \n",
       "2             60.0           9.0          0.11                12.0   \n",
       "3             45.0           7.0          0.10                17.0   \n",
       "4             48.0           7.0          0.10                62.0   \n",
       "\n",
       "   Teen_Births  Supermarketarea_rate  Sugary_Drink  Stroke_Hosp  Smoking  \\\n",
       "0          1.1                 172.0          14.0        257.0     16.0   \n",
       "1          1.3                 252.0          14.0        140.0     16.0   \n",
       "2         13.5                 229.0          21.0        272.0     17.0   \n",
       "3         12.3                 274.0          19.0        205.0     13.0   \n",
       "4          4.8                 172.0          19.0        147.0     13.0   \n",
       "\n",
       "   Self_rep_health      ...        Avoidable_Asthma  Asthma_5to14  \\\n",
       "0             89.0      ...                    80.0           8.0   \n",
       "1             89.0      ...                    46.0           7.0   \n",
       "2             71.0      ...                   265.0          25.0   \n",
       "3             84.0      ...                   161.0          20.0   \n",
       "4             84.0      ...                    61.0          13.0   \n",
       "\n",
       "   Assault_Hosps  Alc_Hosp  Airquality_rate  Age65plus_rate  Age45to64_rate  \\\n",
       "0           20.0     509.0             11.1             7.0            18.0   \n",
       "1           12.0     485.0             10.9            14.0            24.0   \n",
       "2           45.0    1144.0              9.9            15.0            24.0   \n",
       "3           41.0    1299.0             11.4            12.0            25.0   \n",
       "4           20.0     872.0             14.3            13.0            22.0   \n",
       "\n",
       "   Age25to44_rate  Age18to24_rate  Age0to17_rate  \n",
       "0            50.0            11.0           14.0  \n",
       "1            43.0            10.0            9.0  \n",
       "2            35.0            12.0           13.0  \n",
       "3            46.0             8.0            9.0  \n",
       "4            46.0            12.0            7.0  \n",
       "\n",
       "[5 rows x 54 columns]"
      ]
     },
     "execution_count": 1018,
     "metadata": {},
     "output_type": "execute_result"
    }
   ],
   "source": [
    "df.head()"
   ]
  },
  {
   "cell_type": "code",
   "execution_count": 982,
   "metadata": {
    "collapsed": false
   },
   "outputs": [
    {
     "name": "stdout",
     "output_type": "stream",
     "text": [
      "                                HPV_vaccination  Unemployment  TrumpSupport  \\\n",
      "HPV_vaccination                        1.000000      0.352816     -0.514131   \n",
      "Unemployment                           0.352816      1.000000     -0.487870   \n",
      "TrumpSupport                          -0.514131     -0.487870      1.000000   \n",
      "Tobaccoretail_rate                     0.280829     -0.035278     -0.259127   \n",
      "Teen_Births                            0.497002      0.823331     -0.415560   \n",
      "Supermarketarea_rate                  -0.100728     -0.251694      0.116805   \n",
      "Sugary_Drink                           0.242926      0.817164     -0.305203   \n",
      "Stroke_Hosp                            0.113197      0.804416     -0.416899   \n",
      "Smoking                               -0.070338      0.198859      0.084083   \n",
      "Self_rep_health                       -0.389013     -0.591853      0.086322   \n",
      "Schoolabsent_rate                      0.249945      0.846833     -0.474521   \n",
      "Rent_burden                            0.196921      0.683882     -0.058197   \n",
      "Racewhite_Rate                        -0.481774     -0.796825      0.563608   \n",
      "Raceother_rate                        -0.121772     -0.188132     -0.307284   \n",
      "Racehispanic_rate                      0.680513      0.610354     -0.324342   \n",
      "Raceblack_rate                        -0.067332      0.581358     -0.472047   \n",
      "Raceasian_rate                        -0.033935     -0.521124      0.324308   \n",
      "Psych_Hosp                             0.194205      0.527183     -0.387173   \n",
      "Preterm_Births                         0.000321      0.606190     -0.348201   \n",
      "Premature_Mort                         0.248907      0.799451     -0.429945   \n",
      "Poverty                                0.543315      0.768518     -0.377047   \n",
      "OverallPopulation_rate                -0.282241     -0.194954      0.229700   \n",
      "Obesity                               -0.049784      0.744572     -0.128895   \n",
      "Nonwhite_rate                          0.481774      0.796825     -0.563608   \n",
      "Ltd_Eng_Prof                           0.388914      0.175249      0.173944   \n",
      "Life_expectancy_rate                  -0.182594     -0.750611      0.393998   \n",
      "Late_No_Prenatal                       0.301953      0.757176     -0.408160   \n",
      "Jailincarceration                      0.496278      0.747181     -0.500895   \n",
      "Insurance                              0.439557      0.475164     -0.171390   \n",
      "IMR                                    0.174627      0.675968     -0.418661   \n",
      "Housing_Defects                        0.552469      0.687768     -0.619414   \n",
      "HIV_Testing_Ever                       0.535759      0.715519     -0.753310   \n",
      "HIV_Diagnosis                          0.493900      0.406236     -0.566659   \n",
      "Fruit_Veg                             -0.272331     -0.786347      0.388662   \n",
      "Foreign_born                           0.129155      0.052354      0.107611   \n",
      "Flu_Vaccination                        0.551805      0.232840     -0.300323   \n",
      "Exercise                              -0.065200     -0.468365     -0.127842   \n",
      "Eduhsdegreeorsomecollege_rate         -0.285011      0.543359      0.114680   \n",
      "Edudidnotcompletehs_rate               0.550783      0.732155     -0.302765   \n",
      "Educollegedegreeandhigher_rate        -0.144899     -0.752032      0.105147   \n",
      "Drug_Hosp                              0.478806      0.749360     -0.485811   \n",
      "Didnt_Get_Care                         0.341145      0.581284     -0.480407   \n",
      "Diabetes                               0.185991      0.761017     -0.275071   \n",
      "Avoidable_Diabetes                     0.356822      0.870757     -0.514082   \n",
      "Avoidable_Asthma                       0.475992      0.852617     -0.469907   \n",
      "Asthma_5to14                           0.465061      0.813974     -0.558069   \n",
      "Assault_Hosps                          0.398750      0.824754     -0.504729   \n",
      "Alc_Hosp                               0.516059      0.761424     -0.518725   \n",
      "Airquality_rate                        0.472382     -0.199644     -0.352259   \n",
      "Age65plus_rate                        -0.461045     -0.423759      0.402227   \n",
      "Age45to64_rate                        -0.444357     -0.173541      0.365116   \n",
      "Age25to44_rate                         0.294849     -0.496205     -0.230012   \n",
      "Age18to24_rate                         0.403889      0.581330     -0.422213   \n",
      "Age0to17_rate                         -0.005141      0.688883     -0.017698   \n",
      "\n",
      "                                Tobaccoretail_rate  Teen_Births  \\\n",
      "HPV_vaccination                           0.280829     0.497002   \n",
      "Unemployment                             -0.035278     0.823331   \n",
      "TrumpSupport                             -0.259127    -0.415560   \n",
      "Tobaccoretail_rate                        1.000000    -0.026527   \n",
      "Teen_Births                              -0.026527     1.000000   \n",
      "Supermarketarea_rate                     -0.029351    -0.270540   \n",
      "Sugary_Drink                             -0.078044     0.860370   \n",
      "Stroke_Hosp                              -0.152143     0.735082   \n",
      "Smoking                                   0.013306     0.194958   \n",
      "Self_rep_health                           0.072708    -0.700216   \n",
      "Schoolabsent_rate                        -0.011741     0.796083   \n",
      "Rent_burden                              -0.228359     0.694922   \n",
      "Racewhite_Rate                            0.097555    -0.797528   \n",
      "Raceother_rate                            0.045867    -0.289500   \n",
      "Racehispanic_rate                        -0.006626     0.764817   \n",
      "Raceblack_rate                           -0.070817     0.435596   \n",
      "Raceasian_rate                           -0.055190    -0.491728   \n",
      "Psych_Hosp                                0.041084     0.541384   \n",
      "Preterm_Births                           -0.157280     0.476381   \n",
      "Premature_Mort                            0.061651     0.791062   \n",
      "Poverty                                   0.051132     0.882688   \n",
      "OverallPopulation_rate                   -0.454239    -0.166032   \n",
      "Obesity                                  -0.212236     0.714295   \n",
      "Nonwhite_rate                            -0.097555     0.797528   \n",
      "Ltd_Eng_Prof                             -0.182775     0.371222   \n",
      "Life_expectancy_rate                     -0.027501    -0.747665   \n",
      "Late_No_Prenatal                         -0.145102     0.678550   \n",
      "Jailincarceration                         0.102069     0.760778   \n",
      "Insurance                                -0.166086     0.701406   \n",
      "IMR                                       0.071930     0.627628   \n",
      "Housing_Defects                           0.055951     0.742678   \n",
      "HIV_Testing_Ever                          0.236705     0.659385   \n",
      "HIV_Diagnosis                             0.421584     0.392900   \n",
      "Fruit_Veg                                 0.063597    -0.754110   \n",
      "Foreign_born                             -0.250005     0.108001   \n",
      "Flu_Vaccination                           0.150354     0.178436   \n",
      "Exercise                                  0.359038    -0.495964   \n",
      "Eduhsdegreeorsomecollege_rate            -0.326752     0.477897   \n",
      "Edudidnotcompletehs_rate                 -0.079638     0.873792   \n",
      "Educollegedegreeandhigher_rate            0.242778    -0.795323   \n",
      "Drug_Hosp                                 0.148213     0.729716   \n",
      "Didnt_Get_Care                           -0.068958     0.611810   \n",
      "Diabetes                                 -0.184107     0.758735   \n",
      "Avoidable_Diabetes                       -0.009856     0.873921   \n",
      "Avoidable_Asthma                          0.067358     0.855880   \n",
      "Asthma_5to14                              0.062746     0.769696   \n",
      "Assault_Hosps                             0.056705     0.837993   \n",
      "Alc_Hosp                                  0.158881     0.799206   \n",
      "Airquality_rate                           0.710508    -0.159671   \n",
      "Age65plus_rate                           -0.268139    -0.618704   \n",
      "Age45to64_rate                           -0.385829    -0.394088   \n",
      "Age25to44_rate                            0.496583    -0.340692   \n",
      "Age18to24_rate                            0.288163     0.535241   \n",
      "Age0to17_rate                            -0.305054     0.752710   \n",
      "\n",
      "                                Supermarketarea_rate  Sugary_Drink  \\\n",
      "HPV_vaccination                            -0.100728      0.242926   \n",
      "Unemployment                               -0.251694      0.817164   \n",
      "TrumpSupport                                0.116805     -0.305203   \n",
      "Tobaccoretail_rate                         -0.029351     -0.078044   \n",
      "Teen_Births                                -0.270540      0.860370   \n",
      "Supermarketarea_rate                        1.000000     -0.243958   \n",
      "Sugary_Drink                               -0.243958      1.000000   \n",
      "Stroke_Hosp                                -0.069460      0.766935   \n",
      "Smoking                                     0.177327      0.192775   \n",
      "Self_rep_health                             0.294013     -0.581171   \n",
      "Schoolabsent_rate                          -0.104732      0.796506   \n",
      "Rent_burden                                -0.299177      0.736481   \n",
      "Racewhite_Rate                              0.258745     -0.838923   \n",
      "Raceother_rate                             -0.004559     -0.209766   \n",
      "Racehispanic_rate                          -0.240287      0.619134   \n",
      "Raceblack_rate                             -0.073088      0.586941   \n",
      "Raceasian_rate                              0.029663     -0.447941   \n",
      "Psych_Hosp                                  0.147319      0.535324   \n",
      "Preterm_Births                              0.006865      0.625936   \n",
      "Premature_Mort                              0.031063      0.750307   \n",
      "Poverty                                    -0.239420      0.700720   \n",
      "OverallPopulation_rate                     -0.024786     -0.130167   \n",
      "Obesity                                    -0.194861      0.824735   \n",
      "Nonwhite_rate                              -0.258745      0.838923   \n",
      "Ltd_Eng_Prof                               -0.300488      0.231417   \n",
      "Life_expectancy_rate                       -0.039742     -0.718889   \n",
      "Late_No_Prenatal                           -0.142526      0.749036   \n",
      "Jailincarceration                           0.014238      0.680663   \n",
      "Insurance                                  -0.376378      0.591721   \n",
      "IMR                                        -0.140637      0.748767   \n",
      "Housing_Defects                            -0.156194      0.577520   \n",
      "HIV_Testing_Ever                           -0.142804      0.574560   \n",
      "HIV_Diagnosis                               0.015875      0.316924   \n",
      "Fruit_Veg                                   0.142826     -0.745192   \n",
      "Foreign_born                               -0.315064      0.184681   \n",
      "Flu_Vaccination                             0.130160      0.090640   \n",
      "Exercise                                    0.236765     -0.525064   \n",
      "Eduhsdegreeorsomecollege_rate              -0.119686      0.717101   \n",
      "Edudidnotcompletehs_rate                   -0.308403      0.748830   \n",
      "Educollegedegreeandhigher_rate              0.247120     -0.868428   \n",
      "Drug_Hosp                                   0.026414      0.639836   \n",
      "Didnt_Get_Care                             -0.359453      0.537291   \n",
      "Diabetes                                   -0.220774      0.860928   \n",
      "Avoidable_Diabetes                         -0.102432      0.823688   \n",
      "Avoidable_Asthma                           -0.084891      0.758253   \n",
      "Asthma_5to14                               -0.122864      0.736371   \n",
      "Assault_Hosps                              -0.048151      0.794034   \n",
      "Alc_Hosp                                   -0.024751      0.681484   \n",
      "Airquality_rate                             0.070836     -0.356694   \n",
      "Age65plus_rate                              0.263082     -0.496505   \n",
      "Age45to64_rate                              0.189086     -0.079272   \n",
      "Age25to44_rate                              0.054478     -0.578145   \n",
      "Age18to24_rate                             -0.293608      0.535848   \n",
      "Age0to17_rate                              -0.232720      0.782426   \n",
      "\n",
      "                                Stroke_Hosp   Smoking  Self_rep_health  \\\n",
      "HPV_vaccination                    0.113197 -0.070338        -0.389013   \n",
      "Unemployment                       0.804416  0.198859        -0.591853   \n",
      "TrumpSupport                      -0.416899  0.084083         0.086322   \n",
      "Tobaccoretail_rate                -0.152143  0.013306         0.072708   \n",
      "Teen_Births                        0.735082  0.194958        -0.700216   \n",
      "Supermarketarea_rate              -0.069460  0.177327         0.294013   \n",
      "Sugary_Drink                       0.766935  0.192775        -0.581171   \n",
      "Stroke_Hosp                        1.000000  0.306583        -0.453390   \n",
      "Smoking                            0.306583  1.000000        -0.250762   \n",
      "Self_rep_health                   -0.453390 -0.250762         1.000000   \n",
      "Schoolabsent_rate                  0.823797  0.353255        -0.464418   \n",
      "Rent_burden                        0.512413  0.038781        -0.705527   \n",
      "Racewhite_Rate                    -0.714842  0.030807         0.536567   \n",
      "Raceother_rate                    -0.008088 -0.274556         0.383400   \n",
      "Racehispanic_rate                  0.377370  0.138086        -0.619343   \n",
      "Raceblack_rate                     0.722715 -0.055671        -0.041359   \n",
      "Raceasian_rate                    -0.561754 -0.182823         0.005156   \n",
      "Psych_Hosp                         0.653280  0.284903        -0.242592   \n",
      "Preterm_Births                     0.695819  0.176672        -0.182794   \n",
      "Premature_Mort                     0.840143  0.412186        -0.469189   \n",
      "Poverty                            0.657687  0.310160        -0.737499   \n",
      "OverallPopulation_rate            -0.152014 -0.119808        -0.014886   \n",
      "Obesity                            0.786946  0.403693        -0.555496   \n",
      "Nonwhite_rate                      0.714842 -0.030807        -0.536567   \n",
      "Ltd_Eng_Prof                      -0.030767  0.034299        -0.719706   \n",
      "Life_expectancy_rate              -0.830387 -0.431825         0.414948   \n",
      "Late_No_Prenatal                   0.674008  0.054621        -0.503175   \n",
      "Jailincarceration                  0.759032  0.272707        -0.431536   \n",
      "Insurance                          0.380918 -0.100168        -0.682104   \n",
      "IMR                                0.715460  0.115220        -0.346241   \n",
      "Housing_Defects                    0.633255 -0.095208        -0.401984   \n",
      "HIV_Testing_Ever                   0.612909  0.060995        -0.244192   \n",
      "HIV_Diagnosis                      0.351147  0.035234        -0.064498   \n",
      "Fruit_Veg                         -0.702890 -0.153798         0.495613   \n",
      "Foreign_born                      -0.091784 -0.306999        -0.391565   \n",
      "Flu_Vaccination                   -0.013670 -0.067572        -0.073305   \n",
      "Exercise                          -0.396797 -0.277668         0.709746   \n",
      "Eduhsdegreeorsomecollege_rate      0.586894  0.196365        -0.381377   \n",
      "Edudidnotcompletehs_rate           0.585432  0.171969        -0.818092   \n",
      "Educollegedegreeandhigher_rate    -0.692901 -0.222273         0.701858   \n",
      "Drug_Hosp                          0.690402  0.336812        -0.408966   \n",
      "Didnt_Get_Care                     0.593959  0.054252        -0.411828   \n",
      "Diabetes                           0.732047  0.235996        -0.639362   \n",
      "Avoidable_Diabetes                 0.887951  0.269332        -0.515233   \n",
      "Avoidable_Asthma                   0.772730  0.327929        -0.574399   \n",
      "Asthma_5to14                       0.764152  0.197350        -0.446840   \n",
      "Assault_Hosps                      0.816582  0.315443        -0.469597   \n",
      "Alc_Hosp                           0.703092  0.325543        -0.469447   \n",
      "Airquality_rate                   -0.358418 -0.127393         0.229189   \n",
      "Age65plus_rate                    -0.422690 -0.128679         0.340323   \n",
      "Age45to64_rate                    -0.195090 -0.194948         0.210953   \n",
      "Age25to44_rate                    -0.472732 -0.140472         0.390553   \n",
      "Age18to24_rate                     0.508477  0.285940        -0.440914   \n",
      "Age0to17_rate                      0.697944  0.210324        -0.568032   \n",
      "\n",
      "                                    ...        Avoidable_Asthma  Asthma_5to14  \\\n",
      "HPV_vaccination                     ...                0.475992      0.465061   \n",
      "Unemployment                        ...                0.852617      0.813974   \n",
      "TrumpSupport                        ...               -0.469907     -0.558069   \n",
      "Tobaccoretail_rate                  ...                0.067358      0.062746   \n",
      "Teen_Births                         ...                0.855880      0.769696   \n",
      "Supermarketarea_rate                ...               -0.084891     -0.122864   \n",
      "Sugary_Drink                        ...                0.758253      0.736371   \n",
      "Stroke_Hosp                         ...                0.772730      0.764152   \n",
      "Smoking                             ...                0.327929      0.197350   \n",
      "Self_rep_health                     ...               -0.574399     -0.446840   \n",
      "Schoolabsent_rate                   ...                0.860888      0.852531   \n",
      "Rent_burden                         ...                0.499808      0.426812   \n",
      "Racewhite_Rate                      ...               -0.691061     -0.750814   \n",
      "Raceother_rate                      ...               -0.257996     -0.108453   \n",
      "Racehispanic_rate                   ...                0.665375      0.595829   \n",
      "Raceblack_rate                      ...                0.456749      0.588271   \n",
      "Raceasian_rate                      ...               -0.581703     -0.601997   \n",
      "Psych_Hosp                          ...                0.667183      0.621764   \n",
      "Preterm_Births                      ...                0.527767      0.567396   \n",
      "Premature_Mort                      ...                0.872020      0.817439   \n",
      "Poverty                             ...                0.844715      0.748769   \n",
      "OverallPopulation_rate              ...               -0.352159     -0.367762   \n",
      "Obesity                             ...                0.674076      0.671913   \n",
      "Nonwhite_rate                       ...                0.691061      0.750814   \n",
      "Ltd_Eng_Prof                        ...                0.109000     -0.014371   \n",
      "Life_expectancy_rate                ...               -0.829771     -0.775921   \n",
      "Late_No_Prenatal                    ...                0.608181      0.683032   \n",
      "Jailincarceration                   ...                0.860647      0.834652   \n",
      "Insurance                           ...                0.412943      0.360343   \n",
      "IMR                                 ...                0.627838      0.681389   \n",
      "Housing_Defects                     ...                0.699558      0.717285   \n",
      "HIV_Testing_Ever                    ...                0.746868      0.827335   \n",
      "HIV_Diagnosis                       ...                0.479624      0.507210   \n",
      "Fruit_Veg                           ...               -0.765761     -0.798920   \n",
      "Foreign_born                        ...               -0.201569     -0.203136   \n",
      "Flu_Vaccination                     ...                0.365059      0.392061   \n",
      "Exercise                            ...               -0.365711     -0.301814   \n",
      "Eduhsdegreeorsomecollege_rate       ...                0.338538      0.342363   \n",
      "Edudidnotcompletehs_rate            ...                0.729286      0.639291   \n",
      "Educollegedegreeandhigher_rate      ...               -0.628460     -0.578876   \n",
      "Drug_Hosp                           ...                0.911465      0.871934   \n",
      "Didnt_Get_Care                      ...                0.524883      0.629899   \n",
      "Diabetes                            ...                0.683255      0.684640   \n",
      "Avoidable_Diabetes                  ...                0.936204      0.897732   \n",
      "Avoidable_Asthma                    ...                1.000000      0.906090   \n",
      "Asthma_5to14                        ...                0.906090      1.000000   \n",
      "Assault_Hosps                       ...                0.924830      0.898379   \n",
      "Alc_Hosp                            ...                0.925681      0.867131   \n",
      "Airquality_rate                     ...               -0.001536      0.009488   \n",
      "Age65plus_rate                      ...               -0.557961     -0.489979   \n",
      "Age45to64_rate                      ...               -0.424853     -0.347151   \n",
      "Age25to44_rate                      ...               -0.283569     -0.267676   \n",
      "Age18to24_rate                      ...                0.614720      0.601182   \n",
      "Age0to17_rate                       ...                0.641184      0.553947   \n",
      "\n",
      "                                Assault_Hosps  Alc_Hosp  Airquality_rate  \\\n",
      "HPV_vaccination                      0.398750  0.516059         0.472382   \n",
      "Unemployment                         0.824754  0.761424        -0.199644   \n",
      "TrumpSupport                        -0.504729 -0.518725        -0.352259   \n",
      "Tobaccoretail_rate                   0.056705  0.158881         0.710508   \n",
      "Teen_Births                          0.837993  0.799206        -0.159671   \n",
      "Supermarketarea_rate                -0.048151 -0.024751         0.070836   \n",
      "Sugary_Drink                         0.794034  0.681484        -0.356694   \n",
      "Stroke_Hosp                          0.816582  0.703092        -0.358418   \n",
      "Smoking                              0.315443  0.325543        -0.127393   \n",
      "Self_rep_health                     -0.469597 -0.469447         0.229189   \n",
      "Schoolabsent_rate                    0.920828  0.867795        -0.148008   \n",
      "Rent_burden                          0.485667  0.388148        -0.413760   \n",
      "Racewhite_Rate                      -0.734805 -0.614404         0.239967   \n",
      "Raceother_rate                      -0.159669 -0.198900         0.003465   \n",
      "Racehispanic_rate                    0.552557  0.591662         0.027012   \n",
      "Raceblack_rate                       0.619481  0.456642        -0.240878   \n",
      "Raceasian_rate                      -0.615552 -0.619848        -0.077426   \n",
      "Psych_Hosp                           0.779985  0.820713         0.023400   \n",
      "Preterm_Births                       0.646366  0.508450        -0.335105   \n",
      "Premature_Mort                       0.942801  0.898387        -0.115746   \n",
      "Poverty                              0.818839  0.843337         0.013202   \n",
      "OverallPopulation_rate              -0.323670 -0.433834        -0.327982   \n",
      "Obesity                              0.730062  0.592859        -0.503017   \n",
      "Nonwhite_rate                        0.734805  0.614404        -0.239967   \n",
      "Ltd_Eng_Prof                        -0.000613  0.004893        -0.230206   \n",
      "Life_expectancy_rate                -0.886056 -0.841336         0.188309   \n",
      "Late_No_Prenatal                     0.682263  0.531277        -0.268841   \n",
      "Jailincarceration                    0.933644  0.914470         0.062582   \n",
      "Insurance                            0.386089  0.331330        -0.269916   \n",
      "IMR                                  0.739114  0.614115        -0.182057   \n",
      "Housing_Defects                      0.692484  0.717489         0.109875   \n",
      "HIV_Testing_Ever                     0.781355  0.789261         0.309587   \n",
      "HIV_Diagnosis                        0.555953  0.637160         0.469801   \n",
      "Fruit_Veg                           -0.783261 -0.712310         0.143506   \n",
      "Foreign_born                        -0.203539 -0.294359        -0.365842   \n",
      "Flu_Vaccination                      0.317937  0.384457         0.435547   \n",
      "Exercise                            -0.310662 -0.195624         0.554973   \n",
      "Eduhsdegreeorsomecollege_rate        0.436263  0.235753        -0.705318   \n",
      "Edudidnotcompletehs_rate             0.652134  0.618224        -0.218240   \n",
      "Educollegedegreeandhigher_rate      -0.645495 -0.504651         0.552788   \n",
      "Drug_Hosp                            0.928186  0.976735         0.174744   \n",
      "Didnt_Get_Care                       0.539026  0.499716        -0.119203   \n",
      "Diabetes                             0.725597  0.604964        -0.419412   \n",
      "Avoidable_Diabetes                   0.957850  0.906054        -0.144575   \n",
      "Avoidable_Asthma                     0.924830  0.925681        -0.001536   \n",
      "Asthma_5to14                         0.898379  0.867131         0.009488   \n",
      "Assault_Hosps                        1.000000  0.937669        -0.038359   \n",
      "Alc_Hosp                             0.937669  1.000000         0.169055   \n",
      "Airquality_rate                     -0.038359  0.169055         1.000000   \n",
      "Age65plus_rate                      -0.506767 -0.531690        -0.155868   \n",
      "Age45to64_rate                      -0.341978 -0.485315        -0.470639   \n",
      "Age25to44_rate                      -0.345538 -0.154235         0.714750   \n",
      "Age18to24_rate                       0.594627  0.624360         0.165492   \n",
      "Age0to17_rate                        0.643859  0.506823        -0.530461   \n",
      "\n",
      "                                Age65plus_rate  Age45to64_rate  \\\n",
      "HPV_vaccination                      -0.461045       -0.444357   \n",
      "Unemployment                         -0.423759       -0.173541   \n",
      "TrumpSupport                          0.402227        0.365116   \n",
      "Tobaccoretail_rate                   -0.268139       -0.385829   \n",
      "Teen_Births                          -0.618704       -0.394088   \n",
      "Supermarketarea_rate                  0.263082        0.189086   \n",
      "Sugary_Drink                         -0.496505       -0.079272   \n",
      "Stroke_Hosp                          -0.422690       -0.195090   \n",
      "Smoking                              -0.128679       -0.194948   \n",
      "Self_rep_health                       0.340323        0.210953   \n",
      "Schoolabsent_rate                    -0.397039       -0.264426   \n",
      "Rent_burden                          -0.312057        0.023103   \n",
      "Racewhite_Rate                        0.497900        0.109850   \n",
      "Raceother_rate                       -0.020917        0.081343   \n",
      "Racehispanic_rate                    -0.507674       -0.360619   \n",
      "Raceblack_rate                       -0.231298        0.036490   \n",
      "Raceasian_rate                        0.291731        0.324477   \n",
      "Psych_Hosp                           -0.255631       -0.245593   \n",
      "Preterm_Births                       -0.106780        0.113945   \n",
      "Premature_Mort                       -0.421280       -0.315356   \n",
      "Poverty                              -0.610386       -0.557362   \n",
      "OverallPopulation_rate                0.252215        0.368754   \n",
      "Obesity                              -0.295376       -0.017676   \n",
      "Nonwhite_rate                        -0.497900       -0.109850   \n",
      "Ltd_Eng_Prof                         -0.126399       -0.047607   \n",
      "Life_expectancy_rate                  0.409626        0.282126   \n",
      "Late_No_Prenatal                     -0.242244        0.083108   \n",
      "Jailincarceration                    -0.517289       -0.368780   \n",
      "Insurance                            -0.392464       -0.175054   \n",
      "IMR                                  -0.288513        0.005430   \n",
      "Housing_Defects                      -0.484377       -0.444557   \n",
      "HIV_Testing_Ever                     -0.519634       -0.418052   \n",
      "HIV_Diagnosis                        -0.428815       -0.344134   \n",
      "Fruit_Veg                             0.422899        0.216879   \n",
      "Foreign_born                          0.063191        0.343939   \n",
      "Flu_Vaccination                      -0.107511       -0.142773   \n",
      "Exercise                              0.144179       -0.053616   \n",
      "Eduhsdegreeorsomecollege_rate        -0.106056        0.319889   \n",
      "Edudidnotcompletehs_rate             -0.544421       -0.335770   \n",
      "Educollegedegreeandhigher_rate        0.377024        0.002829   \n",
      "Drug_Hosp                            -0.481645       -0.423805   \n",
      "Didnt_Get_Care                       -0.416396       -0.340010   \n",
      "Diabetes                             -0.424733       -0.074303   \n",
      "Avoidable_Diabetes                   -0.535193       -0.348591   \n",
      "Avoidable_Asthma                     -0.557961       -0.424853   \n",
      "Asthma_5to14                         -0.489979       -0.347151   \n",
      "Assault_Hosps                        -0.506767       -0.341978   \n",
      "Alc_Hosp                             -0.531690       -0.485315   \n",
      "Airquality_rate                      -0.155868       -0.470639   \n",
      "Age65plus_rate                        1.000000        0.699982   \n",
      "Age45to64_rate                        0.699982        1.000000   \n",
      "Age25to44_rate                       -0.226872       -0.506543   \n",
      "Age18to24_rate                       -0.594693       -0.505063   \n",
      "Age0to17_rate                        -0.466499       -0.163682   \n",
      "\n",
      "                                Age25to44_rate  Age18to24_rate  Age0to17_rate  \n",
      "HPV_vaccination                       0.294849        0.403889      -0.005141  \n",
      "Unemployment                         -0.496205        0.581330       0.688883  \n",
      "TrumpSupport                         -0.230012       -0.422213      -0.017698  \n",
      "Tobaccoretail_rate                    0.496583        0.288163      -0.305054  \n",
      "Teen_Births                          -0.340692        0.535241       0.752710  \n",
      "Supermarketarea_rate                  0.054478       -0.293608      -0.232720  \n",
      "Sugary_Drink                         -0.578145        0.535848       0.782426  \n",
      "Stroke_Hosp                          -0.472732        0.508477       0.697944  \n",
      "Smoking                              -0.140472        0.285940       0.210324  \n",
      "Self_rep_health                       0.390553       -0.440914      -0.568032  \n",
      "Schoolabsent_rate                    -0.453248        0.617870       0.658633  \n",
      "Rent_burden                          -0.665707        0.402818       0.757705  \n",
      "Racewhite_Rate                        0.423600       -0.573258      -0.607602  \n",
      "Raceother_rate                        0.279072       -0.116427      -0.294312  \n",
      "Racehispanic_rate                    -0.201930        0.545701       0.501937  \n",
      "Raceblack_rate                       -0.350700        0.307270       0.415872  \n",
      "Raceasian_rate                        0.130704       -0.344965      -0.393947  \n",
      "Psych_Hosp                           -0.191239        0.408901       0.340051  \n",
      "Preterm_Births                       -0.497386        0.336441       0.455071  \n",
      "Premature_Mort                       -0.385105        0.529375       0.647075  \n",
      "Poverty                              -0.266680        0.678269       0.682848  \n",
      "OverallPopulation_rate               -0.220054       -0.294258       0.033484  \n",
      "Obesity                              -0.675640        0.442520       0.791253  \n",
      "Nonwhite_rate                        -0.423600        0.573258       0.607602  \n",
      "Ltd_Eng_Prof                         -0.236880        0.115747       0.286602  \n",
      "Life_expectancy_rate                  0.363155       -0.475605      -0.620756  \n",
      "Late_No_Prenatal                     -0.551803        0.404596       0.559317  \n",
      "Jailincarceration                    -0.224856        0.596153       0.521263  \n",
      "Insurance                            -0.302034        0.366840       0.507116  \n",
      "IMR                                  -0.434863        0.470663       0.502452  \n",
      "Housing_Defects                      -0.092552        0.471516       0.439523  \n",
      "HIV_Testing_Ever                     -0.002175        0.584968       0.320117  \n",
      "HIV_Diagnosis                         0.257773        0.428546      -0.030738  \n",
      "Fruit_Veg                             0.467221       -0.563853      -0.698281  \n",
      "Foreign_born                         -0.282161       -0.067888       0.097516  \n",
      "Flu_Vaccination                       0.046502        0.196610       0.001721  \n",
      "Exercise                              0.629731       -0.274418      -0.648145  \n",
      "Eduhsdegreeorsomecollege_rate        -0.827699        0.244169       0.751949  \n",
      "Edudidnotcompletehs_rate             -0.385608        0.566822       0.703223  \n",
      "Educollegedegreeandhigher_rate        0.724142       -0.476086      -0.861730  \n",
      "Drug_Hosp                            -0.172409        0.584868       0.483466  \n",
      "Didnt_Get_Care                       -0.202379        0.606903       0.445328  \n",
      "Diabetes                             -0.575163        0.494426       0.744522  \n",
      "Avoidable_Diabetes                   -0.371788        0.583973       0.703420  \n",
      "Avoidable_Asthma                     -0.283569        0.614720       0.641184  \n",
      "Asthma_5to14                         -0.267676        0.601182       0.553947  \n",
      "Assault_Hosps                        -0.345538        0.594627       0.643859  \n",
      "Alc_Hosp                             -0.154235        0.624360       0.506823  \n",
      "Airquality_rate                       0.714750        0.165492      -0.530461  \n",
      "Age65plus_rate                       -0.226872       -0.594693      -0.466499  \n",
      "Age45to64_rate                       -0.506543       -0.505063      -0.163682  \n",
      "Age25to44_rate                        1.000000       -0.115347      -0.689998  \n",
      "Age18to24_rate                       -0.115347        1.000000       0.381983  \n",
      "Age0to17_rate                        -0.689998        0.381983       1.000000  \n",
      "\n",
      "[54 rows x 54 columns]\n",
      "Axes(0.125,0.125;0.62x0.775)\n"
     ]
    },
    {
     "data": {
      "image/png": "[encoded data removed]",
      "text/plain": [
       "<matplotlib.figure.Figure at 0x1596c4910>"
      ]
     },
     "metadata": {},
     "output_type": "display_data"
    }
   ],
   "source": [
    "# take a look at the correlation matrix\n",
    "\n",
    "cmap = sns.diverging_palette(220, 10, as_cmap=True)\n",
    "correlations = df.corr()\n",
    "print correlations\n",
    "print sns.heatmap(correlations, cmap=cmap)"
   ]
  },
  {
   "cell_type": "code",
   "execution_count": 983,
   "metadata": {
    "collapsed": false
   },
   "outputs": [
    {
     "data": {
      "text/plain": [
       "array([[<matplotlib.axes._subplots.AxesSubplot object at 0x156586910>,\n",
       "        <matplotlib.axes._subplots.AxesSubplot object at 0x154e85b10>,\n",
       "        <matplotlib.axes._subplots.AxesSubplot object at 0x154ed8990>,\n",
       "        <matplotlib.axes._subplots.AxesSubplot object at 0x156003c10>],\n",
       "       [<matplotlib.axes._subplots.AxesSubplot object at 0x1562b5d90>,\n",
       "        <matplotlib.axes._subplots.AxesSubplot object at 0x15623bd50>,\n",
       "        <matplotlib.axes._subplots.AxesSubplot object at 0x1559d9790>,\n",
       "        <matplotlib.axes._subplots.AxesSubplot object at 0x155468f90>],\n",
       "       [<matplotlib.axes._subplots.AxesSubplot object at 0x1554b0490>,\n",
       "        <matplotlib.axes._subplots.AxesSubplot object at 0x154c964d0>,\n",
       "        <matplotlib.axes._subplots.AxesSubplot object at 0x154aa1550>,\n",
       "        <matplotlib.axes._subplots.AxesSubplot object at 0x1548d7250>],\n",
       "       [<matplotlib.axes._subplots.AxesSubplot object at 0x154868fd0>,\n",
       "        <matplotlib.axes._subplots.AxesSubplot object at 0x154476390>,\n",
       "        <matplotlib.axes._subplots.AxesSubplot object at 0x1541128d0>,\n",
       "        <matplotlib.axes._subplots.AxesSubplot object at 0x1534de490>]], dtype=object)"
      ]
     },
     "execution_count": 983,
     "metadata": {},
     "output_type": "execute_result"
    },
    {
     "data": {
      "image/png": "[encoded data removed]",
      "text/plain": [
       "<matplotlib.figure.Figure at 0x1596ed0d0>"
      ]
     },
     "metadata": {},
     "output_type": "display_data"
    }
   ],
   "source": [
    "pd.scatter_matrix(data[['HPV_vaccination','TrumpSupport','Poverty','Racehispanic_rate']],figsize=(10,10))"
   ]
  },
  {
   "cell_type": "code",
   "execution_count": 984,
   "metadata": {
    "collapsed": false
   },
   "outputs": [
    {
     "data": {
      "image/png": "[encoded data removed]",
      "text/plain": [
       "<matplotlib.figure.Figure at 0x15490f890>"
      ]
     },
     "metadata": {},
     "output_type": "display_data"
    }
   ],
   "source": [
    "# let's go into the features. my first hypothesis was that Trump support would predict low vaccine rates\n",
    "\n",
    "plt.figure(figsize=(10,5))\n",
    "plt.scatter(data['TrumpSupport'], data['HPV_vaccination'])\n",
    "plt.title(\"Plotting HPV Vaccination Rate against Trump Support\")\n",
    "plt.ylabel('HPV Vaccine Rate')\n",
    "plt.xlabel('TrumpSupport')\n",
    "plt.show()"
   ]
  },
  {
   "cell_type": "code",
   "execution_count": 985,
   "metadata": {
    "collapsed": false
   },
   "outputs": [
    {
     "data": {
      "image/png": "[encoded data removed]",
      "text/plain": [
       "<matplotlib.figure.Figure at 0x15550c790>"
      ]
     },
     "metadata": {},
     "output_type": "display_data"
    }
   ],
   "source": [
    "plt.figure(figsize=(10,5))\n",
    "plt.scatter(data['Self_rep_health'], data['HPV_vaccination'])\n",
    "plt.title(\"Plotting HPV Vaccination Rate against Self-Reported Health\")\n",
    "plt.ylabel('HPV Vaccine Rate')\n",
    "plt.xlabel('Self_rep_health')\n",
    "plt.show()"
   ]
  },
  {
   "cell_type": "code",
   "execution_count": null,
   "metadata": {
    "collapsed": false
   },
   "outputs": [],
   "source": []
  },
  {
   "cell_type": "code",
   "execution_count": 986,
   "metadata": {
    "collapsed": false
   },
   "outputs": [],
   "source": [
    "import statsmodels.api as sm\n",
    "from sklearn import linear_model, datasets\n",
    "from sklearn.cross_validation import train_test_split"
   ]
  },
  {
   "cell_type": "code",
   "execution_count": 987,
   "metadata": {
    "collapsed": false
   },
   "outputs": [],
   "source": [
    "#dropping HPV_Vaccination, our dependent variable, from all of the features\n",
    "\n",
    "all_features = data[['Unemployment','TrumpSupport','Tobaccoretail_rate','Teen_Births',\n",
    "      'Supermarketarea_rate','Sugary_Drink','Stroke_Hosp','Smoking',\n",
    "      'Self_rep_health','Schoolabsent_rate','Rent_burden',\n",
    "      'Racewhite_Rate','Raceother_rate','Racehispanic_rate',\n",
    "      'Raceblack_rate','Raceasian_rate','Psych_Hosp','Preterm_Births',\n",
    "      'Premature_Mort','Poverty','OverallPopulation_rate','Obesity',\n",
    "      'Nonwhite_rate','Ltd_Eng_Prof','Life_expectancy_rate',\n",
    "      'Late_No_Prenatal','Jailincarceration','Insurance','IMR','Housing_Defects','HIV_Testing_Ever',\n",
    "      'HIV_Diagnosis','Fruit_Veg','Foreign_born','Flu_Vaccination',\n",
    "      'Exercise','Eduhsdegreeorsomecollege_rate',\n",
    "      'Edudidnotcompletehs_rate','Educollegedegreeandhigher_rate',\n",
    "      'Drug_Hosp','Didnt_Get_Care','Diabetes','Avoidable_Diabetes',\n",
    "      'Avoidable_Asthma','Asthma_5to14',\n",
    "      'Assault_Hosps','Alc_Hosp','Airquality_rate','Age65plus_rate',\n",
    "      'Age45to64_rate','Age25to44_rate','Age18to24_rate',\n",
    "      'Age0to17_rate']]"
   ]
  },
  {
   "cell_type": "code",
   "execution_count": 988,
   "metadata": {
    "collapsed": false
   },
   "outputs": [],
   "source": [
    "# these are the variables that I think are important, intuitively\n",
    "\n",
    "feature_set = data[['TrumpSupport','Poverty',\n",
    "      'Insurance','Flu_Vaccination','Eduhsdegreeorsomecollege_rate']]"
   ]
  },
  {
   "cell_type": "code",
   "execution_count": 989,
   "metadata": {
    "collapsed": false,
    "scrolled": true
   },
   "outputs": [],
   "source": [
    "X = feature_set\n",
    "y = data['HPV_vaccination']"
   ]
  },
  {
   "cell_type": "code",
   "execution_count": 990,
   "metadata": {
    "collapsed": false
   },
   "outputs": [
    {
     "data": {
      "text/html": [
       "<table class=\"simpletable\">\n",
       "<caption>OLS Regression Results</caption>\n",
       "<tr>\n",
       "  <th>Dep. Variable:</th>     <td>HPV_vaccination</td> <th>  R-squared:         </th> <td>   0.719</td>\n",
       "</tr>\n",
       "<tr>\n",
       "  <th>Model:</th>                   <td>OLS</td>       <th>  Adj. R-squared:    </th> <td>   0.693</td>\n",
       "</tr>\n",
       "<tr>\n",
       "  <th>Method:</th>             <td>Least Squares</td>  <th>  F-statistic:       </th> <td>   27.16</td>\n",
       "</tr>\n",
       "<tr>\n",
       "  <th>Date:</th>             <td>Tue, 06 Dec 2016</td> <th>  Prob (F-statistic):</th> <td>1.64e-13</td>\n",
       "</tr>\n",
       "<tr>\n",
       "  <th>Time:</th>                 <td>17:02:32</td>     <th>  Log-Likelihood:    </th> <td> -193.85</td>\n",
       "</tr>\n",
       "<tr>\n",
       "  <th>No. Observations:</th>      <td>    59</td>      <th>  AIC:               </th> <td>   399.7</td>\n",
       "</tr>\n",
       "<tr>\n",
       "  <th>Df Residuals:</th>          <td>    53</td>      <th>  BIC:               </th> <td>   412.2</td>\n",
       "</tr>\n",
       "<tr>\n",
       "  <th>Df Model:</th>              <td>     5</td>      <th>                     </th>     <td> </td>   \n",
       "</tr>\n",
       "<tr>\n",
       "  <th>Covariance Type:</th>      <td>nonrobust</td>    <th>                     </th>     <td> </td>   \n",
       "</tr>\n",
       "</table>\n",
       "<table class=\"simpletable\">\n",
       "<tr>\n",
       "                <td></td>                   <th>coef</th>     <th>std err</th>      <th>t</th>      <th>P>|t|</th> <th>[95.0% Conf. Int.]</th> \n",
       "</tr>\n",
       "<tr>\n",
       "  <th>const</th>                         <td>    7.1982</td> <td>   10.005</td> <td>    0.719</td> <td> 0.475</td> <td>  -12.869    27.265</td>\n",
       "</tr>\n",
       "<tr>\n",
       "  <th>TrumpSupport</th>                  <td>  -15.4989</td> <td>    6.433</td> <td>   -2.409</td> <td> 0.019</td> <td>  -28.401    -2.597</td>\n",
       "</tr>\n",
       "<tr>\n",
       "  <th>Poverty</th>                       <td>    0.3470</td> <td>    0.122</td> <td>    2.848</td> <td> 0.006</td> <td>    0.103     0.591</td>\n",
       "</tr>\n",
       "<tr>\n",
       "  <th>Insurance</th>                     <td>    0.7858</td> <td>    0.187</td> <td>    4.201</td> <td> 0.000</td> <td>    0.411     1.161</td>\n",
       "</tr>\n",
       "<tr>\n",
       "  <th>Flu_Vaccination</th>               <td>    0.7267</td> <td>    0.210</td> <td>    3.467</td> <td> 0.001</td> <td>    0.306     1.147</td>\n",
       "</tr>\n",
       "<tr>\n",
       "  <th>Eduhsdegreeorsomecollege_rate</th> <td>   -0.4626</td> <td>    0.093</td> <td>   -4.950</td> <td> 0.000</td> <td>   -0.650    -0.275</td>\n",
       "</tr>\n",
       "</table>\n",
       "<table class=\"simpletable\">\n",
       "<tr>\n",
       "  <th>Omnibus:</th>       <td> 2.821</td> <th>  Durbin-Watson:     </th> <td>   1.488</td>\n",
       "</tr>\n",
       "<tr>\n",
       "  <th>Prob(Omnibus):</th> <td> 0.244</td> <th>  Jarque-Bera (JB):  </th> <td>   1.965</td>\n",
       "</tr>\n",
       "<tr>\n",
       "  <th>Skew:</th>          <td> 0.292</td> <th>  Prob(JB):          </th> <td>   0.374</td>\n",
       "</tr>\n",
       "<tr>\n",
       "  <th>Kurtosis:</th>      <td> 3.677</td> <th>  Cond. No.          </th> <td>    733.</td>\n",
       "</tr>\n",
       "</table>"
      ],
      "text/plain": [
       "<class 'statsmodels.iolib.summary.Summary'>\n",
       "\"\"\"\n",
       "                            OLS Regression Results                            \n",
       "==============================================================================\n",
       "Dep. Variable:        HPV_vaccination   R-squared:                       0.719\n",
       "Model:                            OLS   Adj. R-squared:                  0.693\n",
       "Method:                 Least Squares   F-statistic:                     27.16\n",
       "Date:                Tue, 06 Dec 2016   Prob (F-statistic):           1.64e-13\n",
       "Time:                        17:02:32   Log-Likelihood:                -193.85\n",
       "No. Observations:                  59   AIC:                             399.7\n",
       "Df Residuals:                      53   BIC:                             412.2\n",
       "Df Model:                           5                                         \n",
       "Covariance Type:            nonrobust                                         \n",
       "=================================================================================================\n",
       "                                    coef    std err          t      P>|t|      [95.0% Conf. Int.]\n",
       "-------------------------------------------------------------------------------------------------\n",
       "const                             7.1982     10.005      0.719      0.475       -12.869    27.265\n",
       "TrumpSupport                    -15.4989      6.433     -2.409      0.019       -28.401    -2.597\n",
       "Poverty                           0.3470      0.122      2.848      0.006         0.103     0.591\n",
       "Insurance                         0.7858      0.187      4.201      0.000         0.411     1.161\n",
       "Flu_Vaccination                   0.7267      0.210      3.467      0.001         0.306     1.147\n",
       "Eduhsdegreeorsomecollege_rate    -0.4626      0.093     -4.950      0.000        -0.650    -0.275\n",
       "==============================================================================\n",
       "Omnibus:                        2.821   Durbin-Watson:                   1.488\n",
       "Prob(Omnibus):                  0.244   Jarque-Bera (JB):                1.965\n",
       "Skew:                           0.292   Prob(JB):                        0.374\n",
       "Kurtosis:                       3.677   Cond. No.                         733.\n",
       "==============================================================================\n",
       "\n",
       "Warnings:\n",
       "[1] Standard Errors assume that the covariance matrix of the errors is correctly specified.\n",
       "\"\"\""
      ]
     },
     "execution_count": 990,
     "metadata": {},
     "output_type": "execute_result"
    }
   ],
   "source": [
    "X = sm.add_constant(X)\n",
    "est = sm.OLS(y,X).fit()\n",
    "est.summary()"
   ]
  },
  {
   "cell_type": "code",
   "execution_count": null,
   "metadata": {
    "collapsed": false
   },
   "outputs": [],
   "source": []
  },
  {
   "cell_type": "code",
   "execution_count": 991,
   "metadata": {
    "collapsed": false
   },
   "outputs": [
    {
     "data": {
      "text/plain": [
       "<matplotlib.axes._subplots.AxesSubplot at 0x1549d1750>"
      ]
     },
     "execution_count": 991,
     "metadata": {},
     "output_type": "execute_result"
    },
    {
     "data": {
      "image/png": "[encoded data removed]",
      "text/plain": [
       "<matplotlib.figure.Figure at 0x1541b7bd0>"
      ]
     },
     "metadata": {},
     "output_type": "display_data"
    }
   ],
   "source": [
    "# the residuals appear normally distributed\n",
    "\n",
    "residuals = y - est.predict(X)\n",
    "residuals.plot(kind=\"density\", figsize=(8,4))"
   ]
  },
  {
   "cell_type": "code",
   "execution_count": 992,
   "metadata": {
    "collapsed": false
   },
   "outputs": [
    {
     "data": {
      "text/html": [
       "<div>\n",
       "<table border=\"1\" class=\"dataframe\">\n",
       "  <thead>\n",
       "    <tr style=\"text-align: right;\">\n",
       "      <th></th>\n",
       "      <th>TrumpSupport</th>\n",
       "      <th>Poverty</th>\n",
       "      <th>Insurance</th>\n",
       "      <th>Flu_Vaccination</th>\n",
       "      <th>Eduhsdegreeorsomecollege_rate</th>\n",
       "    </tr>\n",
       "  </thead>\n",
       "  <tbody>\n",
       "    <tr>\n",
       "      <th>TrumpSupport</th>\n",
       "      <td>1.000000</td>\n",
       "      <td>-0.377047</td>\n",
       "      <td>-0.171390</td>\n",
       "      <td>-0.300323</td>\n",
       "      <td>0.114680</td>\n",
       "    </tr>\n",
       "    <tr>\n",
       "      <th>Poverty</th>\n",
       "      <td>-0.377047</td>\n",
       "      <td>1.000000</td>\n",
       "      <td>0.592373</td>\n",
       "      <td>0.269490</td>\n",
       "      <td>0.322741</td>\n",
       "    </tr>\n",
       "    <tr>\n",
       "      <th>Insurance</th>\n",
       "      <td>-0.171390</td>\n",
       "      <td>0.592373</td>\n",
       "      <td>1.000000</td>\n",
       "      <td>0.011902</td>\n",
       "      <td>0.389201</td>\n",
       "    </tr>\n",
       "    <tr>\n",
       "      <th>Flu_Vaccination</th>\n",
       "      <td>-0.300323</td>\n",
       "      <td>0.269490</td>\n",
       "      <td>0.011902</td>\n",
       "      <td>1.000000</td>\n",
       "      <td>-0.274050</td>\n",
       "    </tr>\n",
       "    <tr>\n",
       "      <th>Eduhsdegreeorsomecollege_rate</th>\n",
       "      <td>0.114680</td>\n",
       "      <td>0.322741</td>\n",
       "      <td>0.389201</td>\n",
       "      <td>-0.274050</td>\n",
       "      <td>1.000000</td>\n",
       "    </tr>\n",
       "  </tbody>\n",
       "</table>\n",
       "</div>"
      ],
      "text/plain": [
       "                               TrumpSupport   Poverty  Insurance  \\\n",
       "TrumpSupport                       1.000000 -0.377047  -0.171390   \n",
       "Poverty                           -0.377047  1.000000   0.592373   \n",
       "Insurance                         -0.171390  0.592373   1.000000   \n",
       "Flu_Vaccination                   -0.300323  0.269490   0.011902   \n",
       "Eduhsdegreeorsomecollege_rate      0.114680  0.322741   0.389201   \n",
       "\n",
       "                               Flu_Vaccination  Eduhsdegreeorsomecollege_rate  \n",
       "TrumpSupport                         -0.300323                       0.114680  \n",
       "Poverty                               0.269490                       0.322741  \n",
       "Insurance                             0.011902                       0.389201  \n",
       "Flu_Vaccination                       1.000000                      -0.274050  \n",
       "Eduhsdegreeorsomecollege_rate        -0.274050                       1.000000  "
      ]
     },
     "execution_count": 992,
     "metadata": {},
     "output_type": "execute_result"
    }
   ],
   "source": [
    "# how correlation are my features?\n",
    "\n",
    "feature_set.corr()"
   ]
  },
  {
   "cell_type": "code",
   "execution_count": 993,
   "metadata": {
    "collapsed": false
   },
   "outputs": [
    {
     "name": "stdout",
     "output_type": "stream",
     "text": [
      "                               HPV_vaccination  TrumpSupport   Poverty  \\\n",
      "HPV_vaccination                       1.000000     -0.514131  0.543315   \n",
      "TrumpSupport                         -0.514131      1.000000 -0.377047   \n",
      "Poverty                               0.543315     -0.377047  1.000000   \n",
      "Insurance                             0.439557     -0.171390  0.592373   \n",
      "Flu_Vaccination                       0.551805     -0.300323  0.269490   \n",
      "Eduhsdegreeorsomecollege_rate        -0.285011      0.114680  0.322741   \n",
      "\n",
      "                               Insurance  Flu_Vaccination  \\\n",
      "HPV_vaccination                 0.439557         0.551805   \n",
      "TrumpSupport                   -0.171390        -0.300323   \n",
      "Poverty                         0.592373         0.269490   \n",
      "Insurance                       1.000000         0.011902   \n",
      "Flu_Vaccination                 0.011902         1.000000   \n",
      "Eduhsdegreeorsomecollege_rate   0.389201        -0.274050   \n",
      "\n",
      "                               Eduhsdegreeorsomecollege_rate  \n",
      "HPV_vaccination                                    -0.285011  \n",
      "TrumpSupport                                        0.114680  \n",
      "Poverty                                             0.322741  \n",
      "Insurance                                           0.389201  \n",
      "Flu_Vaccination                                    -0.274050  \n",
      "Eduhsdegreeorsomecollege_rate                       1.000000  \n",
      "Axes(0.125,0.125;0.62x0.775)\n"
     ]
    },
    {
     "data": {
      "image/png": "[encoded data removed]",
      "text/plain": [
       "<matplotlib.figure.Figure at 0x1554c4410>"
      ]
     },
     "metadata": {},
     "output_type": "display_data"
    }
   ],
   "source": [
    "\n",
    "correlation_set = data[['HPV_vaccination','TrumpSupport','Poverty',\n",
    "      'Insurance','Flu_Vaccination','Eduhsdegreeorsomecollege_rate']].corr()\n",
    "\n",
    "cmap = sns.diverging_palette(220, 10, as_cmap=True)\n",
    "print correlation_set\n",
    "print sns.heatmap(correlation_set, cmap=cmap)"
   ]
  },
  {
   "cell_type": "code",
   "execution_count": 994,
   "metadata": {
    "collapsed": false,
    "scrolled": false
   },
   "outputs": [
    {
     "name": "stdout",
     "output_type": "stream",
     "text": [
      "Populating the interactive namespace from numpy and matplotlib\n",
      "~~~ OLS ~~~\n",
      "OLS MSE:  0.627579732143\n",
      "OLS R2: 0.99578790119\n",
      "~~~ Lasso ~~~\n",
      "Lasso MSE:  10.4190738463\n",
      "Lasso R2: 0.930070768227\n",
      "~~~ Ridge ~~~\n",
      "Ridge MSE:  1.98708564087\n",
      "Ridge R2: 0.986663366209\n"
     ]
    }
   ],
   "source": [
    "# Now let's take a look at all of the features\n",
    "\n",
    "from sklearn import linear_model, metrics\n",
    "%pylab inline\n",
    "\n",
    "X = all_features\n",
    "\n",
    "lm = linear_model.LinearRegression().fit(X, y)\n",
    "print \"~~~ OLS ~~~\"\n",
    "print 'OLS MSE: ', metrics.mean_squared_error(y, lm.predict(X))\n",
    "print 'OLS R2:', lm.score(X, y)\n",
    "\n",
    "lm = linear_model.Lasso().fit(X, y)\n",
    "print \"~~~ Lasso ~~~\"\n",
    "print 'Lasso MSE: ', metrics.mean_squared_error(y, lm.predict(X))\n",
    "print 'Lasso R2:', lm.score(X, y)\n",
    "\n",
    "lm = linear_model.Ridge().fit(X, y)\n",
    "print \"~~~ Ridge ~~~\"\n",
    "print 'Ridge MSE: ', metrics.mean_squared_error(y, lm.predict(X))\n",
    "print 'Ridge R2:', lm.score(X, y)"
   ]
  },
  {
   "cell_type": "code",
   "execution_count": 995,
   "metadata": {
    "collapsed": true
   },
   "outputs": [],
   "source": [
    "# Even though R2 has a lower R2, I choose to use it due to the small no of features"
   ]
  },
  {
   "cell_type": "code",
   "execution_count": 996,
   "metadata": {
    "collapsed": false
   },
   "outputs": [
    {
     "name": "stdout",
     "output_type": "stream",
     "text": [
      "<bound method GridSearchCV.fit of GridSearchCV(cv=None, error_score='raise',\n",
      "       estimator=Lasso(alpha=1.0, copy_X=True, fit_intercept=True, max_iter=1000,\n",
      "   normalize=False, positive=False, precompute=False, random_state=None,\n",
      "   selection='cyclic', tol=0.0001, warm_start=False),\n",
      "       fit_params={}, iid=True, n_jobs=1,\n",
      "       param_grid={'alpha': array([  1.00000e-10,   1.00000e-09,   1.00000e-08,   1.00000e-07,\n",
      "         1.00000e-06,   1.00000e-05,   1.00000e-04,   1.00000e-03,\n",
      "         1.00000e-02,   1.00000e-01,   1.00000e+00,   1.00000e+01,\n",
      "         1.00000e+02,   1.00000e+03,   1.00000e+04,   1.00000e+05,\n",
      "         1.00000e+06,   1.00000e+07,   1.00000e+08,   1.00000e+09,\n",
      "         1.00000e+10])},\n",
      "       pre_dispatch='2*n_jobs', refit=True, scoring='r2', verbose=0)>\n",
      "0.261381742898\n",
      "Lasso(alpha=10.0, copy_X=True, fit_intercept=True, max_iter=1000,\n",
      "   normalize=False, positive=False, precompute=False, random_state=None,\n",
      "   selection='cyclic', tol=0.0001, warm_start=False)\n"
     ]
    }
   ],
   "source": [
    "from sklearn import grid_search\n",
    "\n",
    "X = all_features\n",
    "\n",
    "alphas = np.logspace(-10, 10, 21)\n",
    "gs = grid_search.GridSearchCV(\n",
    "    estimator=linear_model.Lasso(),\n",
    "    param_grid={'alpha': alphas},\n",
    "    scoring='r2')\n",
    "\n",
    "gs.fit(X, y)\n",
    "\n",
    "print gs.fit\n",
    "print gs.best_score_\n",
    "print gs.best_estimator_"
   ]
  },
  {
   "cell_type": "code",
   "execution_count": 997,
   "metadata": {
    "collapsed": false
   },
   "outputs": [
    {
     "name": "stdout",
     "output_type": "stream",
     "text": [
      "~~~ Lasso ~~~\n",
      "Lasso MSE:  19.3803330085\n",
      "Lasso R2: 0.869925886045\n",
      "[ -0.00000000e+00  -0.00000000e+00   0.00000000e+00   0.00000000e+00\n",
      "   1.01288145e-02  -0.00000000e+00  -3.32621105e-02  -0.00000000e+00\n",
      "  -0.00000000e+00  -0.00000000e+00  -0.00000000e+00  -9.02702251e-02\n",
      "   0.00000000e+00   8.88631930e-02  -0.00000000e+00   0.00000000e+00\n",
      "  -1.07721826e-02   0.00000000e+00  -5.30500104e-02   0.00000000e+00\n",
      "  -1.55249787e-05  -0.00000000e+00   1.31963851e-01   9.82417279e-02\n",
      "   0.00000000e+00   0.00000000e+00   6.19160549e-02   0.00000000e+00\n",
      "   0.00000000e+00   9.47537165e-03   0.00000000e+00   1.02819573e-02\n",
      "   0.00000000e+00   0.00000000e+00   0.00000000e+00   0.00000000e+00\n",
      "  -3.38814422e-01   0.00000000e+00   0.00000000e+00  -2.03751989e-03\n",
      "  -0.00000000e+00  -0.00000000e+00  -1.58465156e-02  -2.17143486e-03\n",
      "  -0.00000000e+00  -0.00000000e+00   1.78806635e-02   0.00000000e+00\n",
      "  -0.00000000e+00  -0.00000000e+00   0.00000000e+00  -0.00000000e+00\n",
      "  -0.00000000e+00]\n"
     ]
    }
   ],
   "source": [
    "lasso = linear_model.Lasso(alpha=10)\n",
    "lasso.fit(X, y)\n",
    "\n",
    "print \"~~~ Lasso ~~~\"\n",
    "print 'Lasso MSE: ', metrics.mean_squared_error(y, lasso.predict(X))\n",
    "print 'Lasso R2:', lasso.score(X, y)\n",
    "print lasso.coef_ "
   ]
  },
  {
   "cell_type": "code",
   "execution_count": 998,
   "metadata": {
    "collapsed": false
   },
   "outputs": [
    {
     "name": "stdout",
     "output_type": "stream",
     "text": [
      "Coefficients\n",
      "[(-0.0, 'Unemployment'), (-0.0, 'TrumpSupport'), (0.0, 'Tobaccoretail_rate'), (0.0, 'Teen_Births'), (0.0101, 'Supermarketarea_rate'), (-0.0, 'Sugary_Drink'), (-0.0333, 'Stroke_Hosp'), (-0.0, 'Smoking'), (-0.0, 'Self_rep_health'), (-0.0, 'Schoolabsent_rate'), (-0.0, 'Rent_burden'), (-0.0903, 'Racewhite_Rate'), (0.0, 'Raceother_rate'), (0.0889, 'Racehispanic_rate'), (-0.0, 'Raceblack_rate'), (0.0, 'Raceasian_rate'), (-0.0108, 'Psych_Hosp'), (0.0, 'Preterm_Births'), (-0.0531, 'Premature_Mort'), (0.0, 'Poverty'), (-0.0, 'OverallPopulation_rate'), (-0.0, 'Obesity'), (0.132, 'Nonwhite_rate'), (0.0982, 'Ltd_Eng_Prof'), (0.0, 'Life_expectancy_rate'), (0.0, 'Late_No_Prenatal'), (0.0619, 'Jailincarceration'), (0.0, 'Insurance'), (0.0, 'IMR'), (0.0095, 'Housing_Defects'), (0.0, 'HIV_Testing_Ever'), (0.0103, 'HIV_Diagnosis'), (0.0, 'Fruit_Veg'), (0.0, 'Foreign_born'), (0.0, 'Flu_Vaccination'), (0.0, 'Exercise'), (-0.3388, 'Eduhsdegreeorsomecollege_rate'), (0.0, 'Edudidnotcompletehs_rate'), (0.0, 'Educollegedegreeandhigher_rate'), (-0.002, 'Drug_Hosp'), (-0.0, 'Didnt_Get_Care'), (-0.0, 'Diabetes'), (-0.0158, 'Avoidable_Diabetes'), (-0.0022, 'Avoidable_Asthma'), (-0.0, 'Asthma_5to14'), (-0.0, 'Assault_Hosps'), (0.0179, 'Alc_Hosp'), (0.0, 'Airquality_rate'), (-0.0, 'Age65plus_rate'), (-0.0, 'Age45to64_rate'), (0.0, 'Age25to44_rate'), (-0.0, 'Age18to24_rate'), (-0.0, 'Age0to17_rate')]\n"
     ]
    }
   ],
   "source": [
    "names = X.columns\n",
    "\n",
    "print \"Coefficients\"\n",
    "print zip(map(lambda x: round(x, 4), lasso.coef_), names)"
   ]
  },
  {
   "cell_type": "code",
   "execution_count": 999,
   "metadata": {
    "collapsed": false
   },
   "outputs": [
    {
     "name": "stdout",
     "output_type": "stream",
     "text": [
      "<bound method GridSearchCV.fit of GridSearchCV(cv=None, error_score='raise',\n",
      "       estimator=Ridge(alpha=1.0, copy_X=True, fit_intercept=True, max_iter=None,\n",
      "   normalize=False, random_state=None, solver='auto', tol=0.001),\n",
      "       fit_params={}, iid=True, n_jobs=1,\n",
      "       param_grid={'alpha': array([  1.00000e-10,   1.00000e-09,   1.00000e-08,   1.00000e-07,\n",
      "         1.00000e-06,   1.00000e-05,   1.00000e-04,   1.00000e-03,\n",
      "         1.00000e-02,   1.00000e-01,   1.00000e+00,   1.00000e+01,\n",
      "         1.00000e+02,   1.00000e+03,   1.00000e+04,   1.00000e+05,\n",
      "         1.00000e+06,   1.00000e+07,   1.00000e+08,   1.00000e+09,\n",
      "         1.00000e+10])},\n",
      "       pre_dispatch='2*n_jobs', refit=True, scoring='r2', verbose=0)>\n",
      "0.371605019213\n",
      "Ridge(alpha=1000.0, copy_X=True, fit_intercept=True, max_iter=None,\n",
      "   normalize=False, random_state=None, solver='auto', tol=0.001)\n"
     ]
    }
   ],
   "source": [
    "# trying using ridge\n",
    "\n",
    "X = all_features\n",
    "\n",
    "alphas = np.logspace(-10, 10, 21)\n",
    "gs = grid_search.GridSearchCV(\n",
    "    estimator=linear_model.Ridge(),\n",
    "    param_grid={'alpha': alphas},\n",
    "    scoring='r2')\n",
    "\n",
    "gs.fit(X, y)\n",
    "\n",
    "print gs.fit\n",
    "print gs.best_score_\n",
    "print gs.best_estimator_"
   ]
  },
  {
   "cell_type": "code",
   "execution_count": 1000,
   "metadata": {
    "collapsed": false
   },
   "outputs": [
    {
     "name": "stdout",
     "output_type": "stream",
     "text": [
      "~~~ Ridge ~~~\n",
      "Ridge MSE:  11.5847853384\n",
      "Ridge R2: 0.922246914561\n",
      "[ -6.09403660e-03  -2.13014483e-04   5.19811808e-02   8.44721951e-02\n",
      "   1.07930515e-02  -7.97264147e-02  -2.88573704e-02   1.79260007e-02\n",
      "  -4.81496263e-02  -5.30582624e-02  -1.55017016e-01  -1.08880198e-01\n",
      "   5.21806234e-03   1.08752172e-01  -4.54758855e-02   5.46776869e-02\n",
      "  -9.37231170e-03   6.50791482e-02  -2.72272716e-02  -3.58497934e-02\n",
      "  -5.14475502e-06  -6.62008270e-02   1.08880198e-01   8.71596582e-02\n",
      "   1.06170716e-02   3.51230581e-02   6.33839662e-02   6.14221302e-03\n",
      "   1.57573410e-02   7.62483736e-02   6.43060408e-02   1.97899323e-02\n",
      "   4.37588043e-02   8.54777991e-02   7.75846262e-02   5.14556176e-02\n",
      "  -1.65624903e-01   1.23533738e-01   5.81224329e-02   2.41826296e-03\n",
      "  -3.06347056e-02  -1.90015213e-02  -6.96145112e-04  -6.73074838e-03\n",
      "  -3.64866198e-03  -6.95210130e-02   1.06757290e-02   1.10771918e-02\n",
      "   2.83528021e-02   2.41810216e-03   1.07112266e-01  -3.36297985e-02\n",
      "  -1.11740280e-01]\n"
     ]
    }
   ],
   "source": [
    "ridge = linear_model.Ridge(alpha=1000)\n",
    "ridge.fit(X, y)\n",
    "\n",
    "print \"~~~ Ridge ~~~\"\n",
    "print 'Ridge MSE: ', metrics.mean_squared_error(y, ridge.predict(X))\n",
    "print 'Ridge R2:', ridge.score(X, y)\n",
    "print ridge.coef_"
   ]
  },
  {
   "cell_type": "code",
   "execution_count": 1001,
   "metadata": {
    "collapsed": true
   },
   "outputs": [],
   "source": [
    "# let's try to take a reduced sample - I still choose the features though\n",
    "\n",
    "new_set = data[['Unemployment','TrumpSupport','Teen_Births',\n",
    "      'Self_rep_health','Rent_burden','Poverty','Nonwhite_rate',\n",
    "     'Insurance','Housing_Defects','HIV_Testing_Ever',\n",
    "      'HIV_Diagnosis','Fruit_Veg','Flu_Vaccination',\n",
    "      'Exercise','Eduhsdegreeorsomecollege_rate']]"
   ]
  },
  {
   "cell_type": "code",
   "execution_count": 1002,
   "metadata": {
    "collapsed": false
   },
   "outputs": [
    {
     "name": "stdout",
     "output_type": "stream",
     "text": [
      "<bound method GridSearchCV.fit of GridSearchCV(cv=None, error_score='raise',\n",
      "       estimator=Lasso(alpha=1.0, copy_X=True, fit_intercept=True, max_iter=1000,\n",
      "   normalize=False, positive=False, precompute=False, random_state=None,\n",
      "   selection='cyclic', tol=0.0001, warm_start=False),\n",
      "       fit_params={}, iid=True, n_jobs=1,\n",
      "       param_grid={'alpha': array([  1.00000e-10,   1.00000e-09,   1.00000e-08,   1.00000e-07,\n",
      "         1.00000e-06,   1.00000e-05,   1.00000e-04,   1.00000e-03,\n",
      "         1.00000e-02,   1.00000e-01,   1.00000e+00,   1.00000e+01,\n",
      "         1.00000e+02,   1.00000e+03,   1.00000e+04,   1.00000e+05,\n",
      "         1.00000e+06,   1.00000e+07,   1.00000e+08,   1.00000e+09,\n",
      "         1.00000e+10])},\n",
      "       pre_dispatch='2*n_jobs', refit=True, scoring='r2', verbose=0)>\n",
      "-0.147811654312\n",
      "Lasso(alpha=10.0, copy_X=True, fit_intercept=True, max_iter=1000,\n",
      "   normalize=False, positive=False, precompute=False, random_state=None,\n",
      "   selection='cyclic', tol=0.0001, warm_start=False)\n"
     ]
    }
   ],
   "source": [
    "X = new_set\n",
    "\n",
    "alphas = np.logspace(-10, 10, 21)\n",
    "gs = grid_search.GridSearchCV(\n",
    "    estimator=linear_model.Lasso(),\n",
    "    param_grid={'alpha': alphas},\n",
    "    scoring='r2')\n",
    "\n",
    "gs.fit(X, y)\n",
    "\n",
    "print gs.fit\n",
    "print gs.best_score_\n",
    "print gs.best_estimator_"
   ]
  },
  {
   "cell_type": "code",
   "execution_count": 1003,
   "metadata": {
    "collapsed": false
   },
   "outputs": [
    {
     "name": "stdout",
     "output_type": "stream",
     "text": [
      "~~~ Lasso ~~~\n",
      "Lasso MSE:  41.3372403917\n",
      "Lasso R2: 0.722558693139\n",
      "[-0.          0.          0.1122093  -0.06111408  0.          0.130493\n",
      "  0.27499596  0.          0.          0.          0.04583483 -0.\n",
      "  0.06397537 -0.         -0.65826889]\n"
     ]
    }
   ],
   "source": [
    "lasso = linear_model.Lasso(alpha=10)\n",
    "lasso.fit(X, y)\n",
    "\n",
    "print \"~~~ Lasso ~~~\"\n",
    "print 'Lasso MSE: ', metrics.mean_squared_error(y, lasso.predict(X))\n",
    "print 'Lasso R2:', lasso.score(X, y)\n",
    "print lasso.coef_ "
   ]
  },
  {
   "cell_type": "code",
   "execution_count": 1004,
   "metadata": {
    "collapsed": false
   },
   "outputs": [
    {
     "name": "stdout",
     "output_type": "stream",
     "text": [
      "Coefficients\n",
      "[(-0.0, 'Unemployment'), (0.0, 'TrumpSupport'), (0.1122, 'Teen_Births'), (-0.0611, 'Self_rep_health'), (0.0, 'Rent_burden'), (0.1305, 'Poverty'), (0.275, 'Nonwhite_rate'), (0.0, 'Insurance'), (0.0, 'Housing_Defects'), (0.0, 'HIV_Testing_Ever'), (0.0458, 'HIV_Diagnosis'), (-0.0, 'Fruit_Veg'), (0.064, 'Flu_Vaccination'), (-0.0, 'Exercise'), (-0.6583, 'Eduhsdegreeorsomecollege_rate')]\n"
     ]
    }
   ],
   "source": [
    "names = X.columns\n",
    "\n",
    "print \"Coefficients\"\n",
    "print zip(map(lambda x: round(x, 4), lasso.coef_), names)"
   ]
  },
  {
   "cell_type": "code",
   "execution_count": 1005,
   "metadata": {
    "collapsed": false,
    "scrolled": true
   },
   "outputs": [],
   "source": [
    "X = data[['Teen_Births','Self_rep_health','Nonwhite_rate','Poverty','HIV_Diagnosis',\\\n",
    "          'Flu_Vaccination','Eduhsdegreeorsomecollege_rate']]"
   ]
  },
  {
   "cell_type": "code",
   "execution_count": 1006,
   "metadata": {
    "collapsed": false
   },
   "outputs": [
    {
     "data": {
      "text/html": [
       "<table class=\"simpletable\">\n",
       "<caption>OLS Regression Results</caption>\n",
       "<tr>\n",
       "  <th>Dep. Variable:</th>     <td>HPV_vaccination</td> <th>  R-squared:         </th> <td>   0.772</td>\n",
       "</tr>\n",
       "<tr>\n",
       "  <th>Model:</th>                   <td>OLS</td>       <th>  Adj. R-squared:    </th> <td>   0.741</td>\n",
       "</tr>\n",
       "<tr>\n",
       "  <th>Method:</th>             <td>Least Squares</td>  <th>  F-statistic:       </th> <td>   24.72</td>\n",
       "</tr>\n",
       "<tr>\n",
       "  <th>Date:</th>             <td>Tue, 06 Dec 2016</td> <th>  Prob (F-statistic):</th> <td>2.56e-14</td>\n",
       "</tr>\n",
       "<tr>\n",
       "  <th>Time:</th>                 <td>17:02:36</td>     <th>  Log-Likelihood:    </th> <td> -187.67</td>\n",
       "</tr>\n",
       "<tr>\n",
       "  <th>No. Observations:</th>      <td>    59</td>      <th>  AIC:               </th> <td>   391.3</td>\n",
       "</tr>\n",
       "<tr>\n",
       "  <th>Df Residuals:</th>          <td>    51</td>      <th>  BIC:               </th> <td>   408.0</td>\n",
       "</tr>\n",
       "<tr>\n",
       "  <th>Df Model:</th>              <td>     7</td>      <th>                     </th>     <td> </td>   \n",
       "</tr>\n",
       "<tr>\n",
       "  <th>Covariance Type:</th>      <td>nonrobust</td>    <th>                     </th>     <td> </td>   \n",
       "</tr>\n",
       "</table>\n",
       "<table class=\"simpletable\">\n",
       "<tr>\n",
       "                <td></td>                   <th>coef</th>     <th>std err</th>      <th>t</th>      <th>P>|t|</th> <th>[95.0% Conf. Int.]</th> \n",
       "</tr>\n",
       "<tr>\n",
       "  <th>const</th>                         <td>   58.1058</td> <td>   18.573</td> <td>    3.128</td> <td> 0.003</td> <td>   20.819    95.393</td>\n",
       "</tr>\n",
       "<tr>\n",
       "  <th>Teen_Births</th>                   <td>    0.2146</td> <td>    0.181</td> <td>    1.186</td> <td> 0.241</td> <td>   -0.149     0.578</td>\n",
       "</tr>\n",
       "<tr>\n",
       "  <th>Self_rep_health</th>               <td>   -0.4106</td> <td>    0.194</td> <td>   -2.112</td> <td> 0.040</td> <td>   -0.801    -0.020</td>\n",
       "</tr>\n",
       "<tr>\n",
       "  <th>Nonwhite_rate</th>                 <td>    0.2483</td> <td>    0.061</td> <td>    4.051</td> <td> 0.000</td> <td>    0.125     0.371</td>\n",
       "</tr>\n",
       "<tr>\n",
       "  <th>Poverty</th>                       <td>   -0.0487</td> <td>    0.200</td> <td>   -0.244</td> <td> 0.808</td> <td>   -0.450     0.352</td>\n",
       "</tr>\n",
       "<tr>\n",
       "  <th>HIV_Diagnosis</th>                 <td>    0.0590</td> <td>    0.051</td> <td>    1.159</td> <td> 0.252</td> <td>   -0.043     0.161</td>\n",
       "</tr>\n",
       "<tr>\n",
       "  <th>Flu_Vaccination</th>               <td>    0.4710</td> <td>    0.199</td> <td>    2.370</td> <td> 0.022</td> <td>    0.072     0.870</td>\n",
       "</tr>\n",
       "<tr>\n",
       "  <th>Eduhsdegreeorsomecollege_rate</th> <td>   -0.7344</td> <td>    0.104</td> <td>   -7.043</td> <td> 0.000</td> <td>   -0.944    -0.525</td>\n",
       "</tr>\n",
       "</table>\n",
       "<table class=\"simpletable\">\n",
       "<tr>\n",
       "  <th>Omnibus:</th>       <td> 1.539</td> <th>  Durbin-Watson:     </th> <td>   1.345</td>\n",
       "</tr>\n",
       "<tr>\n",
       "  <th>Prob(Omnibus):</th> <td> 0.463</td> <th>  Jarque-Bera (JB):  </th> <td>   0.912</td>\n",
       "</tr>\n",
       "<tr>\n",
       "  <th>Skew:</th>          <td> 0.277</td> <th>  Prob(JB):          </th> <td>   0.634</td>\n",
       "</tr>\n",
       "<tr>\n",
       "  <th>Kurtosis:</th>      <td> 3.255</td> <th>  Cond. No.          </th> <td>2.89e+03</td>\n",
       "</tr>\n",
       "</table>"
      ],
      "text/plain": [
       "<class 'statsmodels.iolib.summary.Summary'>\n",
       "\"\"\"\n",
       "                            OLS Regression Results                            \n",
       "==============================================================================\n",
       "Dep. Variable:        HPV_vaccination   R-squared:                       0.772\n",
       "Model:                            OLS   Adj. R-squared:                  0.741\n",
       "Method:                 Least Squares   F-statistic:                     24.72\n",
       "Date:                Tue, 06 Dec 2016   Prob (F-statistic):           2.56e-14\n",
       "Time:                        17:02:36   Log-Likelihood:                -187.67\n",
       "No. Observations:                  59   AIC:                             391.3\n",
       "Df Residuals:                      51   BIC:                             408.0\n",
       "Df Model:                           7                                         \n",
       "Covariance Type:            nonrobust                                         \n",
       "=================================================================================================\n",
       "                                    coef    std err          t      P>|t|      [95.0% Conf. Int.]\n",
       "-------------------------------------------------------------------------------------------------\n",
       "const                            58.1058     18.573      3.128      0.003        20.819    95.393\n",
       "Teen_Births                       0.2146      0.181      1.186      0.241        -0.149     0.578\n",
       "Self_rep_health                  -0.4106      0.194     -2.112      0.040        -0.801    -0.020\n",
       "Nonwhite_rate                     0.2483      0.061      4.051      0.000         0.125     0.371\n",
       "Poverty                          -0.0487      0.200     -0.244      0.808        -0.450     0.352\n",
       "HIV_Diagnosis                     0.0590      0.051      1.159      0.252        -0.043     0.161\n",
       "Flu_Vaccination                   0.4710      0.199      2.370      0.022         0.072     0.870\n",
       "Eduhsdegreeorsomecollege_rate    -0.7344      0.104     -7.043      0.000        -0.944    -0.525\n",
       "==============================================================================\n",
       "Omnibus:                        1.539   Durbin-Watson:                   1.345\n",
       "Prob(Omnibus):                  0.463   Jarque-Bera (JB):                0.912\n",
       "Skew:                           0.277   Prob(JB):                        0.634\n",
       "Kurtosis:                       3.255   Cond. No.                     2.89e+03\n",
       "==============================================================================\n",
       "\n",
       "Warnings:\n",
       "[1] Standard Errors assume that the covariance matrix of the errors is correctly specified.\n",
       "[2] The condition number is large, 2.89e+03. This might indicate that there are\n",
       "strong multicollinearity or other numerical problems.\n",
       "\"\"\""
      ]
     },
     "execution_count": 1006,
     "metadata": {},
     "output_type": "execute_result"
    }
   ],
   "source": [
    "X = sm.add_constant(X)\n",
    "est = sm.OLS(y,X).fit()\n",
    "est.summary()"
   ]
  },
  {
   "cell_type": "code",
   "execution_count": 1007,
   "metadata": {
    "collapsed": false
   },
   "outputs": [
    {
     "data": {
      "text/plain": [
       "<matplotlib.axes._subplots.AxesSubplot at 0x15427c3d0>"
      ]
     },
     "execution_count": 1007,
     "metadata": {},
     "output_type": "execute_result"
    },
    {
     "data": {
      "image/png": "[encoded data removed]",
      "text/plain": [
       "<matplotlib.figure.Figure at 0x15550cf50>"
      ]
     },
     "metadata": {},
     "output_type": "display_data"
    }
   ],
   "source": [
    "residuals = y - est.predict(X)\n",
    "residuals.plot(kind=\"density\", figsize=(8,4))"
   ]
  },
  {
   "cell_type": "code",
   "execution_count": 1012,
   "metadata": {
    "collapsed": false
   },
   "outputs": [
    {
     "name": "stdout",
     "output_type": "stream",
     "text": [
      "                               HPV_vaccination  Unemployment  TrumpSupport  \\\n",
      "HPV_vaccination                       1.000000      0.352816     -0.514131   \n",
      "Unemployment                          0.352816      1.000000     -0.487870   \n",
      "TrumpSupport                         -0.514131     -0.487870      1.000000   \n",
      "Teen_Births                           0.497002      0.823331     -0.415560   \n",
      "Self_rep_health                      -0.389013     -0.591853      0.086322   \n",
      "Rent_burden                           0.196921      0.683882     -0.058197   \n",
      "Poverty                               0.543315      0.768518     -0.377047   \n",
      "Nonwhite_rate                         0.481774      0.796825     -0.563608   \n",
      "Insurance                             0.439557      0.475164     -0.171390   \n",
      "Housing_Defects                       0.552469      0.687768     -0.619414   \n",
      "HIV_Testing_Ever                      0.535759      0.715519     -0.753310   \n",
      "HIV_Diagnosis                         0.493900      0.406236     -0.566659   \n",
      "Fruit_Veg                            -0.272331     -0.786347      0.388662   \n",
      "Flu_Vaccination                       0.551805      0.232840     -0.300323   \n",
      "Exercise                             -0.065200     -0.468365     -0.127842   \n",
      "Eduhsdegreeorsomecollege_rate        -0.285011      0.543359      0.114680   \n",
      "\n",
      "                               Teen_Births  Self_rep_health  Rent_burden  \\\n",
      "HPV_vaccination                   0.497002        -0.389013     0.196921   \n",
      "Unemployment                      0.823331        -0.591853     0.683882   \n",
      "TrumpSupport                     -0.415560         0.086322    -0.058197   \n",
      "Teen_Births                       1.000000        -0.700216     0.694922   \n",
      "Self_rep_health                  -0.700216         1.000000    -0.705527   \n",
      "Rent_burden                       0.694922        -0.705527     1.000000   \n",
      "Poverty                           0.882688        -0.737499     0.654728   \n",
      "Nonwhite_rate                     0.797528        -0.536567     0.703222   \n",
      "Insurance                         0.701406        -0.682104     0.731688   \n",
      "Housing_Defects                   0.742678        -0.401984     0.445088   \n",
      "HIV_Testing_Ever                  0.659385        -0.244192     0.256211   \n",
      "HIV_Diagnosis                     0.392900        -0.064498     0.058243   \n",
      "Fruit_Veg                        -0.754110         0.495613    -0.615958   \n",
      "Flu_Vaccination                   0.178436        -0.073305     0.060604   \n",
      "Exercise                         -0.495964         0.709746    -0.691045   \n",
      "Eduhsdegreeorsomecollege_rate     0.477897        -0.381377     0.660815   \n",
      "\n",
      "                                Poverty  Nonwhite_rate  Insurance  \\\n",
      "HPV_vaccination                0.543315       0.481774   0.439557   \n",
      "Unemployment                   0.768518       0.796825   0.475164   \n",
      "TrumpSupport                  -0.377047      -0.563608  -0.171390   \n",
      "Teen_Births                    0.882688       0.797528   0.701406   \n",
      "Self_rep_health               -0.737499      -0.536567  -0.682104   \n",
      "Rent_burden                    0.654728       0.703222   0.731688   \n",
      "Poverty                        1.000000       0.678705   0.592373   \n",
      "Nonwhite_rate                  0.678705       1.000000   0.697299   \n",
      "Insurance                      0.592373       0.697299   1.000000   \n",
      "Housing_Defects                0.720251       0.696299   0.546900   \n",
      "HIV_Testing_Ever               0.627457       0.662244   0.260702   \n",
      "HIV_Diagnosis                  0.438910       0.393295   0.122591   \n",
      "Fruit_Veg                     -0.712702      -0.730861  -0.467116   \n",
      "Flu_Vaccination                0.269490       0.200852   0.011902   \n",
      "Exercise                      -0.516146      -0.474455  -0.550072   \n",
      "Eduhsdegreeorsomecollege_rate  0.322741       0.550642   0.389201   \n",
      "\n",
      "                               Housing_Defects  HIV_Testing_Ever  \\\n",
      "HPV_vaccination                       0.552469          0.535759   \n",
      "Unemployment                          0.687768          0.715519   \n",
      "TrumpSupport                         -0.619414         -0.753310   \n",
      "Teen_Births                           0.742678          0.659385   \n",
      "Self_rep_health                      -0.401984         -0.244192   \n",
      "Rent_burden                           0.445088          0.256211   \n",
      "Poverty                               0.720251          0.627457   \n",
      "Nonwhite_rate                         0.696299          0.662244   \n",
      "Insurance                             0.546900          0.260702   \n",
      "Housing_Defects                       1.000000          0.773948   \n",
      "HIV_Testing_Ever                      0.773948          1.000000   \n",
      "HIV_Diagnosis                         0.539065          0.709566   \n",
      "Fruit_Veg                            -0.670322         -0.684432   \n",
      "Flu_Vaccination                       0.260219          0.450024   \n",
      "Exercise                             -0.167465          0.051743   \n",
      "Eduhsdegreeorsomecollege_rate         0.170087          0.111024   \n",
      "\n",
      "                               HIV_Diagnosis  Fruit_Veg  Flu_Vaccination  \\\n",
      "HPV_vaccination                     0.493900  -0.272331         0.551805   \n",
      "Unemployment                        0.406236  -0.786347         0.232840   \n",
      "TrumpSupport                       -0.566659   0.388662        -0.300323   \n",
      "Teen_Births                         0.392900  -0.754110         0.178436   \n",
      "Self_rep_health                    -0.064498   0.495613        -0.073305   \n",
      "Rent_burden                         0.058243  -0.615958         0.060604   \n",
      "Poverty                             0.438910  -0.712702         0.269490   \n",
      "Nonwhite_rate                       0.393295  -0.730861         0.200852   \n",
      "Insurance                           0.122591  -0.467116         0.011902   \n",
      "Housing_Defects                     0.539065  -0.670322         0.260219   \n",
      "HIV_Testing_Ever                    0.709566  -0.684432         0.450024   \n",
      "HIV_Diagnosis                       1.000000  -0.306900         0.282058   \n",
      "Fruit_Veg                          -0.306900   1.000000        -0.270953   \n",
      "Flu_Vaccination                     0.282058  -0.270953         1.000000   \n",
      "Exercise                            0.274302   0.460408         0.107110   \n",
      "Eduhsdegreeorsomecollege_rate      -0.081134  -0.580680        -0.274050   \n",
      "\n",
      "                               Exercise  Eduhsdegreeorsomecollege_rate  \n",
      "HPV_vaccination               -0.065200                      -0.285011  \n",
      "Unemployment                  -0.468365                       0.543359  \n",
      "TrumpSupport                  -0.127842                       0.114680  \n",
      "Teen_Births                   -0.495964                       0.477897  \n",
      "Self_rep_health                0.709746                      -0.381377  \n",
      "Rent_burden                   -0.691045                       0.660815  \n",
      "Poverty                       -0.516146                       0.322741  \n",
      "Nonwhite_rate                 -0.474455                       0.550642  \n",
      "Insurance                     -0.550072                       0.389201  \n",
      "Housing_Defects               -0.167465                       0.170087  \n",
      "HIV_Testing_Ever               0.051743                       0.111024  \n",
      "HIV_Diagnosis                  0.274302                      -0.081134  \n",
      "Fruit_Veg                      0.460408                      -0.580680  \n",
      "Flu_Vaccination                0.107110                      -0.274050  \n",
      "Exercise                       1.000000                      -0.590532  \n",
      "Eduhsdegreeorsomecollege_rate -0.590532                       1.000000  \n",
      "Axes(0.125,0.125;0.62x0.775)\n"
     ]
    },
    {
     "data": {
      "image/png": "[encoded data removed]",
      "text/plain": [
       "<matplotlib.figure.Figure at 0x154e5ecd0>"
      ]
     },
     "metadata": {},
     "output_type": "display_data"
    }
   ],
   "source": [
    "# take a look at the correlation matrix\n",
    "\n",
    "\n",
    "correlations = data[['HPV_vaccination','Unemployment','TrumpSupport','Teen_Births',\n",
    "      'Self_rep_health','Rent_burden','Poverty','Nonwhite_rate',\n",
    "     'Insurance','Housing_Defects','HIV_Testing_Ever',\n",
    "      'HIV_Diagnosis','Fruit_Veg','Flu_Vaccination',\n",
    "      'Exercise','Eduhsdegreeorsomecollege_rate']].corr()\n",
    "\n",
    "cmap = sns.diverging_palette(220, 10, as_cmap=True)\n",
    "print correlations\n",
    "print sns.heatmap(correlations, cmap=cmap)"
   ]
  },
  {
   "cell_type": "code",
   "execution_count": 1008,
   "metadata": {
    "collapsed": false
   },
   "outputs": [
    {
     "name": "stdout",
     "output_type": "stream",
     "text": [
      "P Values: [  6.12923983e-03   3.11120447e-05   3.12010428e-02   6.22388955e-05\n",
      "   4.47799878e-01   6.37527722e-02   3.93309699e-01   5.96546395e-01\n",
      "   2.32636928e-03   5.62353914e-02   1.34942447e-01   1.11848214e-04\n",
      "   3.58218679e-01   3.04157289e-09   6.12368645e-01   7.98603104e-01\n",
      "   1.40515281e-01   9.98076715e-01   5.72986782e-02   8.72895114e-06\n",
      "   3.03271248e-02   7.08068752e-01   1.11848214e-04   2.33287998e-03\n",
      "   1.66300524e-01   2.01116279e-02   6.40384137e-05   4.95504796e-04\n",
      "   1.85892171e-01   5.71446064e-06   1.22688618e-05   7.02898202e-05\n",
      "   3.69177901e-02   3.29599359e-01   5.89521734e-06   6.23698602e-01\n",
      "   2.86716090e-02   6.18405791e-06   2.73530515e-01   1.24990230e-04\n",
      "   8.18963611e-03   1.58421843e-01   5.53522898e-03   1.38739149e-04\n",
      "   2.06347579e-04   1.75894532e-03   2.87082658e-05   1.58407327e-04\n",
      "   2.37959333e-04   4.22376504e-04   2.33917232e-02   1.51249438e-03\n",
      "   9.69173739e-01]\n",
      "Coefficients: [ -0.00000000e+00  -0.00000000e+00   0.00000000e+00   0.00000000e+00\n",
      "   1.01288145e-02  -0.00000000e+00  -3.32621105e-02  -0.00000000e+00\n",
      "  -0.00000000e+00  -0.00000000e+00  -0.00000000e+00  -9.02702251e-02\n",
      "   0.00000000e+00   8.88631930e-02  -0.00000000e+00   0.00000000e+00\n",
      "  -1.07721826e-02   0.00000000e+00  -5.30500104e-02   0.00000000e+00\n",
      "  -1.55249787e-05  -0.00000000e+00   1.31963851e-01   9.82417279e-02\n",
      "   0.00000000e+00   0.00000000e+00   6.19160549e-02   0.00000000e+00\n",
      "   0.00000000e+00   9.47537165e-03   0.00000000e+00   1.02819573e-02\n",
      "   0.00000000e+00   0.00000000e+00   0.00000000e+00   0.00000000e+00\n",
      "  -3.38814422e-01   0.00000000e+00   0.00000000e+00  -2.03751989e-03\n",
      "  -0.00000000e+00  -0.00000000e+00  -1.58465156e-02  -2.17143486e-03\n",
      "  -0.00000000e+00  -0.00000000e+00   1.78806635e-02   0.00000000e+00\n",
      "  -0.00000000e+00  -0.00000000e+00   0.00000000e+00  -0.00000000e+00\n",
      "  -0.00000000e+00]\n",
      "y-intercept: 50.7497385763\n",
      "R-Squared: 0.869925886045\n",
      "-------------\n",
      "Coefficients: [(-0.658, 'Raceblack_rate'), (-0.061, 'Teen_Births'), (-0.0, 'Racehispanic_rate'), (-0.0, 'Racewhite_Rate'), (0.0, 'Schoolabsent_rate'), (0.0, 'Self_rep_health'), (0.0, 'Smoking'), (0.0, 'Supermarketarea_rate'), (0.0, 'TrumpSupport'), (-0.0, 'Unemployment'), (0.046, 'Rent_burden'), (0.064, 'Raceother_rate'), (0.112, 'Tobaccoretail_rate'), (0.13, 'Sugary_Drink'), (0.275, 'Stroke_Hosp')]\n",
      "-------------\n",
      "P Values: [(0.0, 'Racehispanic_rate'), (6e-06, 'Edudidnotcompletehs_rate'), (6e-06, 'Flu_Vaccination'), (6e-06, 'Housing_Defects'), (9e-06, 'Poverty'), (1.2e-05, 'HIV_Testing_Ever'), (2.9e-05, 'Alc_Hosp'), (3.1e-05, 'TrumpSupport'), (6.2e-05, 'Teen_Births'), (6.4e-05, 'Jailincarceration'), (7e-05, 'HIV_Diagnosis'), (0.000112, 'Nonwhite_rate'), (0.000112, 'Racewhite_Rate'), (0.000125, 'Drug_Hosp'), (0.000139, 'Avoidable_Asthma'), (0.000158, 'Airquality_rate'), (0.000206, 'Asthma_5to14'), (0.000238, 'Age65plus_rate'), (0.000422, 'Age45to64_rate'), (0.000496, 'Insurance'), (0.001512, 'Age18to24_rate'), (0.001759, 'Assault_Hosps'), (0.002326, 'Self_rep_health'), (0.002333, 'Ltd_Eng_Prof'), (0.005535, 'Avoidable_Diabetes'), (0.006129, 'Unemployment'), (0.00819, 'Didnt_Get_Care'), (0.020112, 'Late_No_Prenatal'), (0.023392, 'Age25to44_rate'), (0.028672, 'Eduhsdegreeorsomecollege_rate'), (0.030327, 'OverallPopulation_rate'), (0.031201, 'Tobaccoretail_rate'), (0.036918, 'Fruit_Veg'), (0.056235, 'Schoolabsent_rate'), (0.057299, 'Premature_Mort'), (0.063753, 'Sugary_Drink'), (0.134942, 'Rent_burden'), (0.140515, 'Psych_Hosp'), (0.158422, 'Diabetes'), (0.166301, 'Life_expectancy_rate'), (0.185892, 'IMR'), (0.273531, 'Educollegedegreeandhigher_rate'), (0.329599, 'Foreign_born'), (0.358219, 'Raceother_rate'), (0.39331, 'Stroke_Hosp'), (0.4478, 'Supermarketarea_rate'), (0.596546, 'Smoking'), (0.612369, 'Raceblack_rate'), (0.623699, 'Exercise'), (0.708069, 'Obesity'), (0.798603, 'Raceasian_rate'), (0.969174, 'Age0to17_rate'), (0.998077, 'Preterm_Births')]\n"
     ]
    }
   ],
   "source": [
    "from sklearn import feature_selection, linear_model\n",
    "\n",
    "X = all_features\n",
    "\n",
    "def get_linear_model_metrics(X, y, algo):\n",
    "    pvals = feature_selection.f_regression(X, y)[1]\n",
    "    algo.fit(X,y)\n",
    "    residuals = (y - algo.predict(X)).values\n",
    "\n",
    "    # print the necessary values\n",
    "    print 'P Values:', pvals\n",
    "    print 'Coefficients:', algo.coef_\n",
    "    print 'y-intercept:', algo.intercept_\n",
    "    print 'R-Squared:', algo.score(X,y)\n",
    "    return algo\n",
    "\n",
    "get_linear_model_metrics(X, y, linear_model.Lasso(alpha=10))\n",
    "\n",
    "names = X.columns\n",
    "\n",
    "print \"-------------\"\n",
    "print \"Coefficients:\", sorted(zip(map(lambda x: round(x, 3), lasso.coef_), names))\n",
    "print \"-------------\"\n",
    "pvals_t = pvals[1]\n",
    "print \"P Values:\", sorted(zip(map(lambda x: round(x, 6), pvals_t), names))"
   ]
  },
  {
   "cell_type": "code",
   "execution_count": 1009,
   "metadata": {
    "collapsed": false
   },
   "outputs": [
    {
     "data": {
      "text/plain": [
       "<matplotlib.axes._subplots.AxesSubplot at 0x1542a9190>"
      ]
     },
     "execution_count": 1009,
     "metadata": {},
     "output_type": "execute_result"
    },
    {
     "data": {
      "image/png": "[encoded data removed]",
      "text/plain": [
       "<matplotlib.figure.Figure at 0x150312a90>"
      ]
     },
     "metadata": {},
     "output_type": "display_data"
    }
   ],
   "source": [
    "# residual plot\n",
    "\n",
    "residuals.plot(kind=\"density\", figsize=(8,4))"
   ]
  },
  {
   "cell_type": "code",
   "execution_count": 1010,
   "metadata": {
    "collapsed": false,
    "scrolled": true
   },
   "outputs": [
    {
     "data": {
      "text/html": [
       "<table class=\"simpletable\">\n",
       "<caption>OLS Regression Results</caption>\n",
       "<tr>\n",
       "  <th>Dep. Variable:</th>     <td>HPV_vaccination</td> <th>  R-squared:         </th> <td>   0.730</td>\n",
       "</tr>\n",
       "<tr>\n",
       "  <th>Model:</th>                   <td>OLS</td>       <th>  Adj. R-squared:    </th> <td>   0.667</td>\n",
       "</tr>\n",
       "<tr>\n",
       "  <th>Method:</th>             <td>Least Squares</td>  <th>  F-statistic:       </th> <td>   11.57</td>\n",
       "</tr>\n",
       "<tr>\n",
       "  <th>Date:</th>             <td>Tue, 06 Dec 2016</td> <th>  Prob (F-statistic):</th> <td>5.05e-10</td>\n",
       "</tr>\n",
       "<tr>\n",
       "  <th>Time:</th>                 <td>17:02:43</td>     <th>  Log-Likelihood:    </th> <td> -192.67</td>\n",
       "</tr>\n",
       "<tr>\n",
       "  <th>No. Observations:</th>      <td>    59</td>      <th>  AIC:               </th> <td>   409.3</td>\n",
       "</tr>\n",
       "<tr>\n",
       "  <th>Df Residuals:</th>          <td>    47</td>      <th>  BIC:               </th> <td>   434.3</td>\n",
       "</tr>\n",
       "<tr>\n",
       "  <th>Df Model:</th>              <td>    11</td>      <th>                     </th>     <td> </td>   \n",
       "</tr>\n",
       "<tr>\n",
       "  <th>Covariance Type:</th>      <td>nonrobust</td>    <th>                     </th>     <td> </td>   \n",
       "</tr>\n",
       "</table>\n",
       "<table class=\"simpletable\">\n",
       "<tr>\n",
       "              <td></td>                <th>coef</th>     <th>std err</th>      <th>t</th>      <th>P>|t|</th> <th>[95.0% Conf. Int.]</th> \n",
       "</tr>\n",
       "<tr>\n",
       "  <th>const</th>                    <td>   15.3675</td> <td>   14.116</td> <td>    1.089</td> <td> 0.282</td> <td>  -13.030    43.765</td>\n",
       "</tr>\n",
       "<tr>\n",
       "  <th>Racehispanic_rate</th>        <td>    0.3254</td> <td>    0.095</td> <td>    3.433</td> <td> 0.001</td> <td>    0.135     0.516</td>\n",
       "</tr>\n",
       "<tr>\n",
       "  <th>Edudidnotcompletehs_rate</th> <td>    0.2250</td> <td>    0.287</td> <td>    0.783</td> <td> 0.437</td> <td>   -0.353     0.803</td>\n",
       "</tr>\n",
       "<tr>\n",
       "  <th>Flu_Vaccination</th>          <td>    0.7296</td> <td>    0.260</td> <td>    2.805</td> <td> 0.007</td> <td>    0.206     1.253</td>\n",
       "</tr>\n",
       "<tr>\n",
       "  <th>Housing_Defects</th>          <td>    0.1959</td> <td>    0.125</td> <td>    1.569</td> <td> 0.123</td> <td>   -0.055     0.447</td>\n",
       "</tr>\n",
       "<tr>\n",
       "  <th>Poverty</th>                  <td>    0.0815</td> <td>    0.273</td> <td>    0.298</td> <td> 0.767</td> <td>   -0.469     0.631</td>\n",
       "</tr>\n",
       "<tr>\n",
       "  <th>HIV_Testing_Ever</th>         <td>   -0.4048</td> <td>    0.221</td> <td>   -1.831</td> <td> 0.074</td> <td>   -0.850     0.040</td>\n",
       "</tr>\n",
       "<tr>\n",
       "  <th>Alc_Hosp</th>                 <td>   -0.0074</td> <td>    0.006</td> <td>   -1.338</td> <td> 0.187</td> <td>   -0.019     0.004</td>\n",
       "</tr>\n",
       "<tr>\n",
       "  <th>TrumpSupport</th>             <td>  -20.4872</td> <td>   10.066</td> <td>   -2.035</td> <td> 0.047</td> <td>  -40.738    -0.237</td>\n",
       "</tr>\n",
       "<tr>\n",
       "  <th>Teen_Births</th>              <td>   -0.3471</td> <td>    0.267</td> <td>   -1.301</td> <td> 0.199</td> <td>   -0.884     0.190</td>\n",
       "</tr>\n",
       "<tr>\n",
       "  <th>Jailincarceration</th>        <td>    0.0373</td> <td>    0.027</td> <td>    1.393</td> <td> 0.170</td> <td>   -0.017     0.091</td>\n",
       "</tr>\n",
       "<tr>\n",
       "  <th>HIV_Diagnosis</th>            <td>    0.2151</td> <td>    0.069</td> <td>    3.109</td> <td> 0.003</td> <td>    0.076     0.354</td>\n",
       "</tr>\n",
       "</table>\n",
       "<table class=\"simpletable\">\n",
       "<tr>\n",
       "  <th>Omnibus:</th>       <td> 0.490</td> <th>  Durbin-Watson:     </th> <td>   1.555</td>\n",
       "</tr>\n",
       "<tr>\n",
       "  <th>Prob(Omnibus):</th> <td> 0.783</td> <th>  Jarque-Bera (JB):  </th> <td>   0.384</td>\n",
       "</tr>\n",
       "<tr>\n",
       "  <th>Skew:</th>          <td> 0.193</td> <th>  Prob(JB):          </th> <td>   0.825</td>\n",
       "</tr>\n",
       "<tr>\n",
       "  <th>Kurtosis:</th>      <td> 2.911</td> <th>  Cond. No.          </th> <td>2.09e+04</td>\n",
       "</tr>\n",
       "</table>"
      ],
      "text/plain": [
       "<class 'statsmodels.iolib.summary.Summary'>\n",
       "\"\"\"\n",
       "                            OLS Regression Results                            \n",
       "==============================================================================\n",
       "Dep. Variable:        HPV_vaccination   R-squared:                       0.730\n",
       "Model:                            OLS   Adj. R-squared:                  0.667\n",
       "Method:                 Least Squares   F-statistic:                     11.57\n",
       "Date:                Tue, 06 Dec 2016   Prob (F-statistic):           5.05e-10\n",
       "Time:                        17:02:43   Log-Likelihood:                -192.67\n",
       "No. Observations:                  59   AIC:                             409.3\n",
       "Df Residuals:                      47   BIC:                             434.3\n",
       "Df Model:                          11                                         \n",
       "Covariance Type:            nonrobust                                         \n",
       "============================================================================================\n",
       "                               coef    std err          t      P>|t|      [95.0% Conf. Int.]\n",
       "--------------------------------------------------------------------------------------------\n",
       "const                       15.3675     14.116      1.089      0.282       -13.030    43.765\n",
       "Racehispanic_rate            0.3254      0.095      3.433      0.001         0.135     0.516\n",
       "Edudidnotcompletehs_rate     0.2250      0.287      0.783      0.437        -0.353     0.803\n",
       "Flu_Vaccination              0.7296      0.260      2.805      0.007         0.206     1.253\n",
       "Housing_Defects              0.1959      0.125      1.569      0.123        -0.055     0.447\n",
       "Poverty                      0.0815      0.273      0.298      0.767        -0.469     0.631\n",
       "HIV_Testing_Ever            -0.4048      0.221     -1.831      0.074        -0.850     0.040\n",
       "Alc_Hosp                    -0.0074      0.006     -1.338      0.187        -0.019     0.004\n",
       "TrumpSupport               -20.4872     10.066     -2.035      0.047       -40.738    -0.237\n",
       "Teen_Births                 -0.3471      0.267     -1.301      0.199        -0.884     0.190\n",
       "Jailincarceration            0.0373      0.027      1.393      0.170        -0.017     0.091\n",
       "HIV_Diagnosis                0.2151      0.069      3.109      0.003         0.076     0.354\n",
       "==============================================================================\n",
       "Omnibus:                        0.490   Durbin-Watson:                   1.555\n",
       "Prob(Omnibus):                  0.783   Jarque-Bera (JB):                0.384\n",
       "Skew:                           0.193   Prob(JB):                        0.825\n",
       "Kurtosis:                       2.911   Cond. No.                     2.09e+04\n",
       "==============================================================================\n",
       "\n",
       "Warnings:\n",
       "[1] Standard Errors assume that the covariance matrix of the errors is correctly specified.\n",
       "[2] The condition number is large, 2.09e+04. This might indicate that there are\n",
       "strong multicollinearity or other numerical problems.\n",
       "\"\"\""
      ]
     },
     "execution_count": 1010,
     "metadata": {},
     "output_type": "execute_result"
    }
   ],
   "source": [
    "#what about just using the top features sorted by p-value?\n",
    "\n",
    "X = data[['Racehispanic_rate','Edudidnotcompletehs_rate','Flu_Vaccination','Housing_Defects','Poverty',\\\n",
    "          'HIV_Testing_Ever','Alc_Hosp','TrumpSupport','Teen_Births','Jailincarceration','HIV_Diagnosis']]\n",
    "X = sm.add_constant(X)\n",
    "est = sm.OLS(y,X).fit()\n",
    "est.summary()"
   ]
  },
  {
   "cell_type": "code",
   "execution_count": 1011,
   "metadata": {
    "collapsed": false
   },
   "outputs": [
    {
     "data": {
      "text/plain": [
       "<matplotlib.axes._subplots.AxesSubplot at 0x15413bc10>"
      ]
     },
     "execution_count": 1011,
     "metadata": {},
     "output_type": "execute_result"
    },
    {
     "data": {
      "image/png": "[encoded data removed]",
      "text/plain": [
       "<matplotlib.figure.Figure at 0x14ff8d050>"
      ]
     },
     "metadata": {},
     "output_type": "display_data"
    }
   ],
   "source": [
    "# residual plot\n",
    "\n",
    "residuals = y - est.predict(X)\n",
    "residuals.plot(kind=\"density\", figsize=(8,4))"
   ]
  },
  {
   "cell_type": "code",
   "execution_count": null,
   "metadata": {
    "collapsed": false
   },
   "outputs": [],
   "source": []
  },
  {
   "cell_type": "code",
   "execution_count": null,
   "metadata": {
    "collapsed": false
   },
   "outputs": [],
   "source": []
  },
  {
   "cell_type": "code",
   "execution_count": null,
   "metadata": {
    "collapsed": false
   },
   "outputs": [],
   "source": []
  },
  {
   "cell_type": "code",
   "execution_count": null,
   "metadata": {
    "collapsed": true
   },
   "outputs": [],
   "source": []
  },
  {
   "cell_type": "code",
   "execution_count": null,
   "metadata": {
    "collapsed": false
   },
   "outputs": [],
   "source": []
  },
  {
   "cell_type": "code",
   "execution_count": null,
   "metadata": {
    "collapsed": false
   },
   "outputs": [],
   "source": []
  },
  {
   "cell_type": "code",
   "execution_count": null,
   "metadata": {
    "collapsed": false
   },
   "outputs": [],
   "source": []
  },
  {
   "cell_type": "code",
   "execution_count": null,
   "metadata": {
    "collapsed": false
   },
   "outputs": [],
   "source": []
  },
  {
   "cell_type": "code",
   "execution_count": null,
   "metadata": {
    "collapsed": false
   },
   "outputs": [],
   "source": []
  },
  {
   "cell_type": "code",
   "execution_count": null,
   "metadata": {
    "collapsed": false
   },
   "outputs": [],
   "source": []
  },
  {
   "cell_type": "code",
   "execution_count": null,
   "metadata": {
    "collapsed": false
   },
   "outputs": [],
   "source": []
  },
  {
   "cell_type": "code",
   "execution_count": null,
   "metadata": {
    "collapsed": false
   },
   "outputs": [],
   "source": []
  },
  {
   "cell_type": "code",
   "execution_count": null,
   "metadata": {
    "collapsed": false
   },
   "outputs": [],
   "source": []
  },
  {
   "cell_type": "code",
   "execution_count": null,
   "metadata": {
    "collapsed": false
   },
   "outputs": [],
   "source": []
  },
  {
   "cell_type": "code",
   "execution_count": null,
   "metadata": {
    "collapsed": true
   },
   "outputs": [],
   "source": []
  },
  {
   "cell_type": "code",
   "execution_count": null,
   "metadata": {
    "collapsed": false
   },
   "outputs": [],
   "source": []
  },
  {
   "cell_type": "code",
   "execution_count": null,
   "metadata": {
    "collapsed": false
   },
   "outputs": [],
   "source": []
  },
  {
   "cell_type": "code",
   "execution_count": null,
   "metadata": {
    "collapsed": false
   },
   "outputs": [],
   "source": []
  },
  {
   "cell_type": "code",
   "execution_count": null,
   "metadata": {
    "collapsed": false
   },
   "outputs": [],
   "source": []
  },
  {
   "cell_type": "code",
   "execution_count": null,
   "metadata": {
    "collapsed": false
   },
   "outputs": [],
   "source": []
  },
  {
   "cell_type": "code",
   "execution_count": null,
   "metadata": {
    "collapsed": false
   },
   "outputs": [],
   "source": []
  },
  {
   "cell_type": "code",
   "execution_count": null,
   "metadata": {
    "collapsed": false
   },
   "outputs": [],
   "source": []
  },
  {
   "cell_type": "code",
   "execution_count": null,
   "metadata": {
    "collapsed": false
   },
   "outputs": [],
   "source": []
  },
  {
   "cell_type": "code",
   "execution_count": null,
   "metadata": {
    "collapsed": true
   },
   "outputs": [],
   "source": []
  },
  {
   "cell_type": "code",
   "execution_count": null,
   "metadata": {
    "collapsed": true
   },
   "outputs": [],
   "source": []
  }
 ],
 "metadata": {
  "kernelspec": {
   "display_name": "Python [Root]",
   "language": "python",
   "name": "Python [Root]"
  },
  "language_info": {
   "codemirror_mode": {
    "name": "ipython",
    "version": 2
   },
   "file_extension": ".py",
   "mimetype": "text/x-python",
   "name": "python",
   "nbconvert_exporter": "python",
   "pygments_lexer": "ipython2",
   "version": "2.7.12"
  }
 },
 "nbformat": 4,
 "nbformat_minor": 0
}
