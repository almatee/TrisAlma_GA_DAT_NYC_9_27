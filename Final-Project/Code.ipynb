{
 "cells": [
  {
   "cell_type": "markdown",
   "metadata": {},
   "source": [
    "## Aim: determine which features most accurately predict HPV vaccination rates in New York City"
   ]
  },
  {
   "cell_type": "code",
   "execution_count": 440,
   "metadata": {
    "collapsed": true
   },
   "outputs": [],
   "source": [
    "import pandas as pd\n",
    "import numpy as np\n",
    "from datetime import datetime\n",
    "from matplotlib import pyplot as plt\n",
    "\n",
    "%matplotlib inline"
   ]
  },
  {
   "cell_type": "code",
   "execution_count": 441,
   "metadata": {
    "collapsed": true
   },
   "outputs": [],
   "source": [
    "# import dataset\n",
    "\n",
    "url = '/Users/tristanalmada/GA/TrisAlma_GA_DAT_NYC_9_27/Final-Project/HPVdata.csv'\n",
    "data = pd.read_csv(url, low_memory = False)\n",
    "\n",
    "# import features\n",
    "\n",
    "feature_names = pd.read_csv('/Users/tristanalmada/GA/TrisAlma_GA_DAT_NYC_9_27/Final-Project/featureset.csv', low_memory = False)"
   ]
  },
  {
   "cell_type": "code",
   "execution_count": 442,
   "metadata": {
    "collapsed": false
   },
   "outputs": [
    {
     "data": {
      "text/plain": [
       "Index([u'Unemployment', u'TrumpSupport', u'Tobaccoretail_rate', u'Teen_Births',\n",
       "       u'Supermarketarea_rate', u'Sugary_Drink', u'Stroke_Hosp', u'Smoking',\n",
       "       u'Self_rep_health', u'Schoolabsent_rate', u'Rent_burden',\n",
       "       u'Racewhite_Rate', u'Raceother_rate', u'Racehispanic_rate',\n",
       "       u'Raceblack_rate', u'Raceasian_rate', u'Psych_Hosp', u'Preterm_Births',\n",
       "       u'Premature_Mort', u'Poverty', u'OverallPopulation_rate', u'Obesity',\n",
       "       u'Nonwhite_rate', u'Ltd_Eng_Prof', u'Life_expectancy_rate',\n",
       "       u'Late_No_Prenatal', u'Jailincarceration', u'Insurance', u'IMR',\n",
       "       u'HPV_vaccination', u'Housing_Defects', u'HIV_Testing_Ever',\n",
       "       u'HIV_Diagnosis', u'Fruit_Veg', u'Foreign_born', u'Flu_Vaccination',\n",
       "       u'Exercise', u'Eduhsdegreeorsomecollege_rate',\n",
       "       u'Edudidnotcompletehs_rate', u'Educollegedegreeandhigher_rate',\n",
       "       u'Drug_Hosp', u'Didnt_Get_Care', u'Diabetes', u'Avoidable_Diabetes',\n",
       "       u'Avoidable_Asthma', u'Avertabledeaths_rate', u'Asthma_5to14',\n",
       "       u'Assault_Hosps', u'Alc_Hosp', u'Airquality_rate', u'Age65plus_rate',\n",
       "       u'Age45to64_rate', u'Age25to44_rate', u'Age18to24_rate',\n",
       "       u'Age0to17_rate'],\n",
       "      dtype='object')"
      ]
     },
     "execution_count": 442,
     "metadata": {},
     "output_type": "execute_result"
    }
   ],
   "source": [
    "feature_names.columns"
   ]
  },
  {
   "cell_type": "code",
   "execution_count": 443,
   "metadata": {
    "collapsed": false
   },
   "outputs": [
    {
     "data": {
      "text/plain": [
       "(0, 55)"
      ]
     },
     "execution_count": 443,
     "metadata": {},
     "output_type": "execute_result"
    }
   ],
   "source": [
    "feature_names.shape"
   ]
  },
  {
   "cell_type": "code",
   "execution_count": 600,
   "metadata": {
    "collapsed": false
   },
   "outputs": [
    {
     "data": {
      "image/png": "[encoded data removed]",
      "text/plain": [
       "<matplotlib.figure.Figure at 0x127713dd0>"
      ]
     },
     "metadata": {},
     "output_type": "display_data"
    },
    {
     "data": {
      "text/plain": [
       "<matplotlib.text.Text at 0x1292c3e50>"
      ]
     },
     "execution_count": 600,
     "metadata": {},
     "output_type": "execute_result"
    },
    {
     "data": {
      "image/png": "[encoded data removed]",
      "text/plain": [
       "<matplotlib.figure.Figure at 0x123a03c10>"
      ]
     },
     "metadata": {},
     "output_type": "display_data"
    }
   ],
   "source": [
    "plt.figure(figsize=(10,5))\n",
    "plt.scatter(data['TrumpSupport'], data['HPV_vaccination'])\n",
    "plt.title(\"Plotting HPV Vaccination Rate against Trump Support\")\n",
    "plt.ylabel('HPV Vaccine Rate')\n",
    "plt.xlabel('TrumpSupport')\n",
    "plt.show()\n",
    "\n",
    "data.HPV_vaccination.hist(figsize=(10,5))\n",
    "plt.xlabel('HPVVaccination')"
   ]
  },
  {
   "cell_type": "code",
   "execution_count": 445,
   "metadata": {
    "collapsed": false
   },
   "outputs": [],
   "source": [
    "# clean N/A from the dataframe\n",
    "\n",
    "data = data.drop(data.index[[59,60,61]])"
   ]
  },
  {
   "cell_type": "code",
   "execution_count": 446,
   "metadata": {
    "collapsed": false
   },
   "outputs": [],
   "source": [
    "import statsmodels.api as sm\n",
    "from sklearn import linear_model, datasets\n",
    "from sklearn.cross_validation import train_test_split"
   ]
  },
  {
   "cell_type": "code",
   "execution_count": 447,
   "metadata": {
    "collapsed": false
   },
   "outputs": [],
   "source": [
    "features = data[['Unemployment','TrumpSupport','Tobaccoretail_rate','Teen_Births',\n",
    "      'Supermarketarea_rate','Sugary_Drink','Stroke_Hosp','Smoking',\n",
    "      'Self_rep_health','Schoolabsent_rate','Rent_burden',\n",
    "      'Racewhite_Rate','Raceother_rate','Racehispanic_rate',\n",
    "      'Raceblack_rate','Raceasian_rate','Psych_Hosp','Preterm_Births',\n",
    "      'Premature_Mort','Poverty','OverallPopulation_rate','Obesity',\n",
    "      'Nonwhite_rate','Ltd_Eng_Prof','Life_expectancy_rate',\n",
    "      'Late_No_Prenatal','Jailincarceration','Insurance','IMR','Housing_Defects','HIV_Testing_Ever',\n",
    "      'HIV_Diagnosis','Fruit_Veg','Foreign_born','Flu_Vaccination',\n",
    "      'Exercise','Eduhsdegreeorsomecollege_rate',\n",
    "      'Edudidnotcompletehs_rate','Educollegedegreeandhigher_rate',\n",
    "      'Drug_Hosp','Didnt_Get_Care','Diabetes','Avoidable_Diabetes',\n",
    "      'Avoidable_Asthma','Asthma_5to14',\n",
    "      'Assault_Hosps','Alc_Hosp','Airquality_rate','Age65plus_rate',\n",
    "      'Age45to64_rate','Age25to44_rate','Age18to24_rate',\n",
    "      'Age0to17_rate']]"
   ]
  },
  {
   "cell_type": "code",
   "execution_count": 509,
   "metadata": {
    "collapsed": false
   },
   "outputs": [],
   "source": [
    "all_data = data[['HPV_vaccination','Unemployment','TrumpSupport','Tobaccoretail_rate','Teen_Births',\n",
    "      'Supermarketarea_rate','Sugary_Drink','Stroke_Hosp','Smoking',\n",
    "      'Self_rep_health','Schoolabsent_rate','Rent_burden',\n",
    "      'Racewhite_Rate','Raceother_rate','Racehispanic_rate',\n",
    "      'Raceblack_rate','Raceasian_rate','Psych_Hosp','Preterm_Births',\n",
    "      'Premature_Mort','Poverty','OverallPopulation_rate','Obesity',\n",
    "      'Nonwhite_rate','Ltd_Eng_Prof','Life_expectancy_rate',\n",
    "      'Late_No_Prenatal','Jailincarceration','Insurance','IMR','Housing_Defects','HIV_Testing_Ever',\n",
    "      'HIV_Diagnosis','Fruit_Veg','Foreign_born','Flu_Vaccination',\n",
    "      'Exercise','Eduhsdegreeorsomecollege_rate',\n",
    "      'Edudidnotcompletehs_rate','Educollegedegreeandhigher_rate',\n",
    "      'Drug_Hosp','Didnt_Get_Care','Diabetes','Avoidable_Diabetes',\n",
    "      'Avoidable_Asthma','Asthma_5to14',\n",
    "      'Assault_Hosps','Alc_Hosp','Airquality_rate','Age65plus_rate',\n",
    "      'Age45to64_rate','Age25to44_rate','Age18to24_rate',\n",
    "      'Age0to17_rate']]"
   ]
  },
  {
   "cell_type": "code",
   "execution_count": 529,
   "metadata": {
    "collapsed": false
   },
   "outputs": [
    {
     "data": {
      "text/plain": [
       "(59, 54)"
      ]
     },
     "execution_count": 529,
     "metadata": {},
     "output_type": "execute_result"
    }
   ],
   "source": [
    "all_data.shape"
   ]
  },
  {
   "cell_type": "code",
   "execution_count": 530,
   "metadata": {
    "collapsed": false
   },
   "outputs": [
    {
     "data": {
      "text/html": [
       "<div>\n",
       "<table border=\"1\" class=\"dataframe\">\n",
       "  <thead>\n",
       "    <tr style=\"text-align: right;\">\n",
       "      <th></th>\n",
       "      <th>HPV_vaccination</th>\n",
       "      <th>Unemployment</th>\n",
       "      <th>TrumpSupport</th>\n",
       "      <th>Tobaccoretail_rate</th>\n",
       "      <th>Teen_Births</th>\n",
       "      <th>Supermarketarea_rate</th>\n",
       "      <th>Sugary_Drink</th>\n",
       "      <th>Stroke_Hosp</th>\n",
       "      <th>Smoking</th>\n",
       "      <th>Self_rep_health</th>\n",
       "      <th>...</th>\n",
       "      <th>Avoidable_Asthma</th>\n",
       "      <th>Asthma_5to14</th>\n",
       "      <th>Assault_Hosps</th>\n",
       "      <th>Alc_Hosp</th>\n",
       "      <th>Airquality_rate</th>\n",
       "      <th>Age65plus_rate</th>\n",
       "      <th>Age45to64_rate</th>\n",
       "      <th>Age25to44_rate</th>\n",
       "      <th>Age18to24_rate</th>\n",
       "      <th>Age0to17_rate</th>\n",
       "    </tr>\n",
       "  </thead>\n",
       "  <tbody>\n",
       "    <tr>\n",
       "      <th>count</th>\n",
       "      <td>59.000000</td>\n",
       "      <td>59.000000</td>\n",
       "      <td>59.000000</td>\n",
       "      <td>59.000000</td>\n",
       "      <td>59.000000</td>\n",
       "      <td>59.000000</td>\n",
       "      <td>59.000000</td>\n",
       "      <td>59.000000</td>\n",
       "      <td>59.000000</td>\n",
       "      <td>59.000000</td>\n",
       "      <td>...</td>\n",
       "      <td>59.000000</td>\n",
       "      <td>59.000000</td>\n",
       "      <td>59.000000</td>\n",
       "      <td>59.000000</td>\n",
       "      <td>59.000000</td>\n",
       "      <td>59.000000</td>\n",
       "      <td>59.000000</td>\n",
       "      <td>59.000000</td>\n",
       "      <td>59.000000</td>\n",
       "      <td>59.000000</td>\n",
       "    </tr>\n",
       "    <tr>\n",
       "      <th>mean</th>\n",
       "      <td>38.762712</td>\n",
       "      <td>11.016949</td>\n",
       "      <td>0.161017</td>\n",
       "      <td>11.881356</td>\n",
       "      <td>21.688136</td>\n",
       "      <td>177.305085</td>\n",
       "      <td>27.779661</td>\n",
       "      <td>315.033898</td>\n",
       "      <td>15.762712</td>\n",
       "      <td>77.728814</td>\n",
       "      <td>...</td>\n",
       "      <td>276.813559</td>\n",
       "      <td>34.711864</td>\n",
       "      <td>64.389831</td>\n",
       "      <td>1062.711864</td>\n",
       "      <td>9.188136</td>\n",
       "      <td>12.542373</td>\n",
       "      <td>24.271186</td>\n",
       "      <td>31.915254</td>\n",
       "      <td>10.237288</td>\n",
       "      <td>21.152542</td>\n",
       "    </tr>\n",
       "    <tr>\n",
       "      <th>std</th>\n",
       "      <td>12.311109</td>\n",
       "      <td>4.002118</td>\n",
       "      <td>0.157542</td>\n",
       "      <td>7.556876</td>\n",
       "      <td>12.220518</td>\n",
       "      <td>79.510193</td>\n",
       "      <td>7.909113</td>\n",
       "      <td>83.974332</td>\n",
       "      <td>2.973092</td>\n",
       "      <td>7.094997</td>\n",
       "      <td>...</td>\n",
       "      <td>209.387158</td>\n",
       "      <td>26.798128</td>\n",
       "      <td>45.656142</td>\n",
       "      <td>558.781805</td>\n",
       "      <td>1.186575</td>\n",
       "      <td>3.218063</td>\n",
       "      <td>3.010502</td>\n",
       "      <td>6.406592</td>\n",
       "      <td>2.095471</td>\n",
       "      <td>5.683653</td>\n",
       "    </tr>\n",
       "    <tr>\n",
       "      <th>min</th>\n",
       "      <td>14.000000</td>\n",
       "      <td>5.000000</td>\n",
       "      <td>0.020000</td>\n",
       "      <td>6.000000</td>\n",
       "      <td>1.100000</td>\n",
       "      <td>69.000000</td>\n",
       "      <td>12.000000</td>\n",
       "      <td>140.000000</td>\n",
       "      <td>10.000000</td>\n",
       "      <td>64.000000</td>\n",
       "      <td>...</td>\n",
       "      <td>46.000000</td>\n",
       "      <td>6.000000</td>\n",
       "      <td>11.000000</td>\n",
       "      <td>233.000000</td>\n",
       "      <td>7.600000</td>\n",
       "      <td>7.000000</td>\n",
       "      <td>17.000000</td>\n",
       "      <td>24.000000</td>\n",
       "      <td>5.000000</td>\n",
       "      <td>7.000000</td>\n",
       "    </tr>\n",
       "    <tr>\n",
       "      <th>25%</th>\n",
       "      <td>30.000000</td>\n",
       "      <td>7.500000</td>\n",
       "      <td>0.055000</td>\n",
       "      <td>8.500000</td>\n",
       "      <td>13.750000</td>\n",
       "      <td>118.000000</td>\n",
       "      <td>22.000000</td>\n",
       "      <td>257.000000</td>\n",
       "      <td>13.500000</td>\n",
       "      <td>71.000000</td>\n",
       "      <td>...</td>\n",
       "      <td>119.000000</td>\n",
       "      <td>13.000000</td>\n",
       "      <td>27.000000</td>\n",
       "      <td>641.000000</td>\n",
       "      <td>8.400000</td>\n",
       "      <td>10.000000</td>\n",
       "      <td>22.000000</td>\n",
       "      <td>27.000000</td>\n",
       "      <td>9.000000</td>\n",
       "      <td>18.500000</td>\n",
       "    </tr>\n",
       "    <tr>\n",
       "      <th>50%</th>\n",
       "      <td>38.000000</td>\n",
       "      <td>10.000000</td>\n",
       "      <td>0.100000</td>\n",
       "      <td>11.000000</td>\n",
       "      <td>19.800000</td>\n",
       "      <td>164.000000</td>\n",
       "      <td>28.000000</td>\n",
       "      <td>310.000000</td>\n",
       "      <td>16.000000</td>\n",
       "      <td>79.000000</td>\n",
       "      <td>...</td>\n",
       "      <td>218.000000</td>\n",
       "      <td>24.000000</td>\n",
       "      <td>47.000000</td>\n",
       "      <td>881.000000</td>\n",
       "      <td>8.800000</td>\n",
       "      <td>12.000000</td>\n",
       "      <td>24.000000</td>\n",
       "      <td>29.000000</td>\n",
       "      <td>10.000000</td>\n",
       "      <td>22.000000</td>\n",
       "    </tr>\n",
       "    <tr>\n",
       "      <th>75%</th>\n",
       "      <td>49.000000</td>\n",
       "      <td>14.500000</td>\n",
       "      <td>0.220000</td>\n",
       "      <td>13.000000</td>\n",
       "      <td>31.100000</td>\n",
       "      <td>222.500000</td>\n",
       "      <td>34.000000</td>\n",
       "      <td>383.500000</td>\n",
       "      <td>18.000000</td>\n",
       "      <td>83.000000</td>\n",
       "      <td>...</td>\n",
       "      <td>359.000000</td>\n",
       "      <td>54.500000</td>\n",
       "      <td>91.500000</td>\n",
       "      <td>1302.000000</td>\n",
       "      <td>9.750000</td>\n",
       "      <td>14.500000</td>\n",
       "      <td>26.000000</td>\n",
       "      <td>34.500000</td>\n",
       "      <td>11.000000</td>\n",
       "      <td>25.000000</td>\n",
       "    </tr>\n",
       "    <tr>\n",
       "      <th>max</th>\n",
       "      <td>63.000000</td>\n",
       "      <td>20.000000</td>\n",
       "      <td>0.690000</td>\n",
       "      <td>62.000000</td>\n",
       "      <td>44.900000</td>\n",
       "      <td>450.000000</td>\n",
       "      <td>42.000000</td>\n",
       "      <td>470.000000</td>\n",
       "      <td>22.000000</td>\n",
       "      <td>92.000000</td>\n",
       "      <td>...</td>\n",
       "      <td>786.000000</td>\n",
       "      <td>112.000000</td>\n",
       "      <td>180.000000</td>\n",
       "      <td>2367.000000</td>\n",
       "      <td>14.300000</td>\n",
       "      <td>21.000000</td>\n",
       "      <td>31.000000</td>\n",
       "      <td>50.000000</td>\n",
       "      <td>17.000000</td>\n",
       "      <td>34.000000</td>\n",
       "    </tr>\n",
       "  </tbody>\n",
       "</table>\n",
       "<p>8 rows × 54 columns</p>\n",
       "</div>"
      ],
      "text/plain": [
       "       HPV_vaccination  Unemployment  TrumpSupport  Tobaccoretail_rate  \\\n",
       "count        59.000000     59.000000     59.000000           59.000000   \n",
       "mean         38.762712     11.016949      0.161017           11.881356   \n",
       "std          12.311109      4.002118      0.157542            7.556876   \n",
       "min          14.000000      5.000000      0.020000            6.000000   \n",
       "25%          30.000000      7.500000      0.055000            8.500000   \n",
       "50%          38.000000     10.000000      0.100000           11.000000   \n",
       "75%          49.000000     14.500000      0.220000           13.000000   \n",
       "max          63.000000     20.000000      0.690000           62.000000   \n",
       "\n",
       "       Teen_Births  Supermarketarea_rate  Sugary_Drink  Stroke_Hosp  \\\n",
       "count    59.000000             59.000000     59.000000    59.000000   \n",
       "mean     21.688136            177.305085     27.779661   315.033898   \n",
       "std      12.220518             79.510193      7.909113    83.974332   \n",
       "min       1.100000             69.000000     12.000000   140.000000   \n",
       "25%      13.750000            118.000000     22.000000   257.000000   \n",
       "50%      19.800000            164.000000     28.000000   310.000000   \n",
       "75%      31.100000            222.500000     34.000000   383.500000   \n",
       "max      44.900000            450.000000     42.000000   470.000000   \n",
       "\n",
       "         Smoking  Self_rep_health      ...        Avoidable_Asthma  \\\n",
       "count  59.000000        59.000000      ...               59.000000   \n",
       "mean   15.762712        77.728814      ...              276.813559   \n",
       "std     2.973092         7.094997      ...              209.387158   \n",
       "min    10.000000        64.000000      ...               46.000000   \n",
       "25%    13.500000        71.000000      ...              119.000000   \n",
       "50%    16.000000        79.000000      ...              218.000000   \n",
       "75%    18.000000        83.000000      ...              359.000000   \n",
       "max    22.000000        92.000000      ...              786.000000   \n",
       "\n",
       "       Asthma_5to14  Assault_Hosps     Alc_Hosp  Airquality_rate  \\\n",
       "count     59.000000      59.000000    59.000000        59.000000   \n",
       "mean      34.711864      64.389831  1062.711864         9.188136   \n",
       "std       26.798128      45.656142   558.781805         1.186575   \n",
       "min        6.000000      11.000000   233.000000         7.600000   \n",
       "25%       13.000000      27.000000   641.000000         8.400000   \n",
       "50%       24.000000      47.000000   881.000000         8.800000   \n",
       "75%       54.500000      91.500000  1302.000000         9.750000   \n",
       "max      112.000000     180.000000  2367.000000        14.300000   \n",
       "\n",
       "       Age65plus_rate  Age45to64_rate  Age25to44_rate  Age18to24_rate  \\\n",
       "count       59.000000       59.000000       59.000000       59.000000   \n",
       "mean        12.542373       24.271186       31.915254       10.237288   \n",
       "std          3.218063        3.010502        6.406592        2.095471   \n",
       "min          7.000000       17.000000       24.000000        5.000000   \n",
       "25%         10.000000       22.000000       27.000000        9.000000   \n",
       "50%         12.000000       24.000000       29.000000       10.000000   \n",
       "75%         14.500000       26.000000       34.500000       11.000000   \n",
       "max         21.000000       31.000000       50.000000       17.000000   \n",
       "\n",
       "       Age0to17_rate  \n",
       "count      59.000000  \n",
       "mean       21.152542  \n",
       "std         5.683653  \n",
       "min         7.000000  \n",
       "25%        18.500000  \n",
       "50%        22.000000  \n",
       "75%        25.000000  \n",
       "max        34.000000  \n",
       "\n",
       "[8 rows x 54 columns]"
      ]
     },
     "execution_count": 530,
     "metadata": {},
     "output_type": "execute_result"
    }
   ],
   "source": [
    "all_data.describe()"
   ]
  },
  {
   "cell_type": "code",
   "execution_count": 449,
   "metadata": {
    "collapsed": true
   },
   "outputs": [],
   "source": [
    "feature_set = data[['Unemployment','TrumpSupport','Smoking',\n",
    "      'Self_rep_health','Rent_burden',\n",
    "      'Racewhite_Rate','Poverty','Obesity',\n",
    "      'Ltd_Eng_Prof','Jailincarceration','Insurance','IMR','Housing_Defects',\n",
    "        'Fruit_Veg','Flu_Vaccination',\n",
    "      'Edudidnotcompletehs_rate',\n",
    "      'Drug_Hosp','Age0to17_rate']]"
   ]
  },
  {
   "cell_type": "code",
   "execution_count": 450,
   "metadata": {
    "collapsed": false
   },
   "outputs": [],
   "source": [
    "X = feature_set\n",
    "y = data['HPV_vaccination']"
   ]
  },
  {
   "cell_type": "code",
   "execution_count": 451,
   "metadata": {
    "collapsed": false,
    "scrolled": true
   },
   "outputs": [
    {
     "data": {
      "text/html": [
       "<table class=\"simpletable\">\n",
       "<caption>OLS Regression Results</caption>\n",
       "<tr>\n",
       "  <th>Dep. Variable:</th>     <td>HPV_vaccination</td> <th>  R-squared:         </th> <td>   0.860</td>\n",
       "</tr>\n",
       "<tr>\n",
       "  <th>Model:</th>                   <td>OLS</td>       <th>  Adj. R-squared:    </th> <td>   0.797</td>\n",
       "</tr>\n",
       "<tr>\n",
       "  <th>Method:</th>             <td>Least Squares</td>  <th>  F-statistic:       </th> <td>   13.63</td>\n",
       "</tr>\n",
       "<tr>\n",
       "  <th>Date:</th>             <td>Mon, 05 Dec 2016</td> <th>  Prob (F-statistic):</th> <td>8.53e-12</td>\n",
       "</tr>\n",
       "<tr>\n",
       "  <th>Time:</th>                 <td>16:56:59</td>     <th>  Log-Likelihood:    </th> <td> -173.38</td>\n",
       "</tr>\n",
       "<tr>\n",
       "  <th>No. Observations:</th>      <td>    59</td>      <th>  AIC:               </th> <td>   384.8</td>\n",
       "</tr>\n",
       "<tr>\n",
       "  <th>Df Residuals:</th>          <td>    40</td>      <th>  BIC:               </th> <td>   424.2</td>\n",
       "</tr>\n",
       "<tr>\n",
       "  <th>Df Model:</th>              <td>    18</td>      <th>                     </th>     <td> </td>   \n",
       "</tr>\n",
       "<tr>\n",
       "  <th>Covariance Type:</th>      <td>nonrobust</td>    <th>                     </th>     <td> </td>   \n",
       "</tr>\n",
       "</table>\n",
       "<table class=\"simpletable\">\n",
       "<tr>\n",
       "              <td></td>                <th>coef</th>     <th>std err</th>      <th>t</th>      <th>P>|t|</th> <th>[95.0% Conf. Int.]</th> \n",
       "</tr>\n",
       "<tr>\n",
       "  <th>const</th>                    <td>   30.6694</td> <td>   49.965</td> <td>    0.614</td> <td> 0.543</td> <td>  -70.313   131.652</td>\n",
       "</tr>\n",
       "<tr>\n",
       "  <th>Unemployment</th>             <td>   -0.0215</td> <td>    0.508</td> <td>   -0.042</td> <td> 0.966</td> <td>   -1.048     1.005</td>\n",
       "</tr>\n",
       "<tr>\n",
       "  <th>TrumpSupport</th>             <td>    3.2274</td> <td>    9.843</td> <td>    0.328</td> <td> 0.745</td> <td>  -16.665    23.120</td>\n",
       "</tr>\n",
       "<tr>\n",
       "  <th>Smoking</th>                  <td>   -0.0241</td> <td>    0.422</td> <td>   -0.057</td> <td> 0.955</td> <td>   -0.877     0.829</td>\n",
       "</tr>\n",
       "<tr>\n",
       "  <th>Self_rep_health</th>          <td>    0.0514</td> <td>    0.272</td> <td>    0.189</td> <td> 0.851</td> <td>   -0.499     0.602</td>\n",
       "</tr>\n",
       "<tr>\n",
       "  <th>Rent_burden</th>              <td>   -0.4465</td> <td>    0.277</td> <td>   -1.614</td> <td> 0.114</td> <td>   -1.006     0.113</td>\n",
       "</tr>\n",
       "<tr>\n",
       "  <th>Racewhite_Rate</th>           <td>   -0.1248</td> <td>    0.090</td> <td>   -1.387</td> <td> 0.173</td> <td>   -0.307     0.057</td>\n",
       "</tr>\n",
       "<tr>\n",
       "  <th>Poverty</th>                  <td>    0.1221</td> <td>    0.296</td> <td>    0.412</td> <td> 0.682</td> <td>   -0.476     0.721</td>\n",
       "</tr>\n",
       "<tr>\n",
       "  <th>Obesity</th>                  <td>   -0.3833</td> <td>    0.334</td> <td>   -1.146</td> <td> 0.259</td> <td>   -1.059     0.293</td>\n",
       "</tr>\n",
       "<tr>\n",
       "  <th>Ltd_Eng_Prof</th>             <td>    0.2237</td> <td>    0.166</td> <td>    1.344</td> <td> 0.186</td> <td>   -0.113     0.560</td>\n",
       "</tr>\n",
       "<tr>\n",
       "  <th>Jailincarceration</th>        <td>    0.0425</td> <td>    0.025</td> <td>    1.670</td> <td> 0.103</td> <td>   -0.009     0.094</td>\n",
       "</tr>\n",
       "<tr>\n",
       "  <th>Insurance</th>                <td>    0.1205</td> <td>    0.281</td> <td>    0.429</td> <td> 0.670</td> <td>   -0.447     0.687</td>\n",
       "</tr>\n",
       "<tr>\n",
       "  <th>IMR</th>                      <td>   -0.1442</td> <td>    0.697</td> <td>   -0.207</td> <td> 0.837</td> <td>   -1.553     1.264</td>\n",
       "</tr>\n",
       "<tr>\n",
       "  <th>Housing_Defects</th>          <td>    0.1554</td> <td>    0.122</td> <td>    1.275</td> <td> 0.210</td> <td>   -0.091     0.402</td>\n",
       "</tr>\n",
       "<tr>\n",
       "  <th>Fruit_Veg</th>                <td>    0.0314</td> <td>    0.345</td> <td>    0.091</td> <td> 0.928</td> <td>   -0.666     0.729</td>\n",
       "</tr>\n",
       "<tr>\n",
       "  <th>Flu_Vaccination</th>          <td>    0.6337</td> <td>    0.226</td> <td>    2.798</td> <td> 0.008</td> <td>    0.176     1.091</td>\n",
       "</tr>\n",
       "<tr>\n",
       "  <th>Edudidnotcompletehs_rate</th> <td>    0.5042</td> <td>    0.232</td> <td>    2.169</td> <td> 0.036</td> <td>    0.034     0.974</td>\n",
       "</tr>\n",
       "<tr>\n",
       "  <th>Drug_Hosp</th>                <td>   -0.0003</td> <td>    0.004</td> <td>   -0.066</td> <td> 0.948</td> <td>   -0.008     0.008</td>\n",
       "</tr>\n",
       "<tr>\n",
       "  <th>Age0to17_rate</th>            <td>   -0.9814</td> <td>    0.347</td> <td>   -2.831</td> <td> 0.007</td> <td>   -1.682    -0.281</td>\n",
       "</tr>\n",
       "</table>\n",
       "<table class=\"simpletable\">\n",
       "<tr>\n",
       "  <th>Omnibus:</th>       <td> 0.189</td> <th>  Durbin-Watson:     </th> <td>   1.814</td>\n",
       "</tr>\n",
       "<tr>\n",
       "  <th>Prob(Omnibus):</th> <td> 0.910</td> <th>  Jarque-Bera (JB):  </th> <td>   0.257</td>\n",
       "</tr>\n",
       "<tr>\n",
       "  <th>Skew:</th>          <td> 0.126</td> <th>  Prob(JB):          </th> <td>   0.880</td>\n",
       "</tr>\n",
       "<tr>\n",
       "  <th>Kurtosis:</th>      <td> 2.798</td> <th>  Cond. No.          </th> <td>8.81e+04</td>\n",
       "</tr>\n",
       "</table>"
      ],
      "text/plain": [
       "<class 'statsmodels.iolib.summary.Summary'>\n",
       "\"\"\"\n",
       "                            OLS Regression Results                            \n",
       "==============================================================================\n",
       "Dep. Variable:        HPV_vaccination   R-squared:                       0.860\n",
       "Model:                            OLS   Adj. R-squared:                  0.797\n",
       "Method:                 Least Squares   F-statistic:                     13.63\n",
       "Date:                Mon, 05 Dec 2016   Prob (F-statistic):           8.53e-12\n",
       "Time:                        16:56:59   Log-Likelihood:                -173.38\n",
       "No. Observations:                  59   AIC:                             384.8\n",
       "Df Residuals:                      40   BIC:                             424.2\n",
       "Df Model:                          18                                         \n",
       "Covariance Type:            nonrobust                                         \n",
       "============================================================================================\n",
       "                               coef    std err          t      P>|t|      [95.0% Conf. Int.]\n",
       "--------------------------------------------------------------------------------------------\n",
       "const                       30.6694     49.965      0.614      0.543       -70.313   131.652\n",
       "Unemployment                -0.0215      0.508     -0.042      0.966        -1.048     1.005\n",
       "TrumpSupport                 3.2274      9.843      0.328      0.745       -16.665    23.120\n",
       "Smoking                     -0.0241      0.422     -0.057      0.955        -0.877     0.829\n",
       "Self_rep_health              0.0514      0.272      0.189      0.851        -0.499     0.602\n",
       "Rent_burden                 -0.4465      0.277     -1.614      0.114        -1.006     0.113\n",
       "Racewhite_Rate              -0.1248      0.090     -1.387      0.173        -0.307     0.057\n",
       "Poverty                      0.1221      0.296      0.412      0.682        -0.476     0.721\n",
       "Obesity                     -0.3833      0.334     -1.146      0.259        -1.059     0.293\n",
       "Ltd_Eng_Prof                 0.2237      0.166      1.344      0.186        -0.113     0.560\n",
       "Jailincarceration            0.0425      0.025      1.670      0.103        -0.009     0.094\n",
       "Insurance                    0.1205      0.281      0.429      0.670        -0.447     0.687\n",
       "IMR                         -0.1442      0.697     -0.207      0.837        -1.553     1.264\n",
       "Housing_Defects              0.1554      0.122      1.275      0.210        -0.091     0.402\n",
       "Fruit_Veg                    0.0314      0.345      0.091      0.928        -0.666     0.729\n",
       "Flu_Vaccination              0.6337      0.226      2.798      0.008         0.176     1.091\n",
       "Edudidnotcompletehs_rate     0.5042      0.232      2.169      0.036         0.034     0.974\n",
       "Drug_Hosp                   -0.0003      0.004     -0.066      0.948        -0.008     0.008\n",
       "Age0to17_rate               -0.9814      0.347     -2.831      0.007        -1.682    -0.281\n",
       "==============================================================================\n",
       "Omnibus:                        0.189   Durbin-Watson:                   1.814\n",
       "Prob(Omnibus):                  0.910   Jarque-Bera (JB):                0.257\n",
       "Skew:                           0.126   Prob(JB):                        0.880\n",
       "Kurtosis:                       2.798   Cond. No.                     8.81e+04\n",
       "==============================================================================\n",
       "\n",
       "Warnings:\n",
       "[1] Standard Errors assume that the covariance matrix of the errors is correctly specified.\n",
       "[2] The condition number is large, 8.81e+04. This might indicate that there are\n",
       "strong multicollinearity or other numerical problems.\n",
       "\"\"\""
      ]
     },
     "execution_count": 451,
     "metadata": {},
     "output_type": "execute_result"
    }
   ],
   "source": [
    "X = sm.add_constant(X)\n",
    "est = sm.OLS(y,X).fit()\n",
    "est.summary()"
   ]
  },
  {
   "cell_type": "code",
   "execution_count": 452,
   "metadata": {
    "collapsed": false
   },
   "outputs": [
    {
     "data": {
      "image/png": "[encoded data removed]",
      "text/plain": [
       "<matplotlib.figure.Figure at 0x12888b910>"
      ]
     },
     "metadata": {},
     "output_type": "display_data"
    },
    {
     "data": {
      "text/plain": [
       "<matplotlib.axes._subplots.AxesSubplot at 0x1288baa90>"
      ]
     },
     "execution_count": 452,
     "metadata": {},
     "output_type": "execute_result"
    },
    {
     "data": {
      "image/png": "[encoded data removed]",
      "text/plain": [
       "<matplotlib.figure.Figure at 0x128938d90>"
      ]
     },
     "metadata": {},
     "output_type": "display_data"
    }
   ],
   "source": [
    "# the residuals appear normally distributed\n",
    "\n",
    "plt.figure(figsize=(10,5))\n",
    "plt.scatter(est.predict(X), y)\n",
    "plt.title(\"Y vs Predicted Y\")\n",
    "plt.ylabel('True Y')\n",
    "plt.xlabel('Predicted Y')\n",
    "plt.show()\n",
    "\n",
    "residuals = y - est.predict(X)\n",
    "residuals.plot(kind=\"density\",\n",
    "              figsize=(5,5))"
   ]
  },
  {
   "cell_type": "code",
   "execution_count": 453,
   "metadata": {
    "collapsed": false
   },
   "outputs": [
    {
     "name": "stdout",
     "output_type": "stream",
     "text": [
      "Populating the interactive namespace from numpy and matplotlib\n"
     ]
    },
    {
     "name": "stderr",
     "output_type": "stream",
     "text": [
      "WARNING: pylab import has clobbered these variables: ['f', 'datetime']\n",
      "`%matplotlib` prevents importing * from pylab and numpy\n"
     ]
    }
   ],
   "source": [
    "from sklearn import linear_model, metrics\n",
    "%pylab inline"
   ]
  },
  {
   "cell_type": "code",
   "execution_count": 454,
   "metadata": {
    "collapsed": false,
    "scrolled": false
   },
   "outputs": [
    {
     "name": "stdout",
     "output_type": "stream",
     "text": [
      "~~~ OLS ~~~\n",
      "OLS MSE:  20.8905342686\n",
      "OLS R2: 0.859789935816\n",
      "~~~ Lasso ~~~\n",
      "Lasso MSE:  21.3793796732\n",
      "Lasso R2: 0.856508973986\n",
      "~~~ Ridge ~~~\n",
      "Ridge MSE:  20.9231937756\n",
      "Ridge R2: 0.859570736464\n"
     ]
    }
   ],
   "source": [
    "lm = linear_model.LinearRegression().fit(X, y)\n",
    "print \"~~~ OLS ~~~\"\n",
    "print 'OLS MSE: ', metrics.mean_squared_error(y, lm.predict(X))\n",
    "print 'OLS R2:', lm.score(X, y)\n",
    "\n",
    "lm = linear_model.Lasso().fit(X, y)\n",
    "print \"~~~ Lasso ~~~\"\n",
    "print 'Lasso MSE: ', metrics.mean_squared_error(y, lm.predict(X))\n",
    "print 'Lasso R2:', lm.score(X, y)\n",
    "\n",
    "lm = linear_model.Ridge().fit(X, y)\n",
    "print \"~~~ Ridge ~~~\"\n",
    "print 'Ridge MSE: ', metrics.mean_squared_error(y, lm.predict(X))\n",
    "print 'Ridge R2:', lm.score(X, y)"
   ]
  },
  {
   "cell_type": "code",
   "execution_count": 455,
   "metadata": {
    "collapsed": false
   },
   "outputs": [
    {
     "name": "stdout",
     "output_type": "stream",
     "text": [
      "Alpha: 1e-10\n",
      "[  0.00000000e+00  -2.15359542e-02   3.22738757e+00  -2.41396807e-02\n",
      "   5.13580933e-02  -4.46541980e-01  -1.24826118e-01   1.22091129e-01\n",
      "  -3.83250248e-01   2.23747243e-01   4.25043778e-02   1.20456032e-01\n",
      "  -1.44175523e-01   1.55356337e-01   3.14153377e-02   6.33703872e-01\n",
      "   5.04165174e-01  -2.57022213e-04  -9.81441994e-01]\n",
      "20.8905342686\n",
      "Alpha: 1e-09\n",
      "[  0.00000000e+00  -2.15359559e-02   3.22738741e+00  -2.41396815e-02\n",
      "   5.13580935e-02  -4.46541979e-01  -1.24826118e-01   1.22091128e-01\n",
      "  -3.83250247e-01   2.23747244e-01   4.25043778e-02   1.20456032e-01\n",
      "  -1.44175525e-01   1.55356337e-01   3.14153378e-02   6.33703872e-01\n",
      "   5.04165174e-01  -2.57022202e-04  -9.81441992e-01]\n",
      "20.8905342686\n",
      "Alpha: 1e-08\n",
      "[  0.00000000e+00  -2.15359725e-02   3.22738575e+00  -2.41396894e-02\n",
      "   5.13580953e-02  -4.46541969e-01  -1.24826112e-01   1.22091120e-01\n",
      "  -3.83250236e-01   2.23747253e-01   4.25043782e-02   1.20456037e-01\n",
      "  -1.44175543e-01   1.55356330e-01   3.14153394e-02   6.33703872e-01\n",
      "   5.04165164e-01  -2.57022098e-04  -9.81441972e-01]\n",
      "20.8905342686\n",
      "Alpha: 1e-07\n",
      "[  0.00000000e+00  -2.15361393e-02   3.22736919e+00  -2.41397691e-02\n",
      "   5.13581136e-02  -4.46541869e-01  -1.24826049e-01   1.22091041e-01\n",
      "  -3.83250123e-01   2.23747348e-01   4.25043816e-02   1.20456089e-01\n",
      "  -1.44175722e-01   1.55356265e-01   3.14153558e-02   6.33703873e-01\n",
      "   5.04165070e-01  -2.57021056e-04  -9.81441770e-01]\n",
      "20.8905342686\n",
      "Alpha: 1e-06\n",
      "[  0.00000000e+00  -2.15378068e-02   3.22720360e+00  -2.41405626e-02\n",
      "   5.13582956e-02  -4.46540866e-01  -1.24825423e-01   1.22090245e-01\n",
      "  -3.83249001e-01   2.23748296e-01   4.25044159e-02   1.20456605e-01\n",
      "  -1.44177506e-01   1.55355616e-01   3.14155176e-02   6.33703883e-01\n",
      "   5.04164127e-01  -2.57010633e-04  -9.81439755e-01]\n",
      "20.8905342688\n",
      "Alpha: 1e-05\n",
      "[  0.00000000e+00  -2.15544846e-02   3.22554764e+00  -2.41485147e-02\n",
      "   5.13601201e-02  -4.46530848e-01  -1.24819172e-01   1.22082311e-01\n",
      "  -3.83237764e-01   2.23757776e-01   4.25047581e-02   1.20461763e-01\n",
      "  -1.44195368e-01   1.55349125e-01   3.14171478e-02   6.33703985e-01\n",
      "   5.04154689e-01  -2.56906455e-04  -9.81419612e-01]\n",
      "20.8905342871\n",
      "Alpha: 0.0001\n",
      "[  0.00000000e+00  -2.17213769e-02   3.20898863e+00  -2.42288020e-02\n",
      "   5.13785906e-02  -4.46430947e-01  -1.24756897e-01   1.22004072e-01\n",
      "  -3.83124569e-01   2.23852762e-01   4.25081593e-02   1.20513090e-01\n",
      "  -1.44375019e-01   1.55284021e-01   3.14339995e-02   6.33705295e-01\n",
      "   5.04059620e-01  -2.55867440e-04  -9.81218519e-01]\n",
      "20.8905361195\n",
      "Alpha: 0.001\n",
      "[  0.00000000e+00  -2.33889055e-02   3.04339176e+00  -2.50225796e-02\n",
      "   5.15606612e-02  -4.45428613e-01  -1.24131324e-01   1.21208549e-01\n",
      "  -3.82002358e-01   2.24800513e-01   4.25424295e-02   1.21029354e-01\n",
      "  -1.46159214e-01   1.54635288e-01   3.15959387e-02   6.33715067e-01\n",
      "   5.03117100e-01  -2.45445158e-04  -9.79203576e-01]\n",
      "20.8907194375\n",
      "Alpha: 0.01\n",
      "[  0.00000000e+00  -4.00733298e-02   1.38746779e+00  -3.30189026e-02\n",
      "   5.33981025e-02  -4.35426649e-01  -1.17893914e-01   1.13337996e-01\n",
      "  -3.70717619e-01   2.34291543e-01   4.28834386e-02   1.26172600e-01\n",
      "  -1.64080973e-01   1.48133038e-01   3.32579070e-02   6.33834101e-01\n",
      "   4.93639028e-01  -1.41425827e-04  -9.59079845e-01]\n",
      "20.9090463373\n",
      "Alpha: 0.1\n",
      "[  0.00000000e+00  -3.40797017e-02   0.00000000e+00  -0.00000000e+00\n",
      "   3.53455641e-02  -4.26501895e-01  -1.09965013e-01   8.02780591e-02\n",
      "  -4.02894675e-01   2.43726552e-01   4.32907081e-02   1.28345995e-01\n",
      "  -1.06063752e-01   1.48233094e-01   4.23776070e-03   6.20612681e-01\n",
      "   4.81664287e-01  -3.51577812e-05  -9.15739748e-01]\n",
      "20.9713584073\n",
      "Alpha: 1.0\n",
      "[ 0.         -0.         -0.         -0.         -0.         -0.36614975\n",
      " -0.10951477  0.         -0.46990164  0.27021396  0.04232824  0.04512462\n",
      " -0.          0.16187515  0.          0.54657481  0.44729687  0.00083965\n",
      " -0.8198698 ]\n",
      "21.3793796732\n",
      "Alpha: 10.0\n",
      "[ 0.         -0.         -0.         -0.         -0.         -0.\n",
      " -0.13797099  0.         -0.73589987  0.30874729  0.0199246   0.         -0.\n",
      "  0.07863836  0.          0.03389502  0.          0.00694129 -0.1760103 ]\n",
      "39.5435141022\n",
      "Alpha: 100.0\n",
      "[ 0.          0.         -0.         -0.         -0.          0.         -0.\n",
      "  0.         -0.          0.          0.          0.         -0.          0.\n",
      "  0.          0.          0.          0.00735385 -0.        ]\n",
      "114.853360838\n",
      "Alpha: 1000.0\n",
      "[ 0.          0.         -0.         -0.         -0.          0.         -0.\n",
      "  0.         -0.          0.          0.          0.         -0.          0.\n",
      " -0.          0.          0.          0.00586409 -0.        ]\n",
      "116.49210047\n",
      "Alpha: 10000.0\n",
      "[ 0.  0. -0. -0. -0.  0. -0.  0. -0.  0.  0.  0.  0.  0. -0.  0.  0.  0.\n",
      " -0.]\n",
      "148.994541798\n",
      "Alpha: 100000.0\n",
      "[ 0.  0. -0. -0. -0.  0. -0.  0. -0.  0.  0.  0.  0.  0. -0.  0.  0.  0.\n",
      " -0.]\n",
      "148.994541798\n",
      "Alpha: 1000000.0\n",
      "[ 0.  0. -0. -0. -0.  0. -0.  0. -0.  0.  0.  0.  0.  0. -0.  0.  0.  0.\n",
      " -0.]\n",
      "148.994541798\n",
      "Alpha: 10000000.0\n",
      "[ 0.  0. -0. -0. -0.  0. -0.  0. -0.  0.  0.  0.  0.  0. -0.  0.  0.  0.\n",
      " -0.]\n",
      "148.994541798\n",
      "Alpha: 100000000.0\n",
      "[ 0.  0. -0. -0. -0.  0. -0.  0. -0.  0.  0.  0.  0.  0. -0.  0.  0.  0.\n",
      " -0.]\n",
      "148.994541798\n",
      "Alpha: 1000000000.0\n",
      "[ 0.  0. -0. -0. -0.  0. -0.  0. -0.  0.  0.  0.  0.  0. -0.  0.  0.  0.\n",
      " -0.]\n",
      "148.994541798\n",
      "Alpha: 10000000000.0\n",
      "[ 0.  0. -0. -0. -0.  0. -0.  0. -0.  0.  0.  0.  0.  0. -0.  0.  0.  0.\n",
      " -0.]\n",
      "148.994541798\n"
     ]
    }
   ],
   "source": [
    "alphas = np.logspace(-10, 10, 21)\n",
    "for a in alphas:\n",
    "    print 'Alpha:', a\n",
    "    lm = linear_model.Lasso(alpha=a)\n",
    "    lm.fit(X, y)\n",
    "    print lm.coef_\n",
    "    print metrics.mean_squared_error(y, lm.predict(X))"
   ]
  },
  {
   "cell_type": "code",
   "execution_count": 456,
   "metadata": {
    "collapsed": false
   },
   "outputs": [
    {
     "data": {
      "text/plain": [
       "GridSearchCV(cv=None, error_score='raise',\n",
       "       estimator=Lasso(alpha=1.0, copy_X=True, fit_intercept=True, max_iter=1000,\n",
       "   normalize=False, positive=False, precompute=False, random_state=None,\n",
       "   selection='cyclic', tol=0.0001, warm_start=False),\n",
       "       fit_params={}, iid=True, n_jobs=1,\n",
       "       param_grid={'normalize': [True, False], 'alpha': array([  1.00000e-10,   1.00000e-09,   1.00000e-08,   1.00000e-07,\n",
       "         1.00000e-06,   1.00000e-05,   1.00000e-04,   1.00000e-03,\n",
       "         1.00000e-02,   1.00000e-01,   1.00000e+00,   1.00000e+01,\n",
       "         1.00000e+02,   1.00000e+03,   1.00000e+04,   1.00000e+05,\n",
       "         1.00000e+06,   1.00000e+07,   1.00000e+08,   1.00000e+09,\n",
       "         1.00000e+10]), 'fit_intercept': [True, False]},\n",
       "       pre_dispatch='2*n_jobs', refit=True, scoring='mean_squared_error',\n",
       "       verbose=0)"
      ]
     },
     "execution_count": 456,
     "metadata": {},
     "output_type": "execute_result"
    }
   ],
   "source": [
    "from sklearn import grid_search\n",
    "\n",
    "alphas = np.logspace(-10, 10, 21)\n",
    "gs = grid_search.GridSearchCV(\n",
    "    estimator=linear_model.Lasso(),\n",
    "    param_grid={'alpha': alphas,'fit_intercept':[True,False],'normalize':[True,False]},\n",
    "    scoring='mean_squared_error')\n",
    "\n",
    "gs.fit(X, y)"
   ]
  },
  {
   "cell_type": "code",
   "execution_count": 457,
   "metadata": {
    "collapsed": false
   },
   "outputs": [
    {
     "data": {
      "text/plain": [
       "Index([u'const', u'Unemployment', u'TrumpSupport', u'Smoking',\n",
       "       u'Self_rep_health', u'Rent_burden', u'Racewhite_Rate', u'Poverty',\n",
       "       u'Obesity', u'Ltd_Eng_Prof', u'Jailincarceration', u'Insurance', u'IMR',\n",
       "       u'Housing_Defects', u'Fruit_Veg', u'Flu_Vaccination',\n",
       "       u'Edudidnotcompletehs_rate', u'Drug_Hosp', u'Age0to17_rate'],\n",
       "      dtype='object')"
      ]
     },
     "execution_count": 457,
     "metadata": {},
     "output_type": "execute_result"
    }
   ],
   "source": [
    "X.columns"
   ]
  },
  {
   "cell_type": "code",
   "execution_count": 458,
   "metadata": {
    "collapsed": false,
    "scrolled": true
   },
   "outputs": [
    {
     "data": {
      "text/plain": [
       "array([  0.00000000e+00,  -0.00000000e+00,  -0.00000000e+00,\n",
       "         0.00000000e+00,   7.00600244e-02,  -2.73986204e-01,\n",
       "        -8.18616416e-02,   2.52073563e-03,  -3.42951512e-01,\n",
       "         2.53971709e-01,   4.38699685e-02,   6.50337703e-02,\n",
       "        -0.00000000e+00,   1.97934004e-01,   1.95384423e-01,\n",
       "         6.51461762e-01,   4.96253931e-01,   3.47373266e-04,\n",
       "        -8.82646908e-01])"
      ]
     },
     "execution_count": 458,
     "metadata": {},
     "output_type": "execute_result"
    }
   ],
   "source": [
    "gs.best_estimator_.fit(X,y).coef_"
   ]
  },
  {
   "cell_type": "code",
   "execution_count": 459,
   "metadata": {
    "collapsed": false
   },
   "outputs": [
    {
     "data": {
      "image/png": "[encoded data removed]",
      "text/plain": [
       "<matplotlib.figure.Figure at 0x128852e10>"
      ]
     },
     "metadata": {},
     "output_type": "display_data"
    }
   ],
   "source": [
    "import seaborn as sns\n",
    "sns.set_style(\"darkgrid\")\n",
    "import statsmodels.formula.api as smf\n",
    "\n",
    "# create a matplotlib figure\n",
    "plt.figure()\n",
    "# generate a scatterplot inside the figure\n",
    "plt.plot(data.TrumpSupport,data.HPV_vaccination, '.')\n",
    "# show the plot\n",
    "plt.show()"
   ]
  },
  {
   "cell_type": "code",
   "execution_count": 505,
   "metadata": {
    "collapsed": false
   },
   "outputs": [
    {
     "data": {
      "text/plain": [
       "<seaborn.axisgrid.FacetGrid at 0x12904fb50>"
      ]
     },
     "execution_count": 505,
     "metadata": {},
     "output_type": "execute_result"
    },
    {
     "data": {
      "image/png": "[encoded data removed]",
      "text/plain": [
       "<matplotlib.figure.Figure at 0x12904fd10>"
      ]
     },
     "metadata": {},
     "output_type": "display_data"
    }
   ],
   "source": [
    "sns.lmplot('Flu_Vaccination', 'HPV_vaccination', data)"
   ]
  },
  {
   "cell_type": "code",
   "execution_count": 461,
   "metadata": {
    "collapsed": false
   },
   "outputs": [
    {
     "data": {
      "text/plain": [
       "<seaborn.axisgrid.FacetGrid at 0x1286c2290>"
      ]
     },
     "execution_count": 461,
     "metadata": {},
     "output_type": "execute_result"
    },
    {
     "data": {
      "image/png": "[encoded data removed]",
      "text/plain": [
       "<matplotlib.figure.Figure at 0x1286cec10>"
      ]
     },
     "metadata": {},
     "output_type": "display_data"
    }
   ],
   "source": [
    "log_columns = ['Poverty', 'HPV_vaccination',]\n",
    "log_data = data.copy()\n",
    "log_data[log_columns] = log_data[log_columns].apply(np.log10)\n",
    "g = sns.lmplot('Poverty', 'HPV_vaccination', log_data)\n",
    "g.set_axis_labels( \"Log Poverty\", \"Log HPV_vaccination\")"
   ]
  },
  {
   "cell_type": "code",
   "execution_count": 513,
   "metadata": {
    "collapsed": false
   },
   "outputs": [
    {
     "name": "stdout",
     "output_type": "stream",
     "text": [
      "                                HPV_vaccination  Unemployment  TrumpSupport  \\\n",
      "HPV_vaccination                        1.000000      0.352816     -0.514131   \n",
      "Unemployment                           0.352816      1.000000     -0.487870   \n",
      "TrumpSupport                          -0.514131     -0.487870      1.000000   \n",
      "Tobaccoretail_rate                     0.280829     -0.035278     -0.259127   \n",
      "Teen_Births                            0.497002      0.823331     -0.415560   \n",
      "Supermarketarea_rate                  -0.100728     -0.251694      0.116805   \n",
      "Sugary_Drink                           0.242926      0.817164     -0.305203   \n",
      "Stroke_Hosp                            0.113197      0.804416     -0.416899   \n",
      "Smoking                               -0.070338      0.198859      0.084083   \n",
      "Self_rep_health                       -0.389013     -0.591853      0.086322   \n",
      "Schoolabsent_rate                      0.249945      0.846833     -0.474521   \n",
      "Rent_burden                            0.196921      0.683882     -0.058197   \n",
      "Racewhite_Rate                        -0.481774     -0.796825      0.563608   \n",
      "Raceother_rate                        -0.121772     -0.188132     -0.307284   \n",
      "Racehispanic_rate                      0.680513      0.610354     -0.324342   \n",
      "Raceblack_rate                        -0.067332      0.581358     -0.472047   \n",
      "Raceasian_rate                        -0.033935     -0.521124      0.324308   \n",
      "Psych_Hosp                             0.194205      0.527183     -0.387173   \n",
      "Preterm_Births                         0.000321      0.606190     -0.348201   \n",
      "Premature_Mort                         0.248907      0.799451     -0.429945   \n",
      "Poverty                                0.543315      0.768518     -0.377047   \n",
      "OverallPopulation_rate                -0.282241     -0.194954      0.229700   \n",
      "Obesity                               -0.049784      0.744572     -0.128895   \n",
      "Nonwhite_rate                          0.481774      0.796825     -0.563608   \n",
      "Ltd_Eng_Prof                           0.388914      0.175249      0.173944   \n",
      "Life_expectancy_rate                  -0.182594     -0.750611      0.393998   \n",
      "Late_No_Prenatal                       0.301953      0.757176     -0.408160   \n",
      "Jailincarceration                      0.496278      0.747181     -0.500895   \n",
      "Insurance                              0.439557      0.475164     -0.171390   \n",
      "IMR                                    0.174627      0.675968     -0.418661   \n",
      "Housing_Defects                        0.552469      0.687768     -0.619414   \n",
      "HIV_Testing_Ever                       0.535759      0.715519     -0.753310   \n",
      "HIV_Diagnosis                          0.493900      0.406236     -0.566659   \n",
      "Fruit_Veg                             -0.272331     -0.786347      0.388662   \n",
      "Foreign_born                           0.129155      0.052354      0.107611   \n",
      "Flu_Vaccination                        0.551805      0.232840     -0.300323   \n",
      "Exercise                              -0.065200     -0.468365     -0.127842   \n",
      "Eduhsdegreeorsomecollege_rate         -0.285011      0.543359      0.114680   \n",
      "Edudidnotcompletehs_rate               0.550783      0.732155     -0.302765   \n",
      "Educollegedegreeandhigher_rate        -0.144899     -0.752032      0.105147   \n",
      "Drug_Hosp                              0.478806      0.749360     -0.485811   \n",
      "Didnt_Get_Care                         0.341145      0.581284     -0.480407   \n",
      "Diabetes                               0.185991      0.761017     -0.275071   \n",
      "Avoidable_Diabetes                     0.356822      0.870757     -0.514082   \n",
      "Avoidable_Asthma                       0.475992      0.852617     -0.469907   \n",
      "Asthma_5to14                           0.465061      0.813974     -0.558069   \n",
      "Assault_Hosps                          0.398750      0.824754     -0.504729   \n",
      "Alc_Hosp                               0.516059      0.761424     -0.518725   \n",
      "Airquality_rate                        0.472382     -0.199644     -0.352259   \n",
      "Age65plus_rate                        -0.461045     -0.423759      0.402227   \n",
      "Age45to64_rate                        -0.444357     -0.173541      0.365116   \n",
      "Age25to44_rate                         0.294849     -0.496205     -0.230012   \n",
      "Age18to24_rate                         0.403889      0.581330     -0.422213   \n",
      "Age0to17_rate                         -0.005141      0.688883     -0.017698   \n",
      "\n",
      "                                Tobaccoretail_rate  Teen_Births  \\\n",
      "HPV_vaccination                           0.280829     0.497002   \n",
      "Unemployment                             -0.035278     0.823331   \n",
      "TrumpSupport                             -0.259127    -0.415560   \n",
      "Tobaccoretail_rate                        1.000000    -0.026527   \n",
      "Teen_Births                              -0.026527     1.000000   \n",
      "Supermarketarea_rate                     -0.029351    -0.270540   \n",
      "Sugary_Drink                             -0.078044     0.860370   \n",
      "Stroke_Hosp                              -0.152143     0.735082   \n",
      "Smoking                                   0.013306     0.194958   \n",
      "Self_rep_health                           0.072708    -0.700216   \n",
      "Schoolabsent_rate                        -0.011741     0.796083   \n",
      "Rent_burden                              -0.228359     0.694922   \n",
      "Racewhite_Rate                            0.097555    -0.797528   \n",
      "Raceother_rate                            0.045867    -0.289500   \n",
      "Racehispanic_rate                        -0.006626     0.764817   \n",
      "Raceblack_rate                           -0.070817     0.435596   \n",
      "Raceasian_rate                           -0.055190    -0.491728   \n",
      "Psych_Hosp                                0.041084     0.541384   \n",
      "Preterm_Births                           -0.157280     0.476381   \n",
      "Premature_Mort                            0.061651     0.791062   \n",
      "Poverty                                   0.051132     0.882688   \n",
      "OverallPopulation_rate                   -0.454239    -0.166032   \n",
      "Obesity                                  -0.212236     0.714295   \n",
      "Nonwhite_rate                            -0.097555     0.797528   \n",
      "Ltd_Eng_Prof                             -0.182775     0.371222   \n",
      "Life_expectancy_rate                     -0.027501    -0.747665   \n",
      "Late_No_Prenatal                         -0.145102     0.678550   \n",
      "Jailincarceration                         0.102069     0.760778   \n",
      "Insurance                                -0.166086     0.701406   \n",
      "IMR                                       0.071930     0.627628   \n",
      "Housing_Defects                           0.055951     0.742678   \n",
      "HIV_Testing_Ever                          0.236705     0.659385   \n",
      "HIV_Diagnosis                             0.421584     0.392900   \n",
      "Fruit_Veg                                 0.063597    -0.754110   \n",
      "Foreign_born                             -0.250005     0.108001   \n",
      "Flu_Vaccination                           0.150354     0.178436   \n",
      "Exercise                                  0.359038    -0.495964   \n",
      "Eduhsdegreeorsomecollege_rate            -0.326752     0.477897   \n",
      "Edudidnotcompletehs_rate                 -0.079638     0.873792   \n",
      "Educollegedegreeandhigher_rate            0.242778    -0.795323   \n",
      "Drug_Hosp                                 0.148213     0.729716   \n",
      "Didnt_Get_Care                           -0.068958     0.611810   \n",
      "Diabetes                                 -0.184107     0.758735   \n",
      "Avoidable_Diabetes                       -0.009856     0.873921   \n",
      "Avoidable_Asthma                          0.067358     0.855880   \n",
      "Asthma_5to14                              0.062746     0.769696   \n",
      "Assault_Hosps                             0.056705     0.837993   \n",
      "Alc_Hosp                                  0.158881     0.799206   \n",
      "Airquality_rate                           0.710508    -0.159671   \n",
      "Age65plus_rate                           -0.268139    -0.618704   \n",
      "Age45to64_rate                           -0.385829    -0.394088   \n",
      "Age25to44_rate                            0.496583    -0.340692   \n",
      "Age18to24_rate                            0.288163     0.535241   \n",
      "Age0to17_rate                            -0.305054     0.752710   \n",
      "\n",
      "                                Supermarketarea_rate  Sugary_Drink  \\\n",
      "HPV_vaccination                            -0.100728      0.242926   \n",
      "Unemployment                               -0.251694      0.817164   \n",
      "TrumpSupport                                0.116805     -0.305203   \n",
      "Tobaccoretail_rate                         -0.029351     -0.078044   \n",
      "Teen_Births                                -0.270540      0.860370   \n",
      "Supermarketarea_rate                        1.000000     -0.243958   \n",
      "Sugary_Drink                               -0.243958      1.000000   \n",
      "Stroke_Hosp                                -0.069460      0.766935   \n",
      "Smoking                                     0.177327      0.192775   \n",
      "Self_rep_health                             0.294013     -0.581171   \n",
      "Schoolabsent_rate                          -0.104732      0.796506   \n",
      "Rent_burden                                -0.299177      0.736481   \n",
      "Racewhite_Rate                              0.258745     -0.838923   \n",
      "Raceother_rate                             -0.004559     -0.209766   \n",
      "Racehispanic_rate                          -0.240287      0.619134   \n",
      "Raceblack_rate                             -0.073088      0.586941   \n",
      "Raceasian_rate                              0.029663     -0.447941   \n",
      "Psych_Hosp                                  0.147319      0.535324   \n",
      "Preterm_Births                              0.006865      0.625936   \n",
      "Premature_Mort                              0.031063      0.750307   \n",
      "Poverty                                    -0.239420      0.700720   \n",
      "OverallPopulation_rate                     -0.024786     -0.130167   \n",
      "Obesity                                    -0.194861      0.824735   \n",
      "Nonwhite_rate                              -0.258745      0.838923   \n",
      "Ltd_Eng_Prof                               -0.300488      0.231417   \n",
      "Life_expectancy_rate                       -0.039742     -0.718889   \n",
      "Late_No_Prenatal                           -0.142526      0.749036   \n",
      "Jailincarceration                           0.014238      0.680663   \n",
      "Insurance                                  -0.376378      0.591721   \n",
      "IMR                                        -0.140637      0.748767   \n",
      "Housing_Defects                            -0.156194      0.577520   \n",
      "HIV_Testing_Ever                           -0.142804      0.574560   \n",
      "HIV_Diagnosis                               0.015875      0.316924   \n",
      "Fruit_Veg                                   0.142826     -0.745192   \n",
      "Foreign_born                               -0.315064      0.184681   \n",
      "Flu_Vaccination                             0.130160      0.090640   \n",
      "Exercise                                    0.236765     -0.525064   \n",
      "Eduhsdegreeorsomecollege_rate              -0.119686      0.717101   \n",
      "Edudidnotcompletehs_rate                   -0.308403      0.748830   \n",
      "Educollegedegreeandhigher_rate              0.247120     -0.868428   \n",
      "Drug_Hosp                                   0.026414      0.639836   \n",
      "Didnt_Get_Care                             -0.359453      0.537291   \n",
      "Diabetes                                   -0.220774      0.860928   \n",
      "Avoidable_Diabetes                         -0.102432      0.823688   \n",
      "Avoidable_Asthma                           -0.084891      0.758253   \n",
      "Asthma_5to14                               -0.122864      0.736371   \n",
      "Assault_Hosps                              -0.048151      0.794034   \n",
      "Alc_Hosp                                   -0.024751      0.681484   \n",
      "Airquality_rate                             0.070836     -0.356694   \n",
      "Age65plus_rate                              0.263082     -0.496505   \n",
      "Age45to64_rate                              0.189086     -0.079272   \n",
      "Age25to44_rate                              0.054478     -0.578145   \n",
      "Age18to24_rate                             -0.293608      0.535848   \n",
      "Age0to17_rate                              -0.232720      0.782426   \n",
      "\n",
      "                                Stroke_Hosp   Smoking  Self_rep_health  \\\n",
      "HPV_vaccination                    0.113197 -0.070338        -0.389013   \n",
      "Unemployment                       0.804416  0.198859        -0.591853   \n",
      "TrumpSupport                      -0.416899  0.084083         0.086322   \n",
      "Tobaccoretail_rate                -0.152143  0.013306         0.072708   \n",
      "Teen_Births                        0.735082  0.194958        -0.700216   \n",
      "Supermarketarea_rate              -0.069460  0.177327         0.294013   \n",
      "Sugary_Drink                       0.766935  0.192775        -0.581171   \n",
      "Stroke_Hosp                        1.000000  0.306583        -0.453390   \n",
      "Smoking                            0.306583  1.000000        -0.250762   \n",
      "Self_rep_health                   -0.453390 -0.250762         1.000000   \n",
      "Schoolabsent_rate                  0.823797  0.353255        -0.464418   \n",
      "Rent_burden                        0.512413  0.038781        -0.705527   \n",
      "Racewhite_Rate                    -0.714842  0.030807         0.536567   \n",
      "Raceother_rate                    -0.008088 -0.274556         0.383400   \n",
      "Racehispanic_rate                  0.377370  0.138086        -0.619343   \n",
      "Raceblack_rate                     0.722715 -0.055671        -0.041359   \n",
      "Raceasian_rate                    -0.561754 -0.182823         0.005156   \n",
      "Psych_Hosp                         0.653280  0.284903        -0.242592   \n",
      "Preterm_Births                     0.695819  0.176672        -0.182794   \n",
      "Premature_Mort                     0.840143  0.412186        -0.469189   \n",
      "Poverty                            0.657687  0.310160        -0.737499   \n",
      "OverallPopulation_rate            -0.152014 -0.119808        -0.014886   \n",
      "Obesity                            0.786946  0.403693        -0.555496   \n",
      "Nonwhite_rate                      0.714842 -0.030807        -0.536567   \n",
      "Ltd_Eng_Prof                      -0.030767  0.034299        -0.719706   \n",
      "Life_expectancy_rate              -0.830387 -0.431825         0.414948   \n",
      "Late_No_Prenatal                   0.674008  0.054621        -0.503175   \n",
      "Jailincarceration                  0.759032  0.272707        -0.431536   \n",
      "Insurance                          0.380918 -0.100168        -0.682104   \n",
      "IMR                                0.715460  0.115220        -0.346241   \n",
      "Housing_Defects                    0.633255 -0.095208        -0.401984   \n",
      "HIV_Testing_Ever                   0.612909  0.060995        -0.244192   \n",
      "HIV_Diagnosis                      0.351147  0.035234        -0.064498   \n",
      "Fruit_Veg                         -0.702890 -0.153798         0.495613   \n",
      "Foreign_born                      -0.091784 -0.306999        -0.391565   \n",
      "Flu_Vaccination                   -0.013670 -0.067572        -0.073305   \n",
      "Exercise                          -0.396797 -0.277668         0.709746   \n",
      "Eduhsdegreeorsomecollege_rate      0.586894  0.196365        -0.381377   \n",
      "Edudidnotcompletehs_rate           0.585432  0.171969        -0.818092   \n",
      "Educollegedegreeandhigher_rate    -0.692901 -0.222273         0.701858   \n",
      "Drug_Hosp                          0.690402  0.336812        -0.408966   \n",
      "Didnt_Get_Care                     0.593959  0.054252        -0.411828   \n",
      "Diabetes                           0.732047  0.235996        -0.639362   \n",
      "Avoidable_Diabetes                 0.887951  0.269332        -0.515233   \n",
      "Avoidable_Asthma                   0.772730  0.327929        -0.574399   \n",
      "Asthma_5to14                       0.764152  0.197350        -0.446840   \n",
      "Assault_Hosps                      0.816582  0.315443        -0.469597   \n",
      "Alc_Hosp                           0.703092  0.325543        -0.469447   \n",
      "Airquality_rate                   -0.358418 -0.127393         0.229189   \n",
      "Age65plus_rate                    -0.422690 -0.128679         0.340323   \n",
      "Age45to64_rate                    -0.195090 -0.194948         0.210953   \n",
      "Age25to44_rate                    -0.472732 -0.140472         0.390553   \n",
      "Age18to24_rate                     0.508477  0.285940        -0.440914   \n",
      "Age0to17_rate                      0.697944  0.210324        -0.568032   \n",
      "\n",
      "                                    ...        Avoidable_Asthma  Asthma_5to14  \\\n",
      "HPV_vaccination                     ...                0.475992      0.465061   \n",
      "Unemployment                        ...                0.852617      0.813974   \n",
      "TrumpSupport                        ...               -0.469907     -0.558069   \n",
      "Tobaccoretail_rate                  ...                0.067358      0.062746   \n",
      "Teen_Births                         ...                0.855880      0.769696   \n",
      "Supermarketarea_rate                ...               -0.084891     -0.122864   \n",
      "Sugary_Drink                        ...                0.758253      0.736371   \n",
      "Stroke_Hosp                         ...                0.772730      0.764152   \n",
      "Smoking                             ...                0.327929      0.197350   \n",
      "Self_rep_health                     ...               -0.574399     -0.446840   \n",
      "Schoolabsent_rate                   ...                0.860888      0.852531   \n",
      "Rent_burden                         ...                0.499808      0.426812   \n",
      "Racewhite_Rate                      ...               -0.691061     -0.750814   \n",
      "Raceother_rate                      ...               -0.257996     -0.108453   \n",
      "Racehispanic_rate                   ...                0.665375      0.595829   \n",
      "Raceblack_rate                      ...                0.456749      0.588271   \n",
      "Raceasian_rate                      ...               -0.581703     -0.601997   \n",
      "Psych_Hosp                          ...                0.667183      0.621764   \n",
      "Preterm_Births                      ...                0.527767      0.567396   \n",
      "Premature_Mort                      ...                0.872020      0.817439   \n",
      "Poverty                             ...                0.844715      0.748769   \n",
      "OverallPopulation_rate              ...               -0.352159     -0.367762   \n",
      "Obesity                             ...                0.674076      0.671913   \n",
      "Nonwhite_rate                       ...                0.691061      0.750814   \n",
      "Ltd_Eng_Prof                        ...                0.109000     -0.014371   \n",
      "Life_expectancy_rate                ...               -0.829771     -0.775921   \n",
      "Late_No_Prenatal                    ...                0.608181      0.683032   \n",
      "Jailincarceration                   ...                0.860647      0.834652   \n",
      "Insurance                           ...                0.412943      0.360343   \n",
      "IMR                                 ...                0.627838      0.681389   \n",
      "Housing_Defects                     ...                0.699558      0.717285   \n",
      "HIV_Testing_Ever                    ...                0.746868      0.827335   \n",
      "HIV_Diagnosis                       ...                0.479624      0.507210   \n",
      "Fruit_Veg                           ...               -0.765761     -0.798920   \n",
      "Foreign_born                        ...               -0.201569     -0.203136   \n",
      "Flu_Vaccination                     ...                0.365059      0.392061   \n",
      "Exercise                            ...               -0.365711     -0.301814   \n",
      "Eduhsdegreeorsomecollege_rate       ...                0.338538      0.342363   \n",
      "Edudidnotcompletehs_rate            ...                0.729286      0.639291   \n",
      "Educollegedegreeandhigher_rate      ...               -0.628460     -0.578876   \n",
      "Drug_Hosp                           ...                0.911465      0.871934   \n",
      "Didnt_Get_Care                      ...                0.524883      0.629899   \n",
      "Diabetes                            ...                0.683255      0.684640   \n",
      "Avoidable_Diabetes                  ...                0.936204      0.897732   \n",
      "Avoidable_Asthma                    ...                1.000000      0.906090   \n",
      "Asthma_5to14                        ...                0.906090      1.000000   \n",
      "Assault_Hosps                       ...                0.924830      0.898379   \n",
      "Alc_Hosp                            ...                0.925681      0.867131   \n",
      "Airquality_rate                     ...               -0.001536      0.009488   \n",
      "Age65plus_rate                      ...               -0.557961     -0.489979   \n",
      "Age45to64_rate                      ...               -0.424853     -0.347151   \n",
      "Age25to44_rate                      ...               -0.283569     -0.267676   \n",
      "Age18to24_rate                      ...                0.614720      0.601182   \n",
      "Age0to17_rate                       ...                0.641184      0.553947   \n",
      "\n",
      "                                Assault_Hosps  Alc_Hosp  Airquality_rate  \\\n",
      "HPV_vaccination                      0.398750  0.516059         0.472382   \n",
      "Unemployment                         0.824754  0.761424        -0.199644   \n",
      "TrumpSupport                        -0.504729 -0.518725        -0.352259   \n",
      "Tobaccoretail_rate                   0.056705  0.158881         0.710508   \n",
      "Teen_Births                          0.837993  0.799206        -0.159671   \n",
      "Supermarketarea_rate                -0.048151 -0.024751         0.070836   \n",
      "Sugary_Drink                         0.794034  0.681484        -0.356694   \n",
      "Stroke_Hosp                          0.816582  0.703092        -0.358418   \n",
      "Smoking                              0.315443  0.325543        -0.127393   \n",
      "Self_rep_health                     -0.469597 -0.469447         0.229189   \n",
      "Schoolabsent_rate                    0.920828  0.867795        -0.148008   \n",
      "Rent_burden                          0.485667  0.388148        -0.413760   \n",
      "Racewhite_Rate                      -0.734805 -0.614404         0.239967   \n",
      "Raceother_rate                      -0.159669 -0.198900         0.003465   \n",
      "Racehispanic_rate                    0.552557  0.591662         0.027012   \n",
      "Raceblack_rate                       0.619481  0.456642        -0.240878   \n",
      "Raceasian_rate                      -0.615552 -0.619848        -0.077426   \n",
      "Psych_Hosp                           0.779985  0.820713         0.023400   \n",
      "Preterm_Births                       0.646366  0.508450        -0.335105   \n",
      "Premature_Mort                       0.942801  0.898387        -0.115746   \n",
      "Poverty                              0.818839  0.843337         0.013202   \n",
      "OverallPopulation_rate              -0.323670 -0.433834        -0.327982   \n",
      "Obesity                              0.730062  0.592859        -0.503017   \n",
      "Nonwhite_rate                        0.734805  0.614404        -0.239967   \n",
      "Ltd_Eng_Prof                        -0.000613  0.004893        -0.230206   \n",
      "Life_expectancy_rate                -0.886056 -0.841336         0.188309   \n",
      "Late_No_Prenatal                     0.682263  0.531277        -0.268841   \n",
      "Jailincarceration                    0.933644  0.914470         0.062582   \n",
      "Insurance                            0.386089  0.331330        -0.269916   \n",
      "IMR                                  0.739114  0.614115        -0.182057   \n",
      "Housing_Defects                      0.692484  0.717489         0.109875   \n",
      "HIV_Testing_Ever                     0.781355  0.789261         0.309587   \n",
      "HIV_Diagnosis                        0.555953  0.637160         0.469801   \n",
      "Fruit_Veg                           -0.783261 -0.712310         0.143506   \n",
      "Foreign_born                        -0.203539 -0.294359        -0.365842   \n",
      "Flu_Vaccination                      0.317937  0.384457         0.435547   \n",
      "Exercise                            -0.310662 -0.195624         0.554973   \n",
      "Eduhsdegreeorsomecollege_rate        0.436263  0.235753        -0.705318   \n",
      "Edudidnotcompletehs_rate             0.652134  0.618224        -0.218240   \n",
      "Educollegedegreeandhigher_rate      -0.645495 -0.504651         0.552788   \n",
      "Drug_Hosp                            0.928186  0.976735         0.174744   \n",
      "Didnt_Get_Care                       0.539026  0.499716        -0.119203   \n",
      "Diabetes                             0.725597  0.604964        -0.419412   \n",
      "Avoidable_Diabetes                   0.957850  0.906054        -0.144575   \n",
      "Avoidable_Asthma                     0.924830  0.925681        -0.001536   \n",
      "Asthma_5to14                         0.898379  0.867131         0.009488   \n",
      "Assault_Hosps                        1.000000  0.937669        -0.038359   \n",
      "Alc_Hosp                             0.937669  1.000000         0.169055   \n",
      "Airquality_rate                     -0.038359  0.169055         1.000000   \n",
      "Age65plus_rate                      -0.506767 -0.531690        -0.155868   \n",
      "Age45to64_rate                      -0.341978 -0.485315        -0.470639   \n",
      "Age25to44_rate                      -0.345538 -0.154235         0.714750   \n",
      "Age18to24_rate                       0.594627  0.624360         0.165492   \n",
      "Age0to17_rate                        0.643859  0.506823        -0.530461   \n",
      "\n",
      "                                Age65plus_rate  Age45to64_rate  \\\n",
      "HPV_vaccination                      -0.461045       -0.444357   \n",
      "Unemployment                         -0.423759       -0.173541   \n",
      "TrumpSupport                          0.402227        0.365116   \n",
      "Tobaccoretail_rate                   -0.268139       -0.385829   \n",
      "Teen_Births                          -0.618704       -0.394088   \n",
      "Supermarketarea_rate                  0.263082        0.189086   \n",
      "Sugary_Drink                         -0.496505       -0.079272   \n",
      "Stroke_Hosp                          -0.422690       -0.195090   \n",
      "Smoking                              -0.128679       -0.194948   \n",
      "Self_rep_health                       0.340323        0.210953   \n",
      "Schoolabsent_rate                    -0.397039       -0.264426   \n",
      "Rent_burden                          -0.312057        0.023103   \n",
      "Racewhite_Rate                        0.497900        0.109850   \n",
      "Raceother_rate                       -0.020917        0.081343   \n",
      "Racehispanic_rate                    -0.507674       -0.360619   \n",
      "Raceblack_rate                       -0.231298        0.036490   \n",
      "Raceasian_rate                        0.291731        0.324477   \n",
      "Psych_Hosp                           -0.255631       -0.245593   \n",
      "Preterm_Births                       -0.106780        0.113945   \n",
      "Premature_Mort                       -0.421280       -0.315356   \n",
      "Poverty                              -0.610386       -0.557362   \n",
      "OverallPopulation_rate                0.252215        0.368754   \n",
      "Obesity                              -0.295376       -0.017676   \n",
      "Nonwhite_rate                        -0.497900       -0.109850   \n",
      "Ltd_Eng_Prof                         -0.126399       -0.047607   \n",
      "Life_expectancy_rate                  0.409626        0.282126   \n",
      "Late_No_Prenatal                     -0.242244        0.083108   \n",
      "Jailincarceration                    -0.517289       -0.368780   \n",
      "Insurance                            -0.392464       -0.175054   \n",
      "IMR                                  -0.288513        0.005430   \n",
      "Housing_Defects                      -0.484377       -0.444557   \n",
      "HIV_Testing_Ever                     -0.519634       -0.418052   \n",
      "HIV_Diagnosis                        -0.428815       -0.344134   \n",
      "Fruit_Veg                             0.422899        0.216879   \n",
      "Foreign_born                          0.063191        0.343939   \n",
      "Flu_Vaccination                      -0.107511       -0.142773   \n",
      "Exercise                              0.144179       -0.053616   \n",
      "Eduhsdegreeorsomecollege_rate        -0.106056        0.319889   \n",
      "Edudidnotcompletehs_rate             -0.544421       -0.335770   \n",
      "Educollegedegreeandhigher_rate        0.377024        0.002829   \n",
      "Drug_Hosp                            -0.481645       -0.423805   \n",
      "Didnt_Get_Care                       -0.416396       -0.340010   \n",
      "Diabetes                             -0.424733       -0.074303   \n",
      "Avoidable_Diabetes                   -0.535193       -0.348591   \n",
      "Avoidable_Asthma                     -0.557961       -0.424853   \n",
      "Asthma_5to14                         -0.489979       -0.347151   \n",
      "Assault_Hosps                        -0.506767       -0.341978   \n",
      "Alc_Hosp                             -0.531690       -0.485315   \n",
      "Airquality_rate                      -0.155868       -0.470639   \n",
      "Age65plus_rate                        1.000000        0.699982   \n",
      "Age45to64_rate                        0.699982        1.000000   \n",
      "Age25to44_rate                       -0.226872       -0.506543   \n",
      "Age18to24_rate                       -0.594693       -0.505063   \n",
      "Age0to17_rate                        -0.466499       -0.163682   \n",
      "\n",
      "                                Age25to44_rate  Age18to24_rate  Age0to17_rate  \n",
      "HPV_vaccination                       0.294849        0.403889      -0.005141  \n",
      "Unemployment                         -0.496205        0.581330       0.688883  \n",
      "TrumpSupport                         -0.230012       -0.422213      -0.017698  \n",
      "Tobaccoretail_rate                    0.496583        0.288163      -0.305054  \n",
      "Teen_Births                          -0.340692        0.535241       0.752710  \n",
      "Supermarketarea_rate                  0.054478       -0.293608      -0.232720  \n",
      "Sugary_Drink                         -0.578145        0.535848       0.782426  \n",
      "Stroke_Hosp                          -0.472732        0.508477       0.697944  \n",
      "Smoking                              -0.140472        0.285940       0.210324  \n",
      "Self_rep_health                       0.390553       -0.440914      -0.568032  \n",
      "Schoolabsent_rate                    -0.453248        0.617870       0.658633  \n",
      "Rent_burden                          -0.665707        0.402818       0.757705  \n",
      "Racewhite_Rate                        0.423600       -0.573258      -0.607602  \n",
      "Raceother_rate                        0.279072       -0.116427      -0.294312  \n",
      "Racehispanic_rate                    -0.201930        0.545701       0.501937  \n",
      "Raceblack_rate                       -0.350700        0.307270       0.415872  \n",
      "Raceasian_rate                        0.130704       -0.344965      -0.393947  \n",
      "Psych_Hosp                           -0.191239        0.408901       0.340051  \n",
      "Preterm_Births                       -0.497386        0.336441       0.455071  \n",
      "Premature_Mort                       -0.385105        0.529375       0.647075  \n",
      "Poverty                              -0.266680        0.678269       0.682848  \n",
      "OverallPopulation_rate               -0.220054       -0.294258       0.033484  \n",
      "Obesity                              -0.675640        0.442520       0.791253  \n",
      "Nonwhite_rate                        -0.423600        0.573258       0.607602  \n",
      "Ltd_Eng_Prof                         -0.236880        0.115747       0.286602  \n",
      "Life_expectancy_rate                  0.363155       -0.475605      -0.620756  \n",
      "Late_No_Prenatal                     -0.551803        0.404596       0.559317  \n",
      "Jailincarceration                    -0.224856        0.596153       0.521263  \n",
      "Insurance                            -0.302034        0.366840       0.507116  \n",
      "IMR                                  -0.434863        0.470663       0.502452  \n",
      "Housing_Defects                      -0.092552        0.471516       0.439523  \n",
      "HIV_Testing_Ever                     -0.002175        0.584968       0.320117  \n",
      "HIV_Diagnosis                         0.257773        0.428546      -0.030738  \n",
      "Fruit_Veg                             0.467221       -0.563853      -0.698281  \n",
      "Foreign_born                         -0.282161       -0.067888       0.097516  \n",
      "Flu_Vaccination                       0.046502        0.196610       0.001721  \n",
      "Exercise                              0.629731       -0.274418      -0.648145  \n",
      "Eduhsdegreeorsomecollege_rate        -0.827699        0.244169       0.751949  \n",
      "Edudidnotcompletehs_rate             -0.385608        0.566822       0.703223  \n",
      "Educollegedegreeandhigher_rate        0.724142       -0.476086      -0.861730  \n",
      "Drug_Hosp                            -0.172409        0.584868       0.483466  \n",
      "Didnt_Get_Care                       -0.202379        0.606903       0.445328  \n",
      "Diabetes                             -0.575163        0.494426       0.744522  \n",
      "Avoidable_Diabetes                   -0.371788        0.583973       0.703420  \n",
      "Avoidable_Asthma                     -0.283569        0.614720       0.641184  \n",
      "Asthma_5to14                         -0.267676        0.601182       0.553947  \n",
      "Assault_Hosps                        -0.345538        0.594627       0.643859  \n",
      "Alc_Hosp                             -0.154235        0.624360       0.506823  \n",
      "Airquality_rate                       0.714750        0.165492      -0.530461  \n",
      "Age65plus_rate                       -0.226872       -0.594693      -0.466499  \n",
      "Age45to64_rate                       -0.506543       -0.505063      -0.163682  \n",
      "Age25to44_rate                        1.000000       -0.115347      -0.689998  \n",
      "Age18to24_rate                       -0.115347        1.000000       0.381983  \n",
      "Age0to17_rate                        -0.689998        0.381983       1.000000  \n",
      "\n",
      "[54 rows x 54 columns]\n",
      "Axes(0.125,0.125;0.62x0.775)\n"
     ]
    },
    {
     "data": {
      "image/png": "[encoded data removed]",
      "text/plain": [
       "<matplotlib.figure.Figure at 0x123346890>"
      ]
     },
     "metadata": {},
     "output_type": "display_data"
    }
   ],
   "source": [
    "cmap = sns.diverging_palette(220, 10, as_cmap=True)\n",
    "# correlations = data[['HPV_vaccination','Unemployment','TrumpSupport','Smoking',\n",
    "#       'Self_rep_health','Rent_burden',\n",
    "#       'Racewhite_Rate','Poverty','Obesity',\n",
    "#       'Ltd_Eng_Prof','Jailincarceration','Insurance','IMR','Housing_Defects',\n",
    "#       'HIV_Diagnosis','Fruit_Veg','Flu_Vaccination',\n",
    "#       'Eduhsdegreeorsomecollege_rate',\n",
    "#       'Edudidnotcompletehs_rate',\n",
    "#       'Drug_Hosp','Airquality_rate','Age65plus_rate']].corr()\n",
    "\n",
    "correlations = all_data.corr()\n",
    "print correlations\n",
    "print sns.heatmap(correlations, cmap=cmap)"
   ]
  },
  {
   "cell_type": "code",
   "execution_count": 463,
   "metadata": {
    "collapsed": true
   },
   "outputs": [],
   "source": [
    "# Normalize the Data\n",
    "\n",
    "def normalize_features(X):\n",
    "    norms = np.linalg.norm(X, axis=0)\n",
    "    normalized_features = X / norms\n",
    "    return(normalized_features)\n",
    "\n",
    "X_norm = normalize_features(X)\n",
    "y_norm = normalize_features(y)"
   ]
  },
  {
   "cell_type": "code",
   "execution_count": 464,
   "metadata": {
    "collapsed": false
   },
   "outputs": [
    {
     "data": {
      "text/html": [
       "<table class=\"simpletable\">\n",
       "<caption>OLS Regression Results</caption>\n",
       "<tr>\n",
       "  <th>Dep. Variable:</th>     <td>HPV_vaccination</td> <th>  R-squared:         </th> <td>   0.999</td>\n",
       "</tr>\n",
       "<tr>\n",
       "  <th>Model:</th>                   <td>OLS</td>       <th>  Adj. R-squared:    </th> <td>   0.998</td>\n",
       "</tr>\n",
       "<tr>\n",
       "  <th>Method:</th>             <td>Least Squares</td>  <th>  F-statistic:       </th> <td>   1758.</td>\n",
       "</tr>\n",
       "<tr>\n",
       "  <th>Date:</th>             <td>Mon, 05 Dec 2016</td> <th>  Prob (F-statistic):</th> <td>2.27e-53</td>\n",
       "</tr>\n",
       "<tr>\n",
       "  <th>Time:</th>                 <td>16:57:14</td>     <th>  Log-Likelihood:    </th> <td>  36.568</td>\n",
       "</tr>\n",
       "<tr>\n",
       "  <th>No. Observations:</th>      <td>    59</td>      <th>  AIC:               </th> <td>  -37.14</td>\n",
       "</tr>\n",
       "<tr>\n",
       "  <th>Df Residuals:</th>          <td>    41</td>      <th>  BIC:               </th> <td>  0.2605</td>\n",
       "</tr>\n",
       "<tr>\n",
       "  <th>Df Model:</th>              <td>    18</td>      <th>                     </th>     <td> </td>   \n",
       "</tr>\n",
       "<tr>\n",
       "  <th>Covariance Type:</th>      <td>nonrobust</td>    <th>                     </th>     <td> </td>   \n",
       "</tr>\n",
       "</table>\n",
       "<table class=\"simpletable\">\n",
       "<tr>\n",
       "              <td></td>                <th>coef</th>     <th>std err</th>      <th>t</th>      <th>P>|t|</th> <th>[95.0% Conf. Int.]</th> \n",
       "</tr>\n",
       "<tr>\n",
       "  <th>const</th>                    <td>         0</td> <td>        0</td> <td>      nan</td> <td>   nan</td> <td>        0         0</td>\n",
       "</tr>\n",
       "<tr>\n",
       "  <th>Unemployment</th>             <td>    0.0439</td> <td>    0.180</td> <td>    0.244</td> <td> 0.809</td> <td>   -0.319     0.407</td>\n",
       "</tr>\n",
       "<tr>\n",
       "  <th>TrumpSupport</th>             <td>   -0.0384</td> <td>    0.043</td> <td>   -0.884</td> <td> 0.382</td> <td>   -0.126     0.049</td>\n",
       "</tr>\n",
       "<tr>\n",
       "  <th>Smoking</th>                  <td>    0.0871</td> <td>    0.172</td> <td>    0.507</td> <td> 0.615</td> <td>   -0.260     0.434</td>\n",
       "</tr>\n",
       "<tr>\n",
       "  <th>Self_rep_health</th>          <td>    0.2409</td> <td>    0.418</td> <td>    0.577</td> <td> 0.567</td> <td>   -0.603     1.085</td>\n",
       "</tr>\n",
       "<tr>\n",
       "  <th>Rent_burden</th>              <td>   -0.8184</td> <td>    0.379</td> <td>   -2.159</td> <td> 0.037</td> <td>   -1.584    -0.053</td>\n",
       "</tr>\n",
       "<tr>\n",
       "  <th>Racewhite_Rate</th>           <td>   -0.0831</td> <td>    0.034</td> <td>   -2.466</td> <td> 0.018</td> <td>   -0.151    -0.015</td>\n",
       "</tr>\n",
       "<tr>\n",
       "  <th>Poverty</th>                  <td>   -0.0926</td> <td>    0.167</td> <td>   -0.553</td> <td> 0.583</td> <td>   -0.430     0.245</td>\n",
       "</tr>\n",
       "<tr>\n",
       "  <th>Obesity</th>                  <td>   -0.1822</td> <td>    0.176</td> <td>   -1.035</td> <td> 0.307</td> <td>   -0.538     0.173</td>\n",
       "</tr>\n",
       "<tr>\n",
       "  <th>Ltd_Eng_Prof</th>             <td>    0.1993</td> <td>    0.105</td> <td>    1.901</td> <td> 0.064</td> <td>   -0.012     0.411</td>\n",
       "</tr>\n",
       "<tr>\n",
       "  <th>Jailincarceration</th>        <td>    0.1326</td> <td>    0.055</td> <td>    2.397</td> <td> 0.021</td> <td>    0.021     0.244</td>\n",
       "</tr>\n",
       "<tr>\n",
       "  <th>Insurance</th>                <td>    0.2118</td> <td>    0.158</td> <td>    1.338</td> <td> 0.188</td> <td>   -0.108     0.532</td>\n",
       "</tr>\n",
       "<tr>\n",
       "  <th>IMR</th>                      <td>   -0.0880</td> <td>    0.074</td> <td>   -1.185</td> <td> 0.243</td> <td>   -0.238     0.062</td>\n",
       "</tr>\n",
       "<tr>\n",
       "  <th>Housing_Defects</th>          <td>    0.3068</td> <td>    0.157</td> <td>    1.954</td> <td> 0.058</td> <td>   -0.010     0.624</td>\n",
       "</tr>\n",
       "<tr>\n",
       "  <th>Fruit_Veg</th>                <td>    0.3419</td> <td>    0.425</td> <td>    0.804</td> <td> 0.426</td> <td>   -0.517     1.201</td>\n",
       "</tr>\n",
       "<tr>\n",
       "  <th>Flu_Vaccination</th>          <td>    0.8723</td> <td>    0.237</td> <td>    3.678</td> <td> 0.001</td> <td>    0.393     1.351</td>\n",
       "</tr>\n",
       "<tr>\n",
       "  <th>Edudidnotcompletehs_rate</th> <td>    0.1669</td> <td>    0.118</td> <td>    1.412</td> <td> 0.166</td> <td>   -0.072     0.406</td>\n",
       "</tr>\n",
       "<tr>\n",
       "  <th>Drug_Hosp</th>                <td>   -0.0406</td> <td>    0.087</td> <td>   -0.464</td> <td> 0.645</td> <td>   -0.217     0.136</td>\n",
       "</tr>\n",
       "<tr>\n",
       "  <th>Age0to17_rate</th>            <td>   -0.4648</td> <td>    0.162</td> <td>   -2.868</td> <td> 0.006</td> <td>   -0.792    -0.138</td>\n",
       "</tr>\n",
       "</table>\n",
       "<table class=\"simpletable\">\n",
       "<tr>\n",
       "  <th>Omnibus:</th>       <td> 3.362</td> <th>  Durbin-Watson:     </th> <td>   2.171</td>\n",
       "</tr>\n",
       "<tr>\n",
       "  <th>Prob(Omnibus):</th> <td> 0.186</td> <th>  Jarque-Bera (JB):  </th> <td>   2.433</td>\n",
       "</tr>\n",
       "<tr>\n",
       "  <th>Skew:</th>          <td>-0.377</td> <th>  Prob(JB):          </th> <td>   0.296</td>\n",
       "</tr>\n",
       "<tr>\n",
       "  <th>Kurtosis:</th>      <td> 3.649</td> <th>  Cond. No.          </th> <td>     inf</td>\n",
       "</tr>\n",
       "</table>"
      ],
      "text/plain": [
       "<class 'statsmodels.iolib.summary.Summary'>\n",
       "\"\"\"\n",
       "                            OLS Regression Results                            \n",
       "==============================================================================\n",
       "Dep. Variable:        HPV_vaccination   R-squared:                       0.999\n",
       "Model:                            OLS   Adj. R-squared:                  0.998\n",
       "Method:                 Least Squares   F-statistic:                     1758.\n",
       "Date:                Mon, 05 Dec 2016   Prob (F-statistic):           2.27e-53\n",
       "Time:                        16:57:14   Log-Likelihood:                 36.568\n",
       "No. Observations:                  59   AIC:                            -37.14\n",
       "Df Residuals:                      41   BIC:                            0.2605\n",
       "Df Model:                          18                                         \n",
       "Covariance Type:            nonrobust                                         \n",
       "============================================================================================\n",
       "                               coef    std err          t      P>|t|      [95.0% Conf. Int.]\n",
       "--------------------------------------------------------------------------------------------\n",
       "const                             0          0        nan        nan             0         0\n",
       "Unemployment                 0.0439      0.180      0.244      0.809        -0.319     0.407\n",
       "TrumpSupport                -0.0384      0.043     -0.884      0.382        -0.126     0.049\n",
       "Smoking                      0.0871      0.172      0.507      0.615        -0.260     0.434\n",
       "Self_rep_health              0.2409      0.418      0.577      0.567        -0.603     1.085\n",
       "Rent_burden                 -0.8184      0.379     -2.159      0.037        -1.584    -0.053\n",
       "Racewhite_Rate              -0.0831      0.034     -2.466      0.018        -0.151    -0.015\n",
       "Poverty                     -0.0926      0.167     -0.553      0.583        -0.430     0.245\n",
       "Obesity                     -0.1822      0.176     -1.035      0.307        -0.538     0.173\n",
       "Ltd_Eng_Prof                 0.1993      0.105      1.901      0.064        -0.012     0.411\n",
       "Jailincarceration            0.1326      0.055      2.397      0.021         0.021     0.244\n",
       "Insurance                    0.2118      0.158      1.338      0.188        -0.108     0.532\n",
       "IMR                         -0.0880      0.074     -1.185      0.243        -0.238     0.062\n",
       "Housing_Defects              0.3068      0.157      1.954      0.058        -0.010     0.624\n",
       "Fruit_Veg                    0.3419      0.425      0.804      0.426        -0.517     1.201\n",
       "Flu_Vaccination              0.8723      0.237      3.678      0.001         0.393     1.351\n",
       "Edudidnotcompletehs_rate     0.1669      0.118      1.412      0.166        -0.072     0.406\n",
       "Drug_Hosp                   -0.0406      0.087     -0.464      0.645        -0.217     0.136\n",
       "Age0to17_rate               -0.4648      0.162     -2.868      0.006        -0.792    -0.138\n",
       "==============================================================================\n",
       "Omnibus:                        3.362   Durbin-Watson:                   2.171\n",
       "Prob(Omnibus):                  0.186   Jarque-Bera (JB):                2.433\n",
       "Skew:                          -0.377   Prob(JB):                        0.296\n",
       "Kurtosis:                       3.649   Cond. No.                          inf\n",
       "==============================================================================\n",
       "\n",
       "Warnings:\n",
       "[1] Standard Errors assume that the covariance matrix of the errors is correctly specified.\n",
       "[2] The smallest eigenvalue is      0. This might indicate that there are\n",
       "strong multicollinearity problems or that the design matrix is singular.\n",
       "\"\"\""
      ]
     },
     "execution_count": 464,
     "metadata": {},
     "output_type": "execute_result"
    }
   ],
   "source": [
    "import statsmodels.formula.api as sm\n",
    "\n",
    "X_log = np.log(X)\n",
    "y_log = np.log(y)\n",
    "est = sm.OLS(y_log,X_log).fit()\n",
    "est.summary()\n"
   ]
  },
  {
   "cell_type": "code",
   "execution_count": 465,
   "metadata": {
    "collapsed": false
   },
   "outputs": [
    {
     "data": {
      "image/png": "[encoded data removed]",
      "text/plain": [
       "<matplotlib.figure.Figure at 0x127480b50>"
      ]
     },
     "metadata": {},
     "output_type": "display_data"
    },
    {
     "data": {
      "text/plain": [
       "<matplotlib.axes._subplots.AxesSubplot at 0x12747a410>"
      ]
     },
     "execution_count": 465,
     "metadata": {},
     "output_type": "execute_result"
    },
    {
     "data": {
      "image/png": "[encoded data removed]",
      "text/plain": [
       "<matplotlib.figure.Figure at 0x127de0d90>"
      ]
     },
     "metadata": {},
     "output_type": "display_data"
    }
   ],
   "source": [
    "# the residuals appear normally distributed\n",
    "\n",
    "plt.figure(figsize=(10,5))\n",
    "plt.scatter(est.predict(X_log), y_log)\n",
    "plt.title(\"Y vs Predicted Y\")\n",
    "plt.ylabel('True Y')\n",
    "plt.xlabel('Predicted Y')\n",
    "plt.show()\n",
    "\n",
    "residuals = y_log - est.predict(X_log)\n",
    "residuals.plot(kind=\"density\",\n",
    "              figsize=(5,5))"
   ]
  },
  {
   "cell_type": "code",
   "execution_count": 466,
   "metadata": {
    "collapsed": false
   },
   "outputs": [
    {
     "data": {
      "text/html": [
       "<table class=\"simpletable\">\n",
       "<caption>OLS Regression Results</caption>\n",
       "<tr>\n",
       "  <th>Dep. Variable:</th>     <td>HPV_vaccination</td> <th>  R-squared:         </th> <td>   0.865</td>\n",
       "</tr>\n",
       "<tr>\n",
       "  <th>Model:</th>                   <td>OLS</td>       <th>  Adj. R-squared:    </th> <td>   0.862</td>\n",
       "</tr>\n",
       "<tr>\n",
       "  <th>Method:</th>             <td>Least Squares</td>  <th>  F-statistic:       </th> <td>   370.1</td>\n",
       "</tr>\n",
       "<tr>\n",
       "  <th>Date:</th>             <td>Mon, 05 Dec 2016</td> <th>  Prob (F-statistic):</th> <td>7.49e-27</td>\n",
       "</tr>\n",
       "<tr>\n",
       "  <th>Time:</th>                 <td>16:57:16</td>     <th>  Log-Likelihood:    </th> <td> -243.33</td>\n",
       "</tr>\n",
       "<tr>\n",
       "  <th>No. Observations:</th>      <td>    59</td>      <th>  AIC:               </th> <td>   488.7</td>\n",
       "</tr>\n",
       "<tr>\n",
       "  <th>Df Residuals:</th>          <td>    58</td>      <th>  BIC:               </th> <td>   490.7</td>\n",
       "</tr>\n",
       "<tr>\n",
       "  <th>Df Model:</th>              <td>     1</td>      <th>                     </th>     <td> </td>   \n",
       "</tr>\n",
       "<tr>\n",
       "  <th>Covariance Type:</th>      <td>nonrobust</td>    <th>                     </th>     <td> </td>   \n",
       "</tr>\n",
       "</table>\n",
       "<table class=\"simpletable\">\n",
       "<tr>\n",
       "        <td></td>          <th>coef</th>     <th>std err</th>      <th>t</th>      <th>P>|t|</th> <th>[95.0% Conf. Int.]</th> \n",
       "</tr>\n",
       "<tr>\n",
       "  <th>TrumpSupport</th> <td>  -15.4656</td> <td>    0.804</td> <td>  -19.237</td> <td> 0.000</td> <td>  -17.075   -13.856</td>\n",
       "</tr>\n",
       "</table>\n",
       "<table class=\"simpletable\">\n",
       "<tr>\n",
       "  <th>Omnibus:</th>       <td> 1.346</td> <th>  Durbin-Watson:     </th> <td>   1.327</td>\n",
       "</tr>\n",
       "<tr>\n",
       "  <th>Prob(Omnibus):</th> <td> 0.510</td> <th>  Jarque-Bera (JB):  </th> <td>   1.234</td>\n",
       "</tr>\n",
       "<tr>\n",
       "  <th>Skew:</th>          <td>-0.343</td> <th>  Prob(JB):          </th> <td>   0.540</td>\n",
       "</tr>\n",
       "<tr>\n",
       "  <th>Kurtosis:</th>      <td> 2.820</td> <th>  Cond. No.          </th> <td>    1.00</td>\n",
       "</tr>\n",
       "</table>"
      ],
      "text/plain": [
       "<class 'statsmodels.iolib.summary.Summary'>\n",
       "\"\"\"\n",
       "                            OLS Regression Results                            \n",
       "==============================================================================\n",
       "Dep. Variable:        HPV_vaccination   R-squared:                       0.865\n",
       "Model:                            OLS   Adj. R-squared:                  0.862\n",
       "Method:                 Least Squares   F-statistic:                     370.1\n",
       "Date:                Mon, 05 Dec 2016   Prob (F-statistic):           7.49e-27\n",
       "Time:                        16:57:16   Log-Likelihood:                -243.33\n",
       "No. Observations:                  59   AIC:                             488.7\n",
       "Df Residuals:                      58   BIC:                             490.7\n",
       "Df Model:                           1                                         \n",
       "Covariance Type:            nonrobust                                         \n",
       "================================================================================\n",
       "                   coef    std err          t      P>|t|      [95.0% Conf. Int.]\n",
       "--------------------------------------------------------------------------------\n",
       "TrumpSupport   -15.4656      0.804    -19.237      0.000       -17.075   -13.856\n",
       "==============================================================================\n",
       "Omnibus:                        1.346   Durbin-Watson:                   1.327\n",
       "Prob(Omnibus):                  0.510   Jarque-Bera (JB):                1.234\n",
       "Skew:                          -0.343   Prob(JB):                        0.540\n",
       "Kurtosis:                       2.820   Cond. No.                         1.00\n",
       "==============================================================================\n",
       "\n",
       "Warnings:\n",
       "[1] Standard Errors assume that the covariance matrix of the errors is correctly specified.\n",
       "\"\"\""
      ]
     },
     "execution_count": 466,
     "metadata": {},
     "output_type": "execute_result"
    }
   ],
   "source": [
    "# Test single variables\n",
    "\n",
    "Trump_log = np.log(X['TrumpSupport'])\n",
    "\n",
    "est = sm.OLS(y,Trump_log).fit()\n",
    "est.summary()"
   ]
  },
  {
   "cell_type": "code",
   "execution_count": null,
   "metadata": {
    "collapsed": false
   },
   "outputs": [],
   "source": []
  },
  {
   "cell_type": "code",
   "execution_count": 468,
   "metadata": {
    "collapsed": false
   },
   "outputs": [
    {
     "data": {
      "text/plain": [
       "(59, 53)"
      ]
     },
     "execution_count": 468,
     "metadata": {},
     "output_type": "execute_result"
    }
   ],
   "source": [
    "features.shape"
   ]
  },
  {
   "cell_type": "code",
   "execution_count": 469,
   "metadata": {
    "collapsed": false
   },
   "outputs": [
    {
     "data": {
      "text/plain": [
       "(59, 23)"
      ]
     },
     "execution_count": 469,
     "metadata": {},
     "output_type": "execute_result"
    }
   ],
   "source": [
    "from sklearn.svm import LinearSVC\n",
    "from sklearn.feature_selection import SelectFromModel\n",
    "lsvc = LinearSVC(C=0.01, penalty=\"l1\", dual=False).fit(features, y)\n",
    "model = SelectFromModel(lsvc, prefit=True)\n",
    "features_new = model.transform(features)\n",
    "features_new.shape"
   ]
  },
  {
   "cell_type": "code",
   "execution_count": 478,
   "metadata": {
    "collapsed": false
   },
   "outputs": [
    {
     "data": {
      "text/plain": [
       "LinearSVC(C=0.01, class_weight=None, dual=False, fit_intercept=True,\n",
       "     intercept_scaling=1, loss='squared_hinge', max_iter=1000,\n",
       "     multi_class='ovr', penalty='l1', random_state=None, tol=0.0001,\n",
       "     verbose=0)"
      ]
     },
     "execution_count": 478,
     "metadata": {},
     "output_type": "execute_result"
    }
   ],
   "source": [
    "lsvc"
   ]
  },
  {
   "cell_type": "code",
   "execution_count": 405,
   "metadata": {
    "collapsed": false
   },
   "outputs": [
    {
     "name": "stdout",
     "output_type": "stream",
     "text": [
      "Linear model:"
     ]
    },
    {
     "ename": "AttributeError",
     "evalue": "'LinearRegression' object has no attribute 'coef_'",
     "output_type": "error",
     "traceback": [
      "\u001b[0;31m---------------------------------------------------------------------------\u001b[0m",
      "\u001b[0;31mAttributeError\u001b[0m                            Traceback (most recent call last)",
      "\u001b[0;32m<ipython-input-405-fb0a9d0721af>\u001b[0m in \u001b[0;36m<module>\u001b[0;34m()\u001b[0m\n\u001b[1;32m     11\u001b[0m                                    for coef, name in lst)\n\u001b[1;32m     12\u001b[0m \u001b[0;34m\u001b[0m\u001b[0m\n\u001b[0;32m---> 13\u001b[0;31m \u001b[0;32mprint\u001b[0m \u001b[0;34m\"Linear model:\"\u001b[0m\u001b[0;34m,\u001b[0m \u001b[0mpretty_print_linear\u001b[0m\u001b[0;34m(\u001b[0m\u001b[0mlr\u001b[0m\u001b[0;34m.\u001b[0m\u001b[0mcoef_\u001b[0m\u001b[0;34m)\u001b[0m\u001b[0;34m\u001b[0m\u001b[0m\n\u001b[0m",
      "\u001b[0;31mAttributeError\u001b[0m: 'LinearRegression' object has no attribute 'coef_'"
     ]
    }
   ],
   "source": [
    "from sklearn.linear_model import LinearRegression\n",
    "lr = LinearRegression()\n",
    "\n",
    "def pretty_print_linear(coefs, names = None, sort = False):\n",
    "    if names == None:\n",
    "        names = [\"X%s\" % x for x in range(len(coefs))]\n",
    "    lst = zip(coefs, names)\n",
    "    if sort:\n",
    "        lst = sorted(lst,  key = lambda x:-np.abs(x[0]))\n",
    "    return \" + \".join(\"%s * %s\" % (round(coef, 3), name)\n",
    "                                   for coef, name in lst)\n",
    " \n",
    "print \"Linear model:\", pretty_print_linear(lr.coef_)"
   ]
  },
  {
   "cell_type": "code",
   "execution_count": 598,
   "metadata": {
    "collapsed": false
   },
   "outputs": [
    {
     "name": "stdout",
     "output_type": "stream",
     "text": [
      "Features sorted by their rank:\n",
      "[(1.0, 'Age25to44_rate'), (1.0, 'Age45to64_rate'), (1.0, 'Airquality_rate'), (1.0, 'Educollegedegreeandhigher_rate'), (1.0, 'Eduhsdegreeorsomecollege_rate'), (1.0, 'Flu_Vaccination'), (1.0, 'Late_No_Prenatal'), (1.0, 'Poverty'), (1.0, 'Preterm_Births'), (1.0, 'TrumpSupport'), (2.0, 'Sugary_Drink'), (3.0, 'Racewhite_Rate'), (4.0, 'HIV_Testing_Ever'), (5.0, 'Raceasian_rate'), (6.0, 'Smoking'), (7.0, 'Raceother_rate'), (8.0, 'Exercise'), (9.0, 'Age0to17_rate'), (10.0, 'Rent_burden'), (11.0, 'Foreign_born'), (12.0, 'Insurance'), (13.0, 'Age65plus_rate'), (14.0, 'Life_expectancy_rate'), (15.0, 'Nonwhite_rate'), (16.0, 'Edudidnotcompletehs_rate'), (17.0, 'Teen_Births'), (18.0, 'Raceblack_rate'), (19.0, 'Unemployment'), (20.0, 'Schoolabsent_rate'), (21.0, 'Housing_Defects'), (22.0, 'Age18to24_rate'), (23.0, 'Diabetes'), (24.0, 'Obesity'), (25.0, 'Assault_Hosps'), (26.0, 'Jailincarceration'), (27.0, 'Fruit_Veg'), (28.0, 'Racehispanic_rate'), (29.0, 'Self_rep_health'), (30.0, 'Stroke_Hosp'), (31.0, 'Ltd_Eng_Prof'), (32.0, 'Didnt_Get_Care'), (33.0, 'Asthma_5to14'), (34.0, 'Tobaccoretail_rate'), (35.0, 'IMR'), (36.0, 'Avoidable_Diabetes'), (37.0, 'Premature_Mort'), (38.0, 'HIV_Diagnosis'), (39.0, 'Supermarketarea_rate'), (40.0, 'Avoidable_Asthma'), (41.0, 'Alc_Hosp'), (42.0, 'Drug_Hosp'), (43.0, 'Psych_Hosp'), (44.0, 'OverallPopulation_rate')]\n"
     ]
    }
   ],
   "source": [
    "from sklearn.feature_selection import RFE\n",
    "from sklearn.linear_model import LinearRegression\n",
    "  \n",
    "names = features.columns\n",
    "\n",
    "#use linear regression as the model\n",
    "lr = LinearRegression()\n",
    "#rank all features, i.e continue the elimination until the last one\n",
    "rfe = RFE(lr, n_features_to_select=10)\n",
    "rfe.fit(features,y)\n",
    "\n",
    "print \"Features sorted by their rank:\"\n",
    "print sorted(zip(map(lambda x: round(x, 4), rfe.ranking_), names))"
   ]
  },
  {
   "cell_type": "raw",
   "metadata": {},
   "source": [
    "from sklearn.linear_model import (LinearRegression, Ridge, \n",
    "                                  Lasso, RandomizedLasso)\n",
    "from sklearn.feature_selection import RFE, f_regression\n",
    "from sklearn.preprocessing import MinMaxScaler\n",
    "from sklearn.ensemble import RandomForestRegressor\n",
    "import numpy as np\n",
    " \n",
    "ranks = {}\n",
    " \n",
    "def rank_to_dict(ranks, names, order=1):\n",
    "    minmax = MinMaxScaler()\n",
    "    ranks = minmax.fit_transform(order*np.array([ranks]).T).T[0]\n",
    "    ranks = map(lambda x: round(x, 2), ranks)\n",
    "    return dict(zip(names, ranks ))\n",
    " \n",
    "lr = LinearRegression(normalize=True)\n",
    "lr.fit(features, y)\n",
    "ranks[\"Linear reg\"] = rank_to_dict(np.abs(lr.coef_), names)\n",
    "print ranks[\"Linear reg\"]\n",
    "\n",
    "ridge = Ridge(alpha=7)\n",
    "ridge.fit(features, y)\n",
    "ranks[\"Ridge\"] = rank_to_dict(np.abs(ridge.coef_), names)\n",
    "print \"----------------------\"\n",
    "print \"Ridge\"\n",
    "print ranks[\"Ridge\"]\n",
    " \n",
    "lasso = Lasso(alpha=.05)\n",
    "lasso.fit(features, y)\n",
    "ranks[\"Lasso\"] = rank_to_dict(np.abs(lasso.coef_), names)\n",
    "print ranks[\"Lasso\"]\n",
    " \n",
    "rlasso = RandomizedLasso(alpha=0.04)\n",
    "rlasso.fit(features, y)\n",
    "ranks[\"Stability\"] = rank_to_dict(np.abs(rlasso.scores_), names)\n",
    "print ranks[\"Stability\"]\n",
    "\n",
    "rfe = RFE(lr, n_features_to_select=5)\n",
    "rfe.fit(features,y)\n",
    "ranks[\"RFE\"] = rank_to_dict(map(float, rfe.ranking_), names, order=-1)\n",
    "print ranks[\"RFE\"]\n",
    "\n",
    "rf = RandomForestRegressor()\n",
    "rf.fit(features,y)\n",
    "ranks[\"RF\"] = rank_to_dict(rf.feature_importances_, names)\n",
    "print ranks[\"RF\"]\n",
    "\n",
    "f, pval  = f_regression(features, y, center=True)\n",
    "ranks[\"Corr.\"] = rank_to_dict(f, names)\n",
    "print ranks[\"Corr.\"] "
   ]
  },
  {
   "cell_type": "code",
   "execution_count": 501,
   "metadata": {
    "collapsed": false
   },
   "outputs": [
    {
     "name": "stdout",
     "output_type": "stream",
     "text": [
      "~~~ Lasso ~~~\n",
      "Lasso MSE:  10.4190738463\n",
      "Lasso R2: 0.930070768227\n",
      "[ -0.00000000e+00   0.00000000e+00   5.96298727e-02   1.79133997e-01\n",
      "   1.20164112e-02  -1.27345659e-01  -2.55815396e-02   0.00000000e+00\n",
      "  -0.00000000e+00  -0.00000000e+00  -3.74231538e-01  -1.73472194e-01\n",
      "   0.00000000e+00   1.37406591e-01  -0.00000000e+00   7.67097152e-02\n",
      "  -9.84459572e-03   5.61818193e-02  -1.43869793e-02  -0.00000000e+00\n",
      "  -3.37012739e-06  -0.00000000e+00   1.96185423e-02   1.41600568e-02\n",
      "   0.00000000e+00   0.00000000e+00   5.94999051e-02  -0.00000000e+00\n",
      "   0.00000000e+00   4.91071626e-02   0.00000000e+00   2.47871225e-02\n",
      "   0.00000000e+00   1.98012676e-01   1.19365883e-01   7.62288992e-02\n",
      "  -3.17229651e-01   2.04951290e-01   0.00000000e+00   4.03053213e-03\n",
      "  -0.00000000e+00  -0.00000000e+00  -6.93843352e-03  -7.08268286e-03\n",
      "  -6.27350213e-03  -9.12390190e-02   9.43925459e-03   0.00000000e+00\n",
      "   0.00000000e+00   0.00000000e+00   0.00000000e+00  -0.00000000e+00\n",
      "  -1.40648346e-01]\n",
      "Features sorted by their Coefficient:\n",
      "[(-0.374, 'Rent_burden'), (-0.317, 'Eduhsdegreeorsomecollege_rate'), (-0.173, 'Racewhite_Rate'), (-0.141, 'Age0to17_rate'), (-0.127, 'Sugary_Drink'), (-0.091, 'Assault_Hosps'), (-0.026, 'Stroke_Hosp'), (-0.014, 'Premature_Mort'), (-0.01, 'Psych_Hosp'), (-0.007, 'Avoidable_Asthma'), (-0.007, 'Avoidable_Diabetes'), (-0.006, 'Asthma_5to14'), (-0.0, 'Age18to24_rate'), (0.0, 'Age25to44_rate'), (0.0, 'Age45to64_rate'), (0.0, 'Age65plus_rate'), (0.0, 'Airquality_rate'), (-0.0, 'Diabetes'), (-0.0, 'Didnt_Get_Care'), (0.0, 'Educollegedegreeandhigher_rate'), (0.0, 'Fruit_Veg'), (0.0, 'HIV_Testing_Ever'), (0.0, 'IMR'), (-0.0, 'Insurance'), (0.0, 'Late_No_Prenatal'), (0.0, 'Life_expectancy_rate'), (-0.0, 'Obesity'), (-0.0, 'OverallPopulation_rate'), (-0.0, 'Poverty'), (-0.0, 'Raceblack_rate'), (0.0, 'Raceother_rate'), (-0.0, 'Schoolabsent_rate'), (-0.0, 'Self_rep_health'), (0.0, 'Smoking'), (0.0, 'TrumpSupport'), (-0.0, 'Unemployment'), (0.004, 'Drug_Hosp'), (0.009, 'Alc_Hosp'), (0.012, 'Supermarketarea_rate'), (0.014, 'Ltd_Eng_Prof'), (0.02, 'Nonwhite_rate'), (0.025, 'HIV_Diagnosis'), (0.049, 'Housing_Defects'), (0.056, 'Preterm_Births'), (0.059, 'Jailincarceration'), (0.06, 'Tobaccoretail_rate'), (0.076, 'Exercise'), (0.077, 'Raceasian_rate'), (0.119, 'Flu_Vaccination'), (0.137, 'Racehispanic_rate'), (0.179, 'Teen_Births'), (0.198, 'Foreign_born'), (0.205, 'Edudidnotcompletehs_rate')]\n"
     ]
    }
   ],
   "source": [
    "lasso = linear_model.Lasso().fit(features, y)\n",
    "print \"~~~ Lasso ~~~\"\n",
    "print 'Lasso MSE: ', metrics.mean_squared_error(y, lasso.predict(features))\n",
    "print 'Lasso R2:', lasso.score(features, y)\n",
    "print lasso.coef_ \n",
    "\n",
    "names = features.columns\n",
    "\n",
    "print \"Features sorted by their Coefficient:\"\n",
    "print sorted(zip(map(lambda x: round(x, 3), lasso.coef_), names))"
   ]
  },
  {
   "cell_type": "code",
   "execution_count": 555,
   "metadata": {
    "collapsed": false
   },
   "outputs": [
    {
     "name": "stdout",
     "output_type": "stream",
     "text": [
      "<bound method GridSearchCV.fit of GridSearchCV(cv=None, error_score='raise',\n",
      "       estimator=Lasso(alpha=1.0, copy_X=True, fit_intercept=True, max_iter=1000,\n",
      "   normalize=False, positive=False, precompute=False, random_state=None,\n",
      "   selection='cyclic', tol=0.0001, warm_start=False),\n",
      "       fit_params={}, iid=True, n_jobs=1,\n",
      "       param_grid={'alpha': array([  1.00000e-10,   1.00000e-09,   1.00000e-08,   1.00000e-07,\n",
      "         1.00000e-06,   1.00000e-05,   1.00000e-04,   1.00000e-03,\n",
      "         1.00000e-02,   1.00000e-01,   1.00000e+00,   1.00000e+01,\n",
      "         1.00000e+02,   1.00000e+03,   1.00000e+04,   1.00000e+05,\n",
      "         1.00000e+06,   1.00000e+07,   1.00000e+08,   1.00000e+09,\n",
      "         1.00000e+10])},\n",
      "       pre_dispatch='2*n_jobs', refit=True, scoring='r2', verbose=0)>\n",
      "0.261381742898\n",
      "Lasso(alpha=10.0, copy_X=True, fit_intercept=True, max_iter=1000,\n",
      "   normalize=False, positive=False, precompute=False, random_state=None,\n",
      "   selection='cyclic', tol=0.0001, warm_start=False)\n"
     ]
    }
   ],
   "source": [
    "from sklearn import grid_search\n",
    "\n",
    "alphas = np.logspace(-10, 10, 21)\n",
    "gs = grid_search.GridSearchCV(\n",
    "    estimator=linear_model.Lasso(),\n",
    "    param_grid={'alpha': alphas},\n",
    "    scoring='r2')\n",
    "\n",
    "gs.fit(features, y)\n",
    "\n",
    "print gs.fit\n",
    "print gs.best_score_\n",
    "print gs.best_estimator_"
   ]
  },
  {
   "cell_type": "code",
   "execution_count": 566,
   "metadata": {
    "collapsed": false
   },
   "outputs": [
    {
     "name": "stdout",
     "output_type": "stream",
     "text": [
      "<bound method GridSearchCV.fit of GridSearchCV(cv=None, error_score='raise',\n",
      "       estimator=Lasso(alpha=1.0, copy_X=True, fit_intercept=True, max_iter=1000,\n",
      "   normalize=False, positive=False, precompute=False, random_state=None,\n",
      "   selection='cyclic', tol=0.0001, warm_start=False),\n",
      "       fit_params={}, iid=True, n_jobs=1,\n",
      "       param_grid={'alpha': array([  1.00000e-20,   1.00000e-18,   1.00000e-16,   1.00000e-14,\n",
      "         1.00000e-12,   1.00000e-10,   1.00000e-08,   1.00000e-06,\n",
      "         1.00000e-04,   1.00000e-02,   1.00000e+00,   1.00000e+02,\n",
      "         1.00000e+04,   1.00000e+06,   1.00000e+08,   1.00000e+10,\n",
      "         1.00000e+12,   1.00000e+14,   1.00000e+16,   1.00000e+18,\n",
      "         1.00000e+20])},\n",
      "       pre_dispatch='2*n_jobs', refit=True, scoring='r2', verbose=0)>\n",
      "0.250524584021\n",
      "Lasso(alpha=1.0, copy_X=True, fit_intercept=True, max_iter=1000,\n",
      "   normalize=False, positive=False, precompute=False, random_state=None,\n",
      "   selection='cyclic', tol=0.0001, warm_start=False)\n",
      "[mean: -0.12317, std: 0.64667, params: {'alpha': 9.9999999999999995e-21}, mean: -0.12317, std: 0.64667, params: {'alpha': 1.0000000000000001e-18}, mean: -0.12317, std: 0.64667, params: {'alpha': 9.9999999999999998e-17}, mean: -0.12317, std: 0.64667, params: {'alpha': 1e-14}, mean: -0.12317, std: 0.64667, params: {'alpha': 9.9999999999999998e-13}, mean: -0.12317, std: 0.64667, params: {'alpha': 1e-10}, mean: -0.12317, std: 0.64667, params: {'alpha': 1e-08}, mean: -0.12317, std: 0.64667, params: {'alpha': 9.9999999999999995e-07}, mean: -0.12291, std: 0.64641, params: {'alpha': 0.0001}, mean: -0.09804, std: 0.62060, params: {'alpha': 0.01}, mean: 0.25052, std: 0.36784, params: {'alpha': 1.0}, mean: -1.28997, std: 1.12969, params: {'alpha': 100.0}, mean: -1.40984, std: 1.12918, params: {'alpha': 10000.0}, mean: -1.40984, std: 1.12918, params: {'alpha': 1000000.0}, mean: -1.40984, std: 1.12918, params: {'alpha': 100000000.0}, mean: -1.40984, std: 1.12918, params: {'alpha': 10000000000.0}, mean: -1.40984, std: 1.12918, params: {'alpha': 1000000000000.0}, mean: -1.40984, std: 1.12918, params: {'alpha': 100000000000000.0}, mean: -1.40984, std: 1.12918, params: {'alpha': 10000000000000000.0}, mean: -1.40984, std: 1.12918, params: {'alpha': 1e+18}, mean: -1.40984, std: 1.12918, params: {'alpha': 1e+20}]\n"
     ]
    }
   ],
   "source": [
    "from sklearn import grid_search\n",
    "\n",
    "alphas = np.logspace(-20, 20, 21)\n",
    "gs = grid_search.GridSearchCV(\n",
    "    estimator=linear_model.Lasso(),\n",
    "    param_grid={'alpha': alphas},\n",
    "    scoring='r2')\n",
    "\n",
    "gs.fit(feature_set, y)\n",
    "\n",
    "print gs.fit\n",
    "print gs.best_score_\n",
    "print gs.best_estimator_\n",
    "print gs.grid_scores_ "
   ]
  },
  {
   "cell_type": "code",
   "execution_count": 586,
   "metadata": {
    "collapsed": false
   },
   "outputs": [
    {
     "name": "stdout",
     "output_type": "stream",
     "text": [
      "P Values: [  6.12923983e-03   3.11120447e-05   3.12010428e-02   6.22388955e-05\n",
      "   4.47799878e-01   6.37527722e-02   3.93309699e-01   5.96546395e-01\n",
      "   2.32636928e-03   5.62353914e-02   1.34942447e-01   1.11848214e-04\n",
      "   3.58218679e-01   3.04157289e-09   6.12368645e-01   7.98603104e-01\n",
      "   1.40515281e-01   9.98076715e-01   5.72986782e-02   8.72895114e-06\n",
      "   3.03271248e-02   7.08068752e-01   1.11848214e-04   2.33287998e-03\n",
      "   1.66300524e-01   2.01116279e-02   6.40384137e-05   4.95504796e-04\n",
      "   1.85892171e-01   5.71446064e-06   1.22688618e-05   7.02898202e-05\n",
      "   3.69177901e-02   3.29599359e-01   5.89521734e-06   6.23698602e-01\n",
      "   2.86716090e-02   6.18405791e-06   2.73530515e-01   1.24990230e-04\n",
      "   8.18963611e-03   1.58421843e-01   5.53522898e-03   1.38739149e-04\n",
      "   2.06347579e-04   1.75894532e-03   2.87082658e-05   1.58407327e-04\n",
      "   2.37959333e-04   4.22376504e-04   2.33917232e-02   1.51249438e-03\n",
      "   9.69173739e-01]\n",
      "Coefficients: [ -0.00000000e+00  -0.00000000e+00   0.00000000e+00   0.00000000e+00\n",
      "   1.01288145e-02  -0.00000000e+00  -3.32621105e-02  -0.00000000e+00\n",
      "  -0.00000000e+00  -0.00000000e+00  -0.00000000e+00  -9.02702251e-02\n",
      "   0.00000000e+00   8.88631930e-02  -0.00000000e+00   0.00000000e+00\n",
      "  -1.07721826e-02   0.00000000e+00  -5.30500104e-02   0.00000000e+00\n",
      "  -1.55249787e-05  -0.00000000e+00   1.31963851e-01   9.82417279e-02\n",
      "   0.00000000e+00   0.00000000e+00   6.19160549e-02   0.00000000e+00\n",
      "   0.00000000e+00   9.47537165e-03   0.00000000e+00   1.02819573e-02\n",
      "   0.00000000e+00   0.00000000e+00   0.00000000e+00   0.00000000e+00\n",
      "  -3.38814422e-01   0.00000000e+00   0.00000000e+00  -2.03751989e-03\n",
      "  -0.00000000e+00  -0.00000000e+00  -1.58465156e-02  -2.17143486e-03\n",
      "  -0.00000000e+00  -0.00000000e+00   1.78806635e-02   0.00000000e+00\n",
      "  -0.00000000e+00  -0.00000000e+00   0.00000000e+00  -0.00000000e+00\n",
      "  -0.00000000e+00]\n",
      "y-intercept: 50.7497385763\n",
      "R-Squared: 0.869925886045\n"
     ]
    },
    {
     "data": {
      "text/plain": [
       "Lasso(alpha=10, copy_X=True, fit_intercept=True, max_iter=1000,\n",
       "   normalize=False, positive=False, precompute=False, random_state=None,\n",
       "   selection='cyclic', tol=0.0001, warm_start=False)"
      ]
     },
     "execution_count": 586,
     "metadata": {},
     "output_type": "execute_result"
    },
    {
     "data": {
      "image/png": "[encoded data removed]",
      "text/plain": [
       "<matplotlib.figure.Figure at 0x1340af490>"
      ]
     },
     "metadata": {},
     "output_type": "display_data"
    }
   ],
   "source": [
    "from sklearn import feature_selection, linear_model\n",
    "\n",
    "def get_linear_model_metrics(features, y, algo):\n",
    "    # get the pvalue of X given y. Ignore f-stat for now.\n",
    "    pvals = feature_selection.f_regression(features, y)[1]\n",
    "    # start with an empty linear regression object\n",
    "    # .fit() runs the linear regression function on X and y\n",
    "    algo.fit(features,y)\n",
    "    residuals = (y-algo.predict(features)).values\n",
    "\n",
    "    # print the necessary values\n",
    "    print 'P Values:', pvals\n",
    "    print 'Coefficients:', algo.coef_\n",
    "    print 'y-intercept:', algo.intercept_\n",
    "    print 'R-Squared:', algo.score(features,y)\n",
    "    plt.figure()\n",
    "    plt.hist(residuals, bins=np.ceil(np.sqrt(len(y))))\n",
    "#     keep the model\n",
    "    return algo\n",
    "\n",
    "get_linear_model_metrics(features, y, linear_model.Lasso(alpha=10))"
   ]
  },
  {
   "cell_type": "code",
   "execution_count": 585,
   "metadata": {
    "collapsed": false
   },
   "outputs": [
    {
     "name": "stdout",
     "output_type": "stream",
     "text": [
      "<bound method GridSearchCV.fit of GridSearchCV(cv=None, error_score='raise',\n",
      "       estimator=Lasso(alpha=1.0, copy_X=True, fit_intercept=True, max_iter=1000,\n",
      "   normalize=False, positive=False, precompute=False, random_state=None,\n",
      "   selection='cyclic', tol=0.0001, warm_start=False),\n",
      "       fit_params={}, iid=True, n_jobs=1,\n",
      "       param_grid={'alpha': array([  1.00000e-20,   1.00000e-18,   1.00000e-16,   1.00000e-14,\n",
      "         1.00000e-12,   1.00000e-10,   1.00000e-08,   1.00000e-06,\n",
      "         1.00000e-04,   1.00000e-02,   1.00000e+00,   1.00000e+02,\n",
      "         1.00000e+04,   1.00000e+06,   1.00000e+08,   1.00000e+10,\n",
      "         1.00000e+12,   1.00000e+14,   1.00000e+16,   1.00000e+18,\n",
      "         1.00000e+20])},\n",
      "       pre_dispatch='2*n_jobs', refit=True, scoring='r2', verbose=0)>\n",
      "0.209639222422\n",
      "Lasso(alpha=1.0, copy_X=True, fit_intercept=True, max_iter=1000,\n",
      "   normalize=False, positive=False, precompute=False, random_state=None,\n",
      "   selection='cyclic', tol=0.0001, warm_start=False)\n",
      "[mean: -2.13431, std: 1.29824, params: {'alpha': 9.9999999999999995e-21}, mean: -2.13431, std: 1.29824, params: {'alpha': 1.0000000000000001e-18}, mean: -2.13431, std: 1.29824, params: {'alpha': 9.9999999999999998e-17}, mean: -2.13431, std: 1.29824, params: {'alpha': 1e-14}, mean: -2.13431, std: 1.29824, params: {'alpha': 9.9999999999999998e-13}, mean: -2.13431, std: 1.29824, params: {'alpha': 1e-10}, mean: -2.13431, std: 1.29824, params: {'alpha': 1e-08}, mean: -2.13435, std: 1.29813, params: {'alpha': 9.9999999999999995e-07}, mean: -2.19709, std: 1.32315, params: {'alpha': 0.0001}, mean: -2.03148, std: 0.90963, params: {'alpha': 0.01}, mean: 0.20964, std: 0.22561, params: {'alpha': 1.0}, mean: -0.60608, std: 0.66085, params: {'alpha': 100.0}, mean: -1.23543, std: 1.06428, params: {'alpha': 10000.0}, mean: -1.40984, std: 1.12918, params: {'alpha': 1000000.0}, mean: -1.40984, std: 1.12918, params: {'alpha': 100000000.0}, mean: -1.40984, std: 1.12918, params: {'alpha': 10000000000.0}, mean: -1.40984, std: 1.12918, params: {'alpha': 1000000000000.0}, mean: -1.40984, std: 1.12918, params: {'alpha': 100000000000000.0}, mean: -1.40984, std: 1.12918, params: {'alpha': 10000000000000000.0}, mean: -1.40984, std: 1.12918, params: {'alpha': 1e+18}, mean: -1.40984, std: 1.12918, params: {'alpha': 1e+20}]\n"
     ]
    }
   ],
   "source": [
    "from sklearn import grid_search\n",
    "\n",
    "alphas = np.logspace(-20, 20, 21)\n",
    "gs = grid_search.GridSearchCV(\n",
    "    estimator=linear_model.Lasso(),\n",
    "    param_grid={'alpha': alphas},\n",
    "    scoring='r2')\n",
    "\n",
    "gs.fit(features, y)\n",
    "\n",
    "print gs.fit\n",
    "print gs.best_score_\n",
    "print gs.best_estimator_\n",
    "print gs.grid_scores_ "
   ]
  },
  {
   "cell_type": "code",
   "execution_count": 593,
   "metadata": {
    "collapsed": false
   },
   "outputs": [
    {
     "data": {
      "text/plain": [
       "RandomForestRegressor(bootstrap=True, criterion='mse', max_depth=None,\n",
       "           max_features=6, max_leaf_nodes=None, min_samples_leaf=1,\n",
       "           min_samples_split=2, min_weight_fraction_leaf=0.0,\n",
       "           n_estimators=10, n_jobs=1, oob_score=False, random_state=None,\n",
       "           verbose=0, warm_start=False)"
      ]
     },
     "execution_count": 593,
     "metadata": {},
     "output_type": "execute_result"
    }
   ],
   "source": [
    "rf = RandomForestRegressor(max_features=6)\n",
    "rf.fit(features,y)"
   ]
  },
  {
   "cell_type": "code",
   "execution_count": null,
   "metadata": {
    "collapsed": true
   },
   "outputs": [],
   "source": []
  }
 ],
 "metadata": {
  "kernelspec": {
   "display_name": "Python [Root]",
   "language": "python",
   "name": "Python [Root]"
  },
  "language_info": {
   "codemirror_mode": {
    "name": "ipython",
    "version": 2
   },
   "file_extension": ".py",
   "mimetype": "text/x-python",
   "name": "python",
   "nbconvert_exporter": "python",
   "pygments_lexer": "ipython2",
   "version": "2.7.12"
  }
 },
 "nbformat": 4,
 "nbformat_minor": 0
}
